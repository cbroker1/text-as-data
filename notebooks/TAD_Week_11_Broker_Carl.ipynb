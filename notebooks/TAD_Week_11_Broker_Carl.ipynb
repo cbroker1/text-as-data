{
 "cells": [
  {
   "cell_type": "markdown",
   "metadata": {},
   "source": [
    "# TAD_WEEK_11_Broker_Carl"
   ]
  },
  {
   "cell_type": "markdown",
   "metadata": {},
   "source": [
    "### 1) Describe how each of the following metrics can be used to assess a Naive Bayes or other types of classifiers:"
   ]
  },
  {
   "cell_type": "markdown",
   "metadata": {},
   "source": [
    "(Where TP = True Positives, TN = True Negatives, FP = False Positives, and FN = False Negatives.)"
   ]
  },
  {
   "cell_type": "markdown",
   "metadata": {},
   "source": [
    "A. Accuracy"
   ]
  },
  {
   "cell_type": "markdown",
   "metadata": {},
   "source": [
    "<img src=\"../images/accuracy.png\">"
   ]
  },
  {
   "cell_type": "markdown",
   "metadata": {},
   "source": [
    "    source: https://developers.google.com/machine-learning/crash-course/classification/accuracy"
   ]
  },
  {
   "cell_type": "markdown",
   "metadata": {},
   "source": [
    "    The Accuracy metric is useful because it gives us a way to objectivly measure the overall performance of our model."
   ]
  },
  {
   "cell_type": "markdown",
   "metadata": {},
   "source": [
    "   B. Precision"
   ]
  },
  {
   "cell_type": "markdown",
   "metadata": {},
   "source": [
    "<img src=\"../images/precision.png\">"
   ]
  },
  {
   "cell_type": "markdown",
   "metadata": {},
   "source": [
    "    source: https://developers.google.com/machine-learning/crash-course/classification/precision-and-recall"
   ]
  },
  {
   "cell_type": "markdown",
   "metadata": {},
   "source": [
    "    The Precision metric is also useful because it gives us a way to measure the proportion of positive identifications that were actually correct. "
   ]
  },
  {
   "cell_type": "markdown",
   "metadata": {},
   "source": [
    "C. Recall"
   ]
  },
  {
   "cell_type": "markdown",
   "metadata": {},
   "source": [
    "<img src=\"../images/recall.png\">"
   ]
  },
  {
   "cell_type": "markdown",
   "metadata": {},
   "source": [
    "    source: https://developers.google.com/machine-learning/crash-course/classification/precision-and-recall"
   ]
  },
  {
   "cell_type": "markdown",
   "metadata": {},
   "source": [
    "    The Recall metric measures the proportion of actual positives were that identified correctly."
   ]
  },
  {
   "cell_type": "markdown",
   "metadata": {},
   "source": [
    "### 2) Give an example for each of the three metrics above where you believe one would be better suited than the other three."
   ]
  },
  {
   "cell_type": "markdown",
   "metadata": {},
   "source": [
    "A. In video game reviews, it's hard to determine if someone is trolling/memeing. This (fictitious) model claims to be able to detect trolling/memeing with an accuracy of 4%\n",
    "\n",
    "B. If I raise my trolling/memeing classifier's threshold, how do I determine if adjusting such is useful? \n",
    "\n",
    "C. If I raise my trolling/memeing classifier's threshold, and I want to monitor the number of false positives. "
   ]
  },
  {
   "cell_type": "markdown",
   "metadata": {},
   "source": [
    "### 3) Calculate accuracy, precision and recall for your Week 7 or 9 (Naive Bayes or SVM) homework."
   ]
  },
  {
   "cell_type": "code",
   "execution_count": 1,
   "metadata": {},
   "outputs": [
    {
     "data": {
      "text/plain": [
       "MultinomialNB()"
      ]
     },
     "execution_count": 1,
     "metadata": {},
     "output_type": "execute_result"
    }
   ],
   "source": [
    "### import numpy as np\n",
    "import pandas as pd\n",
    "\n",
    "from sklearn.metrics import confusion_matrix\n",
    "from sklearn.naive_bayes import MultinomialNB\n",
    "from sklearn.model_selection import train_test_split\n",
    "from sklearn.feature_extraction.text import CountVectorizer\n",
    "\n",
    "df_game_reviews = pd.read_csv(r'../data/processed/game_reviews_processed.csv', low_memory=False)\n",
    "\n",
    "# clean\n",
    "# subset data that's hand-coded\n",
    "def prune_cols(df):\n",
    "    # keep only needed cols and subset english only\n",
    "    global df_game_reviews\n",
    "    df_game_reviews = df_game_reviews.loc[df_game_reviews['Sentiment'].notnull(), ['recommendationid', 'Sentiment', 'Emotion', 'review']] # subsets for english\n",
    "    df_game_reviews = df_game_reviews.loc[df_game_reviews['review'].notnull(), ['recommendationid', 'Sentiment', 'Emotion', 'review']] # subsets for NaN reviews   \n",
    "    return df_game_reviews\n",
    "\n",
    "prune_cols(df_game_reviews)\n",
    "\n",
    "# clean\n",
    "# one hot encode emotions into new cols\n",
    "\n",
    "def code_cols(df):\n",
    "    df['emotion_code'] = None\n",
    "    df['emotion_joy'] = None\n",
    "    df['emotion_fear'] = None\n",
    "    df['emotion_anger'] = None\n",
    "    df['emotion_sadness'] = None\n",
    "    \n",
    "    for index, row in df.iterrows():\n",
    "        if  df.loc[index,'Emotion'] == 'Joy':\n",
    "            df.loc[index,'emotion_code'] = 1\n",
    "        elif df.loc[index,'Emotion'] == 'Anger':\n",
    "            df.loc[index,'emotion_code'] = 2\n",
    "        elif df.loc[index,'Emotion'] == 'Fear':\n",
    "            df.loc[index,'emotion_code'] = 3\n",
    "        else:\n",
    "            df.loc[index,'emotion_code'] = 4\n",
    "        \n",
    "    \n",
    "    for index, row in df.iterrows():\n",
    "        if  df.loc[index,'Emotion'] == 'Joy':\n",
    "            df.loc[index,'emotion_joy'] = 1\n",
    "            df.loc[index,'emotion_fear'] = 0\n",
    "            df.loc[index,'emotion_anger'] = 0\n",
    "            df.loc[index,'emotion_sadness'] = 0\n",
    "        elif df.loc[index,'Emotion'] == 'Anger':\n",
    "            df.loc[index,'emotion_joy'] = 0\n",
    "            df.loc[index,'emotion_fear'] = 0\n",
    "            df.loc[index,'emotion_anger'] = 1\n",
    "            df.loc[index,'emotion_sadness'] = 0\n",
    "        elif df.loc[index,'Emotion'] == 'Fear':\n",
    "            df.loc[index,'emotion_joy'] = 0\n",
    "            df.loc[index,'emotion_fear'] = 1\n",
    "            df.loc[index,'emotion_anger'] = 0\n",
    "            df.loc[index,'emotion_sadness'] = 0\n",
    "        else:\n",
    "            df.loc[index,'emotion_joy'] = 0\n",
    "            df.loc[index,'emotion_fear'] = 0\n",
    "            df.loc[index,'emotion_anger'] = 0\n",
    "            df.loc[index,'emotion_sadness'] = 1\n",
    "    \n",
    "    #set dtype()\n",
    "    df['emotion_code'] = df['emotion_code'].astype('int64')    \n",
    "    df['emotion_joy'] = df['emotion_joy'].astype('int64')\n",
    "    df['emotion_fear'] = df['emotion_fear'].astype('int64')\n",
    "    df['emotion_anger'] = df['emotion_anger'].astype('int64')\n",
    "    df['emotion_sadness'] = df['emotion_sadness'].astype('int64')\n",
    "        \n",
    "    return df\n",
    "\n",
    "code_cols(df_game_reviews)\n",
    "\n",
    "#vectorize\n",
    "vectorizer = CountVectorizer(stop_words='english')\n",
    "\n",
    "#build features\n",
    "all_features = vectorizer.fit_transform(df_game_reviews['review'])\n",
    "\n",
    "\n",
    "#split up dataset\n",
    "X_train, X_test, y_train, y_test = train_test_split(all_features, df_game_reviews.emotion_code, \n",
    "                                                    test_size=0.3, random_state=42)\n",
    "\n",
    "#call model \n",
    "classifier = MultinomialNB()\n",
    "\n",
    "#fit model\n",
    "classifier.fit(X_train, y_train)"
   ]
  },
  {
   "cell_type": "markdown",
   "metadata": {},
   "source": [
    "### Accuracy, Precision, Recall"
   ]
  },
  {
   "cell_type": "code",
   "execution_count": 2,
   "metadata": {},
   "outputs": [
    {
     "data": {
      "text/plain": [
       "(48, 34, 0, 0)"
      ]
     },
     "execution_count": 2,
     "metadata": {},
     "output_type": "execute_result"
    }
   ],
   "source": [
    "#calculate TP, FP, TN, FN\n",
    "y_true = []\n",
    "y_pred = classifier.predict(X_test)\n",
    "y_hat = []\n",
    "\n",
    "for item in y_test:\n",
    "    y_true.append(item)\n",
    "    \n",
    "for item in y_pred:\n",
    "    y_hat.append(item)\n",
    "    \n",
    "    \n",
    "def perf_measure(y_true, y_hat):\n",
    "    TP = 0\n",
    "    FP = 0\n",
    "    TN = 0\n",
    "    FN = 0\n",
    "\n",
    "    for i in range(len(y_hat)): \n",
    "        if y_true[i]==y_hat[i]==1:\n",
    "           TP += 1\n",
    "        if y_hat[i]==1 and y_true[i]!=y_hat[i]:\n",
    "           FP += 1\n",
    "        if y_true[i]==y_hat[i]==0:\n",
    "           TN += 1\n",
    "        if y_hat[i]==0 and y_true[i]!=y_hat[i]:\n",
    "           FN += 1\n",
    "\n",
    "    return(TP, FP, TN, FN)\n",
    "\n",
    "perf_measure(y_true, y_hat)"
   ]
  },
  {
   "cell_type": "code",
   "execution_count": 3,
   "metadata": {},
   "outputs": [
    {
     "name": "stdout",
     "output_type": "stream",
     "text": [
      "51 documents classified correctly\n",
      "37 documents classified incorrectly\n",
      "The (testing) Accuracy of the model is 57.95%\n",
      "The (testing) Precision of the model is 58.54%\n",
      "The (testing) Recall of the model is 100.00%\n"
     ]
    }
   ],
   "source": [
    "# return count of correctly perdicted docs\n",
    "nr_correct = (y_test == classifier.predict(X_test)).sum()\n",
    "print(f'{nr_correct} documents classified correctly')\n",
    "\n",
    "# retrun incorrectly perdicted docs\n",
    "nr_incorrect = y_test.size - nr_correct\n",
    "print(f'{nr_incorrect} documents classified incorrectly')\n",
    "\n",
    "# return accuracy\n",
    "acc = nr_correct / (y_test.size)\n",
    "print(f'The (testing) Accuracy of the model is {acc:.2%}')\n",
    "\n",
    "# return precision\n",
    "pre = 48/(48+34)\n",
    "print(f'The (testing) Precision of the model is {pre:.2%}')\n",
    "\n",
    "# return Recall\n",
    "rec = 48/(48+0)\n",
    "print(f'The (testing) Recall of the model is {rec:.2%}')"
   ]
  },
  {
   "cell_type": "markdown",
   "metadata": {},
   "source": [
    "### 4) Vary input data in at least three ways"
   ]
  },
  {
   "cell_type": "markdown",
   "metadata": {},
   "source": [
    "(Eg: Drop/don't drop stop words, keep only common words, label more data) and compute accuracy, precision and recall each time. \n",
    "\n",
    "I edited the random seed (42, 15, 87)"
   ]
  },
  {
   "cell_type": "code",
   "execution_count": 4,
   "metadata": {},
   "outputs": [
    {
     "data": {
      "text/plain": [
       "(53, 25, 0, 0)"
      ]
     },
     "execution_count": 4,
     "metadata": {},
     "output_type": "execute_result"
    }
   ],
   "source": [
    "#ver 2:\n",
    "\n",
    "#split data w/different random seed\n",
    "X_train, X_test, y_train, y_test = train_test_split(all_features, df_game_reviews.emotion_code, \n",
    "                                                    test_size=0.3, random_state=15)\n",
    "\n",
    "#fit new model\n",
    "classifier.fit(X_train, y_train)\n",
    "\n",
    "# calculate TP, FP, TN, FN\n",
    "y_true = []\n",
    "y_pred = classifier.predict(X_test)\n",
    "y_hat = []\n",
    "\n",
    "for item in y_test:\n",
    "    y_true.append(item)\n",
    "    \n",
    "for item in y_pred:\n",
    "    y_hat.append(item)\n",
    "perf_measure(y_true, y_hat)"
   ]
  },
  {
   "cell_type": "code",
   "execution_count": 5,
   "metadata": {},
   "outputs": [
    {
     "name": "stdout",
     "output_type": "stream",
     "text": [
      "58 documents classified correctly\n",
      "30 documents classified incorrectly\n",
      "The (testing) Accuracy of the model is 65.91%\n",
      "The (testing) Precision of the model is 67.95%\n",
      "The (testing) Recall of the model is 100.00%\n"
     ]
    }
   ],
   "source": [
    "# return count of correctly perdicted docs\n",
    "nr_correct = (y_test == classifier.predict(X_test)).sum()\n",
    "print(f'{nr_correct} documents classified correctly')\n",
    "\n",
    "# retrun incorrectly perdicted docs\n",
    "nr_incorrect = y_test.size - nr_correct\n",
    "print(f'{nr_incorrect} documents classified incorrectly')\n",
    "\n",
    "# return accuracy\n",
    "acc = nr_correct / (y_test.size)\n",
    "print(f'The (testing) Accuracy of the model is {acc:.2%}')\n",
    "\n",
    "# return precision\n",
    "pre = 53/(53+25)\n",
    "print(f'The (testing) Precision of the model is {pre:.2%}')\n",
    "\n",
    "# return Recall\n",
    "rec = 53/(53+0)\n",
    "print(f'The (testing) Recall of the model is {rec:.2%}')"
   ]
  },
  {
   "cell_type": "code",
   "execution_count": 6,
   "metadata": {},
   "outputs": [
    {
     "data": {
      "text/plain": [
       "(50, 28, 0, 0)"
      ]
     },
     "execution_count": 6,
     "metadata": {},
     "output_type": "execute_result"
    }
   ],
   "source": [
    "#ver 3:\n",
    "\n",
    "#split data w/different random seed\n",
    "X_train, X_test, y_train, y_test = train_test_split(all_features, df_game_reviews.emotion_code, \n",
    "                                                    test_size=0.3, random_state=87)\n",
    "\n",
    "#fit new model\n",
    "classifier.fit(X_train, y_train)\n",
    "\n",
    "# calculate TP, FP, TN, FN\n",
    "y_true = []\n",
    "y_pred = classifier.predict(X_test)\n",
    "y_hat = []\n",
    "\n",
    "for item in y_test:\n",
    "    y_true.append(item)\n",
    "    \n",
    "for item in y_pred:\n",
    "    y_hat.append(item)\n",
    "perf_measure(y_true, y_hat)"
   ]
  },
  {
   "cell_type": "code",
   "execution_count": 7,
   "metadata": {},
   "outputs": [
    {
     "name": "stdout",
     "output_type": "stream",
     "text": [
      "57 documents classified correctly\n",
      "31 documents classified incorrectly\n",
      "The (testing) Accuracy of the model is 64.77%\n",
      "The (testing) Precision of the model is 67.95%\n",
      "The (testing) Recall of the model is 100.00%\n"
     ]
    }
   ],
   "source": [
    "# return count of correctly perdicted docs\n",
    "nr_correct = (y_test == classifier.predict(X_test)).sum()\n",
    "print(f'{nr_correct} documents classified correctly')\n",
    "\n",
    "# retrun incorrectly perdicted docs\n",
    "nr_incorrect = y_test.size - nr_correct\n",
    "print(f'{nr_incorrect} documents classified incorrectly')\n",
    "\n",
    "# return accuracy\n",
    "acc = nr_correct / (y_test.size)\n",
    "print(f'The (testing) Accuracy of the model is {acc:.2%}')\n",
    "\n",
    "# return precision\n",
    "pre = 53/(53+25)\n",
    "print(f'The (testing) Precision of the model is {pre:.2%}')\n",
    "\n",
    "# return Recall\n",
    "rec = 53/(53+0)\n",
    "print(f'The (testing) Recall of the model is {rec:.2%}')"
   ]
  },
  {
   "cell_type": "markdown",
   "metadata": {},
   "source": [
    "What worked the best? "
   ]
  },
  {
   "cell_type": "markdown",
   "metadata": {},
   "source": [
    "ver2"
   ]
  },
  {
   "cell_type": "code",
   "execution_count": 8,
   "metadata": {},
   "outputs": [
    {
     "name": "stdout",
     "output_type": "stream",
     "text": [
      "Object `better` not found.\n"
     ]
    }
   ],
   "source": [
    "Why do you think it worked better?"
   ]
  },
  {
   "cell_type": "code",
   "execution_count": null,
   "metadata": {},
   "outputs": [],
   "source": [
    "Why do you think it worked better"
   ]
  },
  {
   "cell_type": "markdown",
   "metadata": {},
   "source": [
    "Test and train frequency distributions of classifications are more-even than the other random seeds."
   ]
  },
  {
   "cell_type": "markdown",
   "metadata": {},
   "source": [
    "### 5) Super Bonus Question: Create and explain a confusion matrix for one of your model results."
   ]
  },
  {
   "cell_type": "code",
   "execution_count": 9,
   "metadata": {},
   "outputs": [
    {
     "data": {
      "text/plain": [
       "array([[50,  0,  0,  1],\n",
       "       [15,  4,  0,  1],\n",
       "       [ 2,  1,  1,  0],\n",
       "       [11,  0,  0,  2]], dtype=int64)"
      ]
     },
     "execution_count": 9,
     "metadata": {},
     "output_type": "execute_result"
    }
   ],
   "source": [
    "confusion_matrix(y_true, y_hat)"
   ]
  },
  {
   "cell_type": "markdown",
   "metadata": {},
   "source": [
    "For binary classification, sure, but for mine I couldn't wrap my head around interpreting its confusion matrix. "
   ]
  }
 ],
 "metadata": {
  "kernelspec": {
   "display_name": "text_data",
   "language": "python",
   "name": "text_data"
  },
  "language_info": {
   "codemirror_mode": {
    "name": "ipython",
    "version": 3
   },
   "file_extension": ".py",
   "mimetype": "text/x-python",
   "name": "python",
   "nbconvert_exporter": "python",
   "pygments_lexer": "ipython3",
   "version": "3.7.7"
  }
 },
 "nbformat": 4,
 "nbformat_minor": 4
}
