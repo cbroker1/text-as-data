{
 "cells": [
  {
   "cell_type": "code",
   "execution_count": null,
   "metadata": {},
   "outputs": [],
   "source": [
    "#HI RED BARON"
   ]
  },
  {
   "cell_type": "markdown",
   "metadata": {},
   "source": [
    "# TAD_FINAL_PROJECT_Broker_Carl"
   ]
  },
  {
   "cell_type": "markdown",
   "metadata": {},
   "source": [
    "- [1. Research Question](#1.)\n",
    "- [2. Import Datasets](#2.)\n",
    "  - [2.1 Setup](#2.1)\n",
    "  - [2.2 Import Game Reviews via API](#2.2)\n",
    "  - [2.3 Clean Game Reviews](#2.3)\n",
    "  - [2.4 Save Game Reviews](#2.4)\n",
    "  - [2.5 Import 'Users Per Day'](#2.5)\n",
    "- [3. Analysis](#3.)\n",
    "  - [3.1 Sentiment Analysis](#3.1)\n",
    "    - [3.1.1 Setup](#3.1.1)\n",
    "    - [3.1.2 Load Training Datasets and Pre-Process](#3.1.2)\n",
    "    - [3.1.3 Pre-Process Cont. (Tokenize Data)](#3.1.3)\n",
    "    - [3.1.4 Neural Network Sentiment Classification with BERT and Hugging Face](#3.1.4)\n",
    "    - [3.1.5 Training (of Model)](#3.1.5)\n",
    "    - [3.1.6 Sentiment Analysis of Game Reviews](#3.1.6)\n",
    "  - [3.2 Sentiment Over Time](#3.2)\n",
    "    - [3.2.1 Setup](#3.2.1)\n",
    "    - [3.2.2 Figures](#3.2.2)\n",
    "  - [3.3 Sentiment Distribution vs. Twitch Views](#3.3)\n",
    "- [4. Closing Thoughts](#4.)"
   ]
  },
  {
   "cell_type": "markdown",
   "metadata": {},
   "source": [
    "<a id='#1.'></a>"
   ]
  },
  {
   "cell_type": "markdown",
   "metadata": {},
   "source": [
    "## 1. Research Question"
   ]
  },
  {
   "cell_type": "markdown",
   "metadata": {},
   "source": [
    "        I am currently seeking employment in the field of Machine Learning, and gearing my coursework around such. \n",
    "        \n",
    "        For several years, since I played Halflife as a boy, I've dreamed of working at Valve. So, as I progress through my career I submit a job applicaiton to them yearly. In 2018 a team member there responsed to my application and said I wasn't ready. So, I've maintained contact with them showcasing my progress in Graduate School. This summer, studying Natural Language Processing(NLP) gave me the enviornament I needed to scratch the surface of game reviews and what analyzing such entails. Below you will find the suggestions the Valve member gave me to explore during my summer course. I attempted, keyword 'attempted' here, to answer as many of them as I could. Please see my 4. Closing Thoughts section for description of my successes and failures."
   ]
  },
  {
   "cell_type": "markdown",
   "metadata": {},
   "source": [
    "Hi Carl,\n",
    "\n",
    "There would seem to be a wide range of analyses to pursue:\n",
    "\n",
    "--Can you predict review scores from review text?\n",
    "\n",
    "--If yes, why?  If not, why not?\n",
    "\n",
    "--Do review texts predict game sales, user counts, retention over time, etc.?\n",
    "\n",
    "--Can you quantify user sentiment about a game? \n",
    "\n",
    "--Can you watch that sentiment shift over time?\n",
    "\n",
    "--How many different sentiments can you identify?\n",
    "\n",
    "--How many reviews contain multiple sentiments? \n",
    "\n",
    "I’m sure there are many more, but those are a few that seemed useful off the top of my head.\n",
    "\n",
    "Best of luck with the project!\n",
    "\n",
    "Mike\n",
    "Steam"
   ]
  },
  {
   "cell_type": "markdown",
   "metadata": {},
   "source": [
    "(Over the Summer I attempted to answer as many of these questions as I could.)"
   ]
  },
  {
   "cell_type": "markdown",
   "metadata": {},
   "source": [
    "<a id='#2.'></a>"
   ]
  },
  {
   "cell_type": "markdown",
   "metadata": {},
   "source": [
    "## 2. Import Datasets:"
   ]
  },
  {
   "cell_type": "markdown",
   "metadata": {},
   "source": [
    "<a id='#2.1'></a>"
   ]
  },
  {
   "cell_type": "markdown",
   "metadata": {},
   "source": [
    "### 2.1 Setup"
   ]
  },
  {
   "cell_type": "code",
   "execution_count": 2,
   "metadata": {},
   "outputs": [
    {
     "name": "stdout",
     "output_type": "stream",
     "text": [
      "Python version\n",
      "3.8.12 (default, Oct 12 2021, 03:01:40) [MSC v.1916 64 bit (AMD64)]\n",
      "Version info.\n",
      "sys.version_info(major=3, minor=8, micro=12, releaselevel='final', serial=0)\n",
      "---------------\n"
     ]
    }
   ],
   "source": [
    "# import packages\n",
    "import os\n",
    "import sys\n",
    "import time\n",
    "import json\n",
    "import numpy as np\n",
    "import pandas as pd\n",
    "import urllib.parse\n",
    "import urllib.request\n",
    "from tqdm import tqdm\n",
    "import plotly.express as px\n",
    "from datetime import datetime\n",
    "from pandas import json_normalize\n",
    "from tqdm import tqdm\n",
    "\n",
    "# list package ver. etc.\n",
    "print(\"Python version\")\n",
    "print (sys.version)\n",
    "print(\"Version info.\")\n",
    "print (sys.version_info)\n",
    "print('---------------')"
   ]
  },
  {
   "cell_type": "markdown",
   "metadata": {},
   "source": [
    "<a id='#2.2'></a>"
   ]
  },
  {
   "cell_type": "markdown",
   "metadata": {},
   "source": [
    "## 2.2 Import Game Reviews via API\n",
    "##### (API Documentation: https://partner.steamgames.com/doc/store/getreviews)"
   ]
  },
  {
   "cell_type": "code",
   "execution_count": 2,
   "metadata": {},
   "outputs": [
    {
     "name": "stdout",
     "output_type": "stream",
     "text": [
      "AoJ4h4iR/PwCfv/yrgE=\n",
      "AoJ4z/7E9/wCcJKGhgM=\n",
      "AoJwj43r8vwCeYTUhQM=\n",
      "AoJ42ca57vwCecGCfw==\n",
      "AoJwxsuE6/wCe772hAM=\n",
      "AoJw3NP95vwCfpq/hAM=\n",
      "AoJwxdqo4vwCf9aLhAM=\n",
      "AoJ496T03fwCc8XjgwM=\n",
      "AoJwwr6m2PwCddCogwM=\n",
      "AoJ49NKD1PwCeL35ggM=\n",
      "AoJ4nsuQz/wCdPbNggM=\n",
      "AoJw/LzsyPwCf8KWggM=\n",
      "AoJw1NKGxPwCcuvigQM=\n",
      "AoJw88S4vfwCfIamgQM=\n",
      "AoJ4%2BIWPuPwCeYmdoQI=\n",
      "AoJ4gcDgsvwCff27gAM=\n",
      "AoJ4i5rArvwCdq%2BRgAM=\n",
      "AoJwxMXuqPwCfsPT/wI=\n",
      "AoJw0dS5pfwCdv2s/wI=\n",
      "AoJ44LbwofwCf/yLsgI=\n",
      "AoJwiLb0nPwCd5bC/gI=\n",
      "AoJ4t9uimPwCfoyC/gI=\n",
      "AoJw98Csk/wCfsDM/QI=\n",
      "AoJ41IS7j/wCet%2Bo/QI=\n",
      "AoJ4jtiXi/wCc9P8/AI=\n",
      "AoJ49MufhvwCcaTO/AI=\n",
      "AoJ4iYXtgfwCdbii/AI=\n",
      "AoJ4g9m0/fsCf6fx%2BwI=\n",
      "AoJ4kpGD%2BfsCdcK/%2BwI=\n",
      "AoJwpZax9PsCc6aP%2BwI=\n",
      "AoJwxrCK7/sCfJjb%2BgI=\n",
      "AoJwzPTS6/sCcc%2Bz%2BgI=\n",
      "AoJ44tak6PsCeY6K%2BgI=\n",
      "AoJwh/bx4/sCe7/f%2BQI=\n",
      "AoJw//PK3vsCdrSm%2BQI=\n",
      "AoJwxYzj2vsCfYH9%2BAI=\n",
      "AoJw2/uN1/sCdOrV%2BAI=\n",
      "AoJ40cu00vsCev2n%2BAI=\n",
      "AoJ4z9iuzvsCcMmA%2BAI=\n",
      "AoJ4qpiLy/sCdrrU6wE=\n",
      "AoJ487Kix/sCdsOx9wI=\n",
      "AoJ4nqP0w/sCd6iJ9wI=\n",
      "AoJ435yJwPsCdqXu4QI=\n",
      "AoJ4n7L5u/sCepDZdg==\n",
      "AoJ4gbCJuPsCcvH8eg==\n",
      "AoJ49rHbtPsCcMOirAI=\n",
      "AoJw%2BN3qsfsCfe3D9QI=\n",
      "AoJwhvT4rvsCctKi9QI=\n",
      "AoJwvNirrfsCcrGS9QI=\n",
      "AoJ4h4/nqvsCdKT19AI=\n",
      "AoJ4mLHKpvsCerfD9AI=\n",
      "AoJ49KWxo/sCc%2Byc9AI=\n",
      "AoJ43tvonvsCcY7k8wI=\n",
      "AoJ43NiUmvsCed%2Bq8wI=\n",
      "AoJwju7VlfsCed328gI=\n",
      "AoJ4gfm8kfsCf6DG8gI=\n",
      "AoJw0vL1jPsCfIuQ8gI=\n",
      "AoJ4172ciPsCe%2BXb8QI=\n",
      "AoJw8Iizg/sCf%2BGBhQI=\n",
      "AoJ4m6/v/voCfaLz8AI=\n",
      "AoJ4tNHi%2BfoCfau68AI=\n",
      "AoJ4vYux9foCfo2K8AI=\n",
      "AoJ47//18PoCc8/a7wI=\n",
      "AoJw2cKD7foCeJSy7wI=\n",
      "AoJ48sTN6PoCe5KE7wI=\n",
      "AoJ4s/rR4/oCfpXS7gI=\n",
      "AoJ4y/va3/oCceSm7gI=\n",
      "AoJw0KfD2/oCceP1%2BwE=\n",
      "AoJ4m5%2BZ1/oCdv/H7QI=\n",
      "AoJwntSa0/oCcMqc7QI=\n",
      "AoJwq7fNzvoCfNvn7AI=\n",
      "AoJ4y/fHyvoCe5O17AI=\n",
      "AoJwp9iSx/oCdpGK7AI=\n",
      "AoJ4rsSMxPoCctDi6wI=\n",
      "AoJ4lcLQwfoCfpXA6wI=\n",
      "AoJwhrqOv/oCdPSb6wI=\n",
      "AoJ4jPT8u/oCeZXw6gI=\n",
      "AoJw363VuPoCdbDA6gI=\n",
      "AoJ4jdfgtfoCf9uW6gI=\n",
      "AoJ4oObUsvoCdOPs6QI=\n",
      "AoJ4hpqYr/oCd/y76QI=\n",
      "AoJw36LTrPoCc5aX6QI=\n",
      "AoJ4mYTIqvoCcIP56AI=\n",
      "AoJ49bSVqfoCfuji6AI=\n",
      "AoJw%2BMKgpvoCdYe36AI=\n",
      "AoJ4mdLDo/oCfJ%2BJ6AI=\n",
      "AoJ4%2BaemoPoCdLLd5wI=\n",
      "AoJwjfrZmvoCd9Wk5wI=\n",
      "AoJ4/u6QlvoCebD35gI=\n",
      "AoJ4w96akvoCc6DN5gI=\n",
      "AoJw1ZPHjfoCe5mg5gI=\n",
      "AoJ4gdeVifoCePb25QI=\n",
      "AoJw9KWhhPoCccL80AI=\n",
      "AoJw2aivgPoCeM%2BU5QI=\n",
      "AoJ45JOe/PkCfJbq5AI=\n",
      "AoJwvOTY9vkCfO2z5AI=\n",
      "AoJw2q7J8vkCd%2B6H5AI=\n",
      "AoJ4ksv27vkCcvDd4wI=\n",
      "AoJwh%2Byb6/kCdriv4wI=\n",
      "AoJw75nF5/kCf6qW4QI=\n",
      "AoJwiIPF5PkCeJrX1AI=\n",
      "AoJwpp6Y4fkCetG/4gI=\n",
      "AoJ40Kq73vkCfved4gI=\n",
      "AoJwgani2/kCcej54QI=\n",
      "AoJwyOqF2fkCds7Y4QI=\n",
      "AoJwusWR1fkCfNGy4QI=\n",
      "AoJw4ZKA0fkCfq2J4QI=\n",
      "AoJwnO/IzfkCf9C%2BhQI=\n",
      "AoJ4iLz/yPkCf5e34AI=\n",
      "AoJw%2B5KvxfkCc5y9zAI=\n",
      "AoJwxIj5wvkCcZ793wI=\n",
      "AoJw1vfevvkCeazV3wI=\n",
      "AoJw%2BaW5u/kCd7LCqQE=\n",
      "AoJwnZ3BuPkCeLuT3wI=\n",
      "AoJ4r%2B6mtfkCfN/t3gI=\n",
      "AoJw79mls/kCeeja3gI=\n",
      "AoJ43576rvkCc%2BLzswI=\n",
      "AoJ4iIfBq/kCepOL3gI=\n",
      "AoJ4wN24p/kCd//e3QI=\n",
      "AoJ4s/bLo/kCdICx3QI=\n",
      "AoJw2dr0nvkCeK6C3QI=\n",
      "AoJwgY60mvkCe6qT3gE=\n",
      "AoJ4l5f5lvkCf/mk3AI=\n",
      "AoJ47L%2BKk/kCe9j22wI=\n",
      "AoJw2JvKjvkCfunB2wI=\n",
      "AoJw9Pb6ivkCeN2g2wI=\n",
      "AoJwmfmdh/kCdub62gI=\n",
      "AoJ41sGgg/kCc%2BjR2gI=\n",
      "AoJ4mKCw//gCf92k2gI=\n",
      "AoJwzOLG%2BvgCdqD42QI=\n",
      "AoJ4uIe09vgCet3Q2QI=\n",
      "AoJwutG58/gCcuL7Zg==\n",
      "AoJwibfe8PgCfKiV2QI=\n",
      "AoJ4hvfI7vgCeb782AI=\n",
      "AoJwvqGp6/gCcL/a2AI=\n",
      "AoJwt%2B/66PgCdabD2AI=\n",
      "AoJw9sS05vgCffqo2AI=\n",
      "AoJwnKzS4vgCcaGA2AI=\n",
      "AoJw47GM3/gCd4fZ1wI=\n",
      "AoJwkoiC3PgCf5vBrgE=\n",
      "AoJ4utvW2PgCfoKM1wI=\n",
      "AoJ45ZyO1fgCcrLm1gI=\n",
      "AoJw/JiB0vgCc6PF1gI=\n",
      "AoJ40fagz/gCd6%2Bj1gI=\n",
      "AoJww4jyzPgCecOF1gI=\n",
      "AoJ4lYzcyfgCearZ1QI=\n",
      "AoJw2LfyxvgCc5601QI=\n",
      "AoJw3NrexPgCeZnktwI=\n",
      "AoJ4l7/KwPgCct/r1AI=\n",
      "AoJ4urDlvPgCdbrA1AI=\n",
      "AoJw/qqnuvgCec6g1AI=\n",
      "AoJw/uHxt/gCetGB1AI=\n",
      "AoJw%2BZbZtfgCdP7p0wI=\n",
      "AoJ4g5fMsvgCeszH0wI=\n",
      "AoJw0OqfrvgCdaeY0wI=\n",
      "AoJw/e74qvgCf9T00gI=\n",
      "AoJ4kb/sp/gCf%2BvN0gI=\n",
      "AoJw%2Br7HpPgCeLKp0gI=\n",
      "AoJ4hMrjoPgCcJr/0QI=\n",
      "AoJwxa/cnPgCecPV0QI=\n",
      "AoJ45IyFmfgCdLmw0QI=\n",
      "AoJ47t%2BNlvgCe7qM0QI=\n",
      "AoJ4/IPEkvgCe%2Bbi0AI=\n",
      "AoJ4zcmtj/gCe6i8wgI=\n",
      "AoJ4w/qLjPgCfMaf0AI=\n",
      "AoJwqMbciPgCfoPFnwI=\n",
      "AoJ457CIhvgCdcrdzwI=\n",
      "AoJwpL2pg/gCevS7zwI=\n",
      "AoJ4wNKQgfgCeYaizwI=\n",
      "AoJ40JPF//cCcfKSzwI=\n",
      "AoJ4lqne%2B/cCct7pzgI=\n",
      "AoJwmqy1%2BPcCeZDHqQI=\n",
      "AoJ46qSS9vcCcIquzgI=\n",
      "AoJwlM2N9PcCctSRlAI=\n",
      "AoJw9rTI8vcCcv6DzgI=\n",
      "AoJ41KmG8fcCceDvzQI=\n",
      "AoJ4s6S77/cCfOHczQI=\n",
      "AoJ4opaN7vcCdYXNzQI=\n",
      "AoJ4nvXV7PcCd6e7zQI=\n",
      "AoJ4kI/E6/cCfa%2BuzQI=\n",
      "AoJw4uLF6vcCduCfpgI=\n",
      "AoJ4sPy25/cCetr8zAI=\n",
      "AoJ4ncWO5PcCefvVzAI=\n",
      "AoJwv%2B3/4PcCd%2BWvzAI=\n",
      "AoJw5JaT3vcCftSKzAI=\n",
      "AoJ4s6vL2/cCd9noywI=\n",
      "AoJ49b2a2fcCfKvHywI=\n",
      "AoJ4uJvD1vcCd%2BWgywI=\n",
      "AoJ4oeHT0/cCcrHyygI=\n",
      "AoJ40t6d0fcCfsvLygI=\n",
      "AoJ44tmVz/cCdOuoygI=\n",
      "AoJwjpaYzfcCcJGIygI=\n",
      "AoJ4496%2ByvcCe7jiyQI=\n",
      "AoJ4lozgxvcCepK2yQI=\n",
      "AoJw3JbawvcCdLSCyQI=\n",
      "AoJwl4P0vvcCc%2BDWlgE=\n",
      "AoJwz7nJu/cCcqKoyAI=\n",
      "AoJ4w/a4uPcCf9%2BByAI=\n",
      "AoJwiYzZtPcCdJDYxwI=\n",
      "AoJwk9e6sfcCdaiwxwI=\n",
      "AoJwoLTsrfcCfeCGxwI=\n",
      "AoJ4g8TeqvcCcdPfxgI=\n",
      "AoJwg77zpvcCf4muxgI=\n",
      "AoJ4mJTaovcCepqAxgI=\n",
      "AoJwweWFn/cCccLWxQI=\n",
      "AoJwuICKm/cCf4OtxQI=\n",
      "AoJ4yv2KmPcCdtaIxQI=\n",
      "AoJ4k/j/lPcCfvnjxAI=\n",
      "AoJ40tGRkfcCdYibjQI=\n",
      "AoJwzKvbjfcCe4SYxAI=\n",
      "AoJ48fO2ifcCeJrmwwI=\n",
      "AoJwpoXzhvcCdMfIwwI=\n",
      "AoJ4/OeygvcCdMOTwwI=\n",
      "AoJ4xNjl/vYCdfTtwgI=\n",
      "AoJwxKDe%2B/YCdL/JwgI=\n",
      "AoJ4mZ/z%2BPYCcMqowgI=\n",
      "AoJ4%2BYnP9fYCcbP96wE=\n",
      "AoJwjMjk8vYCdbfcwQI=\n",
      "AoJwyL%2BT8PYCfrG6wQI=\n",
      "AoJ47LK/7fYCfreXwQI=\n",
      "AoJw96%2Bw6/YCfJn4wAI=\n",
      "AoJw%2Brze6PYCetDQwAI=\n",
      "AoJwwZHP5vYCdvWuwAI=\n",
      "AoJws5qc5PYCceiIwAI=\n",
      "AoJ4/9ea4vYCdJbovwI=\n",
      "AoJ4w5WT4PYCdc/GvwI=\n",
      "AoJwnPmD3vYCdo2lvwI=\n",
      "AoJ4uYy02/YCd4P%2BvgI=\n",
      "AoJw8/yx2fYCd73bvgI=\n",
      "AoJw362c1/YCeK%2B2vgI=\n",
      "AoJwu/WO1fYCe9uTvgI=\n",
      "AoJ41u3j0vYCdN3rvQI=\n",
      "AoJ4/aCr0PYCeqTAvQI=\n",
      "AoJw%2BfuozvYCf8WdvQI=\n",
      "AoJ4rerGy/YCf4b0vAI=\n",
      "AoJw7aGDyfYCe9XPvAI=\n",
      "AoJwru6jxvYCdYPeggE=\n",
      "AoJ4gO64w/YCeYGCvAI=\n",
      "AoJ4nZq%2BwPYCe5OusQI=\n",
      "AoJwsb3OvfYCeOS3uwI=\n",
      "AoJwmKfvuvYCd9eVuwI=\n",
      "AoJwh8eLuPYCe/jzugI=\n",
      "AoJ46MbItfYCc7/VugI=\n",
      "AoJ4rbnLs/YCcPy8ugI=\n",
      "AoJ4uqqasvYCdMmqugI=\n",
      "AoJ4vpy9sfYCdNOcugI=\n",
      "AoJw%2BoabsfYCfb6YugI=\n",
      "AoJ4ypfqsPYCcP%2BRugI=\n",
      "AoJ4gdiXsPYCe8OIugI=\n",
      "AoJ408iyr/YCeqX/uQI=\n",
      "AoJ407jkrvYCeaL2uQI=\n",
      "AoJ4zZKervYCfIP2uAI=\n",
      "AoJwnsu2rfYCdePeuQI=\n",
      "AoJw2P%2B9rPYCfdPQuQI=\n",
      "AoJwyLboq/YCcavDuQI=\n",
      "AoJw3eqBq/YCepazuQI=\n",
      "AoJ40Kr4qfYCdoSfuQI=\n",
      "AoJwybKOqfYCcuaNuQI=\n",
      "AoJwjPflp/YCd7f4uAI=\n",
      "AoJw8Y%2B9pfYCcobIuAI=\n",
      "AoJ47LTMo/YCdbyvuAI=\n",
      "AoJ455jRoPYCdeyQuAI=\n",
      "AoJwx6SpnfYCevzvtwI=\n",
      "AoJ4najYmvYCdNDQtwI=\n",
      "AoJw2cCDmPYCfM%2BmiwI=\n",
      "AoJww4%2BDlfYCf5WItwI=\n",
      "AoJ4v/3CkvYCcYjrtgI=\n",
      "AoJ4s%2Bv8j/YCdJPCrwI=\n",
      "AoJ4wtmtj/YCe4W4tgI=\n",
      "AoJw4bbbjvYCdvektgI=\n",
      "AoJw1JD6jfYCeLKUtgI=\n",
      "AoJw0dG7jfYCeI3vowI=\n",
      "AoJ4qvqBjfYCds32tQI=\n",
      "AoJ4k/3LjPYCeuTmtQI=\n",
      "AoJw%2Bq2AjPYCcZzWtQI=\n",
      "AoJ48tW1i/YCe8XJtQI=\n",
      "AoJw0bj2ivYCfKK8tQI=\n",
      "AoJ43ZrOivYCdK6wtQI=\n",
      "AoJwm%2BGbivYCfu%2BftQI=\n",
      "AoJ4irvrifYCfIaQtQI=\n",
      "AoJwv7SpifYCcrT/tAI=\n",
      "AoJ46J/fiPYCdaDvtAI=\n",
      "AoJwqeiriPYCdY3htAI=\n",
      "AoJw%2Be%2BEiPYCfujTtAI=\n",
      "AoJwtrDbh/YCfIrlmAI=\n",
      "AoJwlPKth/YCeNWytAI=\n",
      "AoJ4/pGDh/YCe4SktAI=\n",
      "AoJ4ltbAhvYCfOyStAI=\n",
      "AoJwjaiEhvYCecKDtAI=\n",
      "AoJwptDmhfYCfqz5swI=\n",
      "AoJ4kavEhfYCc7zrswI=\n",
      "AoJ4oPephfYCfpzfswI=\n",
      "AoJwpfyShfYCctLTswI=\n",
      "AoJ4w6j6hPYCcNDk4wE=\n",
      "AoJwjOXXhPYCcoi4swI=\n",
      "AoJwy7%2BzhPYCcqupswI=\n",
      "AoJwmoaGhPYCe6SaswI=\n",
      "AoJ4g8rdg/YCfZuOswI=\n",
      "AoJwyLe5g/YCfNqCswI=\n",
      "AoJ4o6agg/YCeLX4sgI=\n",
      "AoJwvMuKg/YCddLssgI=\n",
      "AoJwxYT3gvYCcIKZswE=\n",
      "AoJ48%2BPngvYCfcnUsgI=\n",
      "AoJwkZ/YgvYCdfnHsgI=\n",
      "AoJw0ZbGgvYCe/q7sgI=\n",
      "AoJ4xcGygvYCc6ussgI=\n",
      "AoJ4/uSggvYCd4SesgI=\n",
      "AoJwod2KgvYCff6InwE=\n",
      "AoJwl8P4gfYCc6iN9gE=\n",
      "AoJwgarngfYCc/zwsQI=\n",
      "AoJwo7TSgfYCc%2BzhsQI=\n",
      "AoJ4i%2By7gfYCedXTsQI=\n",
      "AoJw0tukgfYCfcDFsQI=\n",
      "AoJ4/cSSgfYCfb66sQI=\n",
      "AoJ4ybv/gPYCcoWusQI=\n",
      "AoJw9u7wgPYCddqjsQI=\n",
      "AoJ4v7zkgPYCc4qx3wE=\n",
      "AoJ41NPagPYCetGPsQI=\n",
      "AoJ45ZvPgPYCe4aCsQI=\n",
      "AoJw8PHGgPYCcpb2sAI=\n",
      "AoJwp8u/gPYCdY/rsAI=\n",
      "AoJw4aO4gPYCfaua3gE=\n",
      "AoJw5Y2xgPYCepPSsAI=\n",
      "AoJ4/K%2BqgPYCeKbEsAI=\n",
      "AoJwyaHr/vUCcPitsAI=\n",
      "AoJwyJiL%2BvUCfKmDsAI=\n",
      "AoJwuai99vUCdNrhrwI=\n",
      "AoJwgPWJ8/UCeJq%2BrwI=\n",
      "AoJ4nKea7vUCdMahigI=\n",
      "AoJw/cu16fUCf5nlrgI=\n",
      "AoJ4l9fu5PUCffLChQE=\n",
      "AoJ4gNzt4PUCcY2OrgI=\n",
      "AoJwkuj92/UCdoTirQI=\n",
      "AoJ4sMmJ2PUCfa68rQI=\n",
      "AoJwrdfr1PUCfvycrQI=\n",
      "AoJ49ZDT0fUCd%2B72rAI=\n",
      "AoJwosz3zfUCf/vNrAI=\n",
      "AoJ42PWSyvUCfoylrAI=\n",
      "AoJ4nqmixvUCcZz7qwI=\n",
      "AoJ4sfOsw/UCdYPaqwI=\n",
      "AoJwh/3qv/UCeJOtqwI=\n",
      "AoJwrtL9vPUCdsKJqwI=\n",
      "AoJwhbaGuvUCc9boqgI=\n",
      "AoJ4l6y2tvUCebzHqgI=\n",
      "AoJ4xZS0s/UCd/apqgI=\n",
      "AoJ469TbsPUCfoyvkQE=\n",
      "AoJ447S1rvUCdcP2qQI=\n",
      "AoJ4tZ/Yq/UCee7zqAI=\n",
      "AoJ40JDjqPUCf6y8qQI=\n",
      "AoJ4yM70pfUCeKShqQI=\n",
      "AoJwxIeqo/UCcpiJqQI=\n",
      "AoJ48qe4oPUCc/7oqAI=\n",
      "AoJwxKOGnvUCe6XSqAI=\n",
      "AoJ4jdrdm/UCdue5qAI=\n",
      "AoJw%2BrG0mfUCeM2hqAI=\n",
      "AoJ48KfylvUCeJ2JqAI=\n",
      "AoJwhICblPUCc73vpwI=\n",
      "AoJw/cHwkfUCfaTapwI=\n",
      "AoJw8qLKj/UCeuTEpwI=\n",
      "AoJwlszojfUCcKOypwI=\n",
      "AoJ40tKIjPUCdtCgpwI=\n",
      "AoJwsJ%2BOivUCdP6K3QE=\n",
      "AoJw6am0iPUCdKz5pgI=\n",
      "AoJw2cbAhvUCd8DkpgI=\n",
      "AoJ46o3hg/UCc6/JpgI=\n",
      "AoJwlqnugfUCcd23pgI=\n",
      "AoJ49I3e//QCeMGjpgI=\n",
      "AoJwg%2B7z/fQCeI%2BSpgI=\n",
      "AoJwhpu%2B/PQCe9SDpgI=\n",
      "AoJ4oejK%2BvQCcPjypQI=\n",
      "AoJwrbmP%2BfQCfOrhpQI=\n",
      "AoJww%2Bjy9/QCdtPVpQI=\n",
      "AoJ4l8Hy9vQCf53JpQI=\n",
      "AoJ456rY9fQCfIK%2BpQI=\n",
      "AoJwo4vm9PQCd4GzpQI=\n",
      "AoJ4o9Sg8/QCe9m93AE=\n",
      "AoJ41bDk8fQCfriWpQI=\n",
      "AoJ4jpqV8PQCdL2IpQI=\n",
      "AoJw4/q%2B7vQCfe74pAI=\n",
      "AoJ45Z297fQCdfW3kwI=\n",
      "AoJw85eC7PQCfKbhpAI=\n",
      "AoJ4k6iD6/QCcPnXpAI=\n",
      "AoJ4m47y6fQCfb7LpAI=\n",
      "AoJwifHd6PQCePXBpAI=\n",
      "AoJwyNKN6PQCfbW5pAI=\n",
      "AoJw0fWt5/QCf6KwpAI=\n",
      "AoJ4nPig5vQCcPylpAI=\n",
      "AoJ4kM2J5fQCe5/qhgI=\n",
      "AoJwsPPn4/QCfpKJpAI=\n",
      "AoJ4hbmJ4/QCcNH/owI=\n",
      "AoJwku/F4vQCfbH4owI=\n",
      "AoJwrIrL4fQCeqXwowI=\n",
      "AoJwh93u4PQCcdXoowI=\n",
      "AoJwhY%2Bn4PQCfoHhowI=\n",
      "AoJwnZ323/QCdvLcowI=\n",
      "AoJ4kbS/3/QCfuPZowI=\n",
      "AoJ467KM3/QCfpaYSw==\n",
      "AoJ4%2B4rg3vQCeYbUowI=\n",
      "AoJ4h/C93vQCdsTRowI=\n",
      "AoJw4b6h3vQCeojPowI=\n",
      "AoJ4gYWO3vQCdYPNowI=\n",
      "AoJw2cnA3PQCe9a9owI=\n",
      "AoJw0cSX2PQCc/2TowI=\n",
      "AoJ4q8rA0vQCcYfbogI=\n",
      "AoJ4wa7LzPQCdtrDkQI=\n",
      "AoJwsqaVxvQCfM7eoQI=\n",
      "AoJwyKiWwPQCdcGhoQI=\n",
      "AoJ4muGkufQCc/aSnAI=\n",
      "AoJ4gtiSs/QCe6CloAI=\n",
      "AoJ4mZDxrfQCfpLsnwI=\n",
      "AoJ4qqiHqPQCceqynwI=\n",
      "AoJ4%2B7LgovQCdo6iiwI=\n",
      "AoJ40uOCnfQCefzAngI=\n",
      "AoJ42%2B68lvQCd/L7nQI=\n",
      "AoJw4aCYkfQCd9fHnQI=\n",
      "AoJw3NiKi/QCetiEnQI=\n",
      "AoJwsOa4hfQCfv7KnAI=\n",
      "AoJ42/f4gfQCfqqonAI=\n",
      "AoJwiJ6q/PMCd7HxmwI=\n",
      "AoJ49K/K9/MCdOK/mwI=\n",
      "AoJwip3W8vMCfvGNmwI=\n",
      "AoJ49qX87PMCfJXVmgI=\n",
      "AoJ4/Zau5/MCcbCbmgI=\n",
      "AoJwmaOv4vMCf97mmQI=\n",
      "AoJwkPGf3/MCfZnImQI=\n",
      "AoJwxOmj2PMCe%2BaCmQI=\n",
      "AoJ44JW50vMCccbNmAI=\n",
      "AoJw6IuMzfMCfvOcmAI=\n",
      "AoJ4leKfx/MCe4751gE=\n",
      "AoJ47qjvwvMCd7i5lwI=\n",
      "AoJ41cKJvfMCePmDlwI=\n",
      "AoJ435iat/MCc%2BDHlgI=\n",
      "AoJw9feDsfMCeoOJlgI=\n",
      "AoJ4zrCqq/MCfbLOlQI=\n",
      "AoJ4nYiwpvMCcqqZlQI=\n",
      "AoJw%2BdaJoPMCfqLWlAI=\n",
      "AoJ4o7PFmvMCcvWQlAI=\n",
      "AoJ4sqjWlfMCdtLSkwI=\n",
      "AoJ4%2Be6qkPMCesmNkwI=\n",
      "AoJ4o4usi/MCddnJkgI=\n",
      "AoJ48%2Bieh/MCcsKQkgI=\n",
      "AoJwn%2BC9g/MCdrjekQI=\n",
      "AoJw5rWEgfMCcuC6kQI=\n",
      "AoJ4l5vV/PICdu%2BVkAI=\n",
      "AoJw4%2B659/ICcsSfkAI=\n",
      "AoJ4sM2u8PICf/jVjwI=\n",
      "AoJwnMjD6PICcY%2BNjwI=\n",
      "AoJw3teo3/ICfZy7jgI=\n",
      "AoJ45Y3D1/ICeInrjQI=\n",
      "AoJwtKfA0PICeNWsjQI=\n",
      "AoJ4ktv4yfICdqPxjAI=\n",
      "AoJwpvzrwvICfI2sjAI=\n",
      "AoJ4zMblvfICffT%2BiwI=\n",
      "AoJwq6jfuPICc9DSiwI=\n",
      "AoJwmJOLsvICcMKRiwI=\n",
      "AoJ4scahq/ICdJzPigI=\n",
      "AoJ4z6PipvICfLSiigI=\n",
      "AoJ4kN/kofICdNnsiQI=\n",
      "AoJwgaiOnfICf%2Be1iQI=\n",
      "AoJwhs/Kl/ICfaz1iAI=\n",
      "AoJ4lviIk/ICcufEiAI=\n",
      "AoJ4neqNjvICcKuGiAI=\n",
      "AoJ43OC/ivICfNjfhwI=\n",
      "AoJ43eSShvICcZCyhwI=\n",
      "AoJ4wtWjg/ICecCUhwI=\n",
      "AoJ43rv6//ECf6DzhgI=\n",
      "AoJ43Meb/fECcPLVhgI=\n",
      "AoJ4xNug%2BvECcbC1hgI=\n",
      "AoJ4vLX5%2BPECfLmohgI=\n",
      "AoJ4%2B%2By2%2BPECcYijhgI=\n",
      "AoJ4pOLG9/ECcZiXhgI=\n",
      "AoJwwNjv9fECfcCGhgI=\n",
      "AoJ47ILq8/ECfufvhQI=\n",
      "AoJ41JWZ8fECc43RhQI=\n",
      "AoJ49cuz7/ECdMO7hQI=\n",
      "AoJ474yi7vECeqiwhQI=\n",
      "AoJ44Z7m7fECfK6qhQI=\n",
      "AoJwsYH/7PECfd2fhQI=\n",
      "AoJwrdrJ6/ECcsGQhQI=\n",
      "AoJ4%2BOrh6vECcuDXhAI=\n",
      "AoJ4mK7Z6fECfub4hAI=\n",
      "AoJ40oDX6PECfcTshAI=\n",
      "AoJ495jA5/ECeLqJ7wE=\n",
      "AoJ4lZXE5fECda/EhAI=\n",
      "AoJwl97/3vECcdX6gwI=\n",
      "AoJw2p2%2B2PECd5mtgwI=\n",
      "AoJw6NKk0fECfI3dggI=\n",
      "AoJwvIz0yfECeO%2BEggI=\n",
      "AoJ4oMKBw/ECcdmvgQI=\n",
      "AoJw2eS1vPECetDagAI=\n",
      "AoJw3Zykt/ECdv2ZgAI=\n",
      "AoJ4ttT3sPECeMjI/wE=\n",
      "AoJ49va/qvECfZf1/gE=\n",
      "AoJ48M%2B%2BofECc6Pu/QE=\n",
      "AoJw08Wmm/ECcLeQ/QE=\n",
      "AoJwgtiUlPECd4yd/AE=\n",
      "AoJwg%2B%2B3j/ECeNjX%2BwE=\n",
      "AoJ464K8ivECeMWP%2BwE=\n",
      "AoJwjpCxhPECf/m2%2BgE=\n",
      "AoJwg4yR/fACfpbN%2BQE=\n",
      "AoJwq9b%2B9PACe8To%2BAE=\n",
      "AoJw5azj7fACdcyV%2BAE=\n",
      "AoJw0LrM5vACfLXH9wE=\n",
      "AoJ4qarA3fACc9Hw9gE=\n",
      "AoJw4aDn1vACc9mq9gE=\n",
      "AoJw28rLzfACet/X9QE=\n",
      "AoJwnLqWx/ACcpOV9QE=\n",
      "AoJw4Zeyv/ACdvTM9AE=\n",
      "AoJ47OeyuPACdcCF9AE=\n",
      "AoJwh9qpsPACfaSz8wE=\n",
      "AoJ426y9qfACcJ7u8gE=\n",
      "AoJ4gYXjpPACcJ%2B48gE=\n",
      "AoJ4i5%2BNnfACdMzq8QE=\n",
      "AoJw4aqAlvACfImh8QE=\n",
      "AoJ4uc64kfACcoLs8AE=\n",
      "AoJ4%2BuvQiPACcMCb8AE=\n",
      "AoJwlpj0gvACcJXi7wE=\n",
      "AoJ47Z/z/O8Cfvme7wE=\n",
      "AoJwm%2BSM9%2B8CdePi7gE=\n",
      "AoJwieL38O8CesCb7gE=\n",
      "AoJwrpGP7O8Cce3i7QE=\n",
      "AoJwprzc5e8Cd/7V6wE=\n",
      "AoJw57nM3%2B8Ce4Xz7AE=\n",
      "AoJw7baF2%2B8CfqfD7AE=\n",
      "AoJwuOun1e8CcMeQ7AE=\n",
      "AoJ4uOyF0O8CeeLi6wE=\n",
      "AoJwwKDry%2B8Cdby46wE=\n",
      "AoJwmZ2myO8CdfyP6wE=\n",
      "AoJwgqz%2Bwe8CcavS6gE=\n",
      "AoJ4korYvO8CfoCd6gE=\n",
      "AoJwteTXuO8Ce4fp6QE=\n",
      "AoJ49JzttO8Cfd%2B16QE=\n",
      "AoJwwtu2se8CeOOD6QE=\n",
      "AoJ4rNqire8Cc7rJ6AE=\n",
      "AoJ4hq3dqe8Cdu6W6AE=\n",
      "AoJwzsyxpu8CeMvg5wE=\n",
      "AoJ4hL61ou8Ccaan5wE=\n",
      "AoJ48Zbenu8CeZvx5gE=\n",
      "AoJ4u4LQme8Cc66w5gE=\n",
      "AoJw4KSZlu8CfYiB5gE=\n",
      "AoJwrJ27ku8CfMrP5QE=\n",
      "AoJ45cmrju8CcaOj5QE=\n",
      "AoJ47dTqiu8CcY6D5QE=\n",
      "AoJ40abGhe8CetTL5AE=\n",
      "AoJ4/LXngO8CeL6N5AE=\n",
      "AoJwssX1%2Bu4CdZjP4wE=\n",
      "AoJ4042M9u4CeeCDdQ==\n",
      "AoJwqcDm8u4Cf%2Bb54gE=\n",
      "AoJwy%2Bf67%2B4Cc6HQ4gE=\n",
      "AoJ40NOQ7e4Cd5mq4gE=\n",
      "AoJ4%2B%2BfW6e4CcJGC4gE=\n",
      "AoJwna3r5e4CcZnF4QE=\n",
      "AoJwhsfd4%2B4Ce%2BfG0wE=\n",
      "AoJ4nfCw4e4CccDp4AE=\n",
      "AoJw0oLA3%2B4Cctiy4AE=\n",
      "AoJ41cmk3u4CdIOK4AE=\n",
      "AoJ4qZva3O4CcfLb3wE=\n",
      "AoJw/PTL2%2B4CcICy3wE=\n",
      "AoJwrtLl2e4CfbOG3wE=\n",
      "AoJwjaLS2O4Cdcmg0AE=\n",
      "AoJ4pK2s1%2B4Cds2w3gE=\n",
      "AoJw%2BaH21u4Cc9iV3gE=\n",
      "AoJwovOR1u4CcrHe3QE=\n",
      "AoJw/YGi1e4Cfe2x3QE=\n",
      "AoJwqMzN1O4CcPj93AE=\n",
      "AoJwhO/40e4CfKzQ3AE=\n",
      "AoJw7rCmz%2B4Ce9G23AE=\n",
      "AoJ48Ob3zO4CdoGZ3AE=\n",
      "AoJw6uSyyu4Ccrr32wE=\n",
      "AoJ4i4qiyO4CdPvg2wE=\n",
      "AoJ40/HUxe4CfbjI2wE=\n",
      "AoJwlKCGw%2B4Cc9Ct2wE=\n",
      "AoJ4/Z76wO4CetmW2wE=\n",
      "AoJwopD3v%2B4CfrCM2wE=\n",
      "AoJwtOOGv%2B4CdKGC2wE=\n",
      "AoJwwu7ove4CebD42gE=\n",
      "AoJw9OP3vO4Cf7Pr2gE=\n",
      "AoJ4/P73u%2B4Cf6bd2gE=\n",
      "AoJw2Zbwuu4CetDthAE=\n",
      "AoJw0vXiue4Cf6W92gE=\n",
      "AoJ44%2BibuO4Cdt2p2gE=\n",
      "AoJ416G6tu4CdpqV2gE=\n",
      "AoJ4h4/Es%2B4CfvbFngE=\n",
      "AoJ45sLvru4CeN7E2QE=\n",
      "AoJ47%2BDtq%2B4Cdtej2QE=\n",
      "AoJwjK2Zqe4CeMr82AE=\n",
      "AoJw58Sspu4CftLO2AE=\n",
      "AoJ47bmxo%2B4Ce9DRtQE=\n",
      "AoJw8J6goO4Ccv/%2B1wE=\n",
      "AoJ4k63Rne4CcJLc1wE=\n",
      "AoJwrKmlm%2B4Cfa681wE=\n",
      "AoJ4z8ekme4CcLif1wE=\n",
      "AoJwueLil%2B4Cfe791gE=\n",
      "AoJw8qDLlu4CeO/k1gE=\n",
      "AoJ4y9WQle4Cc%2Bm/1gE=\n",
      "AoJw76z6k%2B4Ccfej1gE=\n",
      "AoJw4qO8ku4CcYv91QE=\n",
      "AoJ4w9S5ke4CfIfj1QE=\n",
      "AoJwl6fJkO4Ce%2B/B1QE=\n",
      "AoJ44%2B3Bj%2B4CdKKp1QE=\n",
      "AoJw9NPLh%2B4CeamE1QE=\n",
      "AoJ4zfGG/u0Ce%2BXQ1AE=\n",
      "AoJ45oeZ8O0Ceaep1AE=\n",
      "AoJ4i/ji4e0CdaqC1AE=\n",
      "AoJw0u380O0Cdo/T0wE=\n",
      "AoJ43s7Au%2B0CfpSB0wE=\n",
      "AoJw6YTbpe0CeYPE0gE=\n",
      "AoJ49pnKk%2B0CeJKP0gE=\n",
      "AoJw/%2BGA/OwCfprP0QE=\n",
      "AoJwutKc6ewCc8WX0QE=\n",
      "AoJ4tfra1%2BwCdZjd0AE=\n",
      "AoJw0aT2xuwCdc3fzwE=\n",
      "AoJ4z5CMu%2BwCdpSD0AE=\n",
      "AoJwnK6GsOwCfa%2BMnAE=\n",
      "AoJwqMPpqOwCcK3LzwE=\n",
      "AoJws5D4n%2BwCccvssQE=\n",
      "AoJwrpnEnewCf5u2ag==\n",
      "AoJ4pL3DnOwCctClzwE=\n",
      "AoJw2rHOmuwCfs%2BfzwE=\n",
      "AoJw1JSImewCcu2ZzwE=\n",
      "AoJwuq6kl%2BwCf/iTzwE=\n",
      "AoJ4p6K6lOwCfrGKzwE=\n",
      "AoJwro2KiOwCdsvfzgE=\n",
      "AoJ4gvfU%2BusCcc%2B0zgE=\n",
      "AoJ4lePL7OsCfpfnaQ==\n",
      "AoJ4icWV5usCfc/TzQE=\n",
      "AoJ47bWx5OsCdbatzQE=\n",
      "AoJ4qd6j4usCf4z6zAE=\n",
      "AoJwoO/V4OsCeYnMzAE=\n",
      "AoJwvMSC3%2BsCeruizAE=\n",
      "AoJwpJLF3esCeY34ywE=\n",
      "AoJ49dSi3OsCdJPOywE=\n",
      "AoJ49Yjr2usCc4afywE=\n",
      "AoJ4pfnt2esCfqH3ygE=\n",
      "AoJw8s7h2OsCc/jBygE=\n",
      "AoJwiqDx1%2BsCd7%2BgygE=\n",
      "AoJw2Pyg1%2BsCe/TzyQE=\n",
      "AoJ4kffr1usCfLTNyQE=\n",
      "AoJwpO2S1usCdpKdyQE=\n",
      "AoJws97C1esCd6b7yAE=\n",
      "AoJw/vOJ1esCdebUyAE=\n",
      "AoJwmdfm1OsCc9WtyAE=\n",
      "AoJwleCe1OsCdqD%2BxwE=\n",
      "AoJ4gZ7O0%2BsCeuDRxwE=\n",
      "AoJwzcPf0usCd%2BmexwE=\n",
      "AoJwv%2Bed0usCeqboxgE=\n",
      "AoJw3JTw0esCecKExgE=\n",
      "AoJ43KG70esCc97uxQE=\n",
      "AoJ4yvD50OsCdLubxQE=\n",
      "AoJw%2B/bB0OsCfIrhxAE=\n",
      "AoJwz%2BrLy%2BsCdvGzxAE=\n",
      "AoJ4zKCQu%2BsCdMrswwE=\n",
      "AoJw7bbLpusCd4HWmgE=\n",
      "AoJwrc/YmOsCddOdTQ==\n",
      "AoJw0JLTiOsCdLG/wgE=\n",
      "AoJ4gcSL9uoCe5fswQE=\n",
      "AoJw0Miz4%2BoCerX6Sw==\n",
      "AoJwp/n20uoCcKD8wAE=\n",
      "AoJ46OSMwOoCe4/AwAE=\n",
      "AoJ4/4eWr%2BoCdKKIwAE=\n",
      "AoJwqbDxjeoCesicvwE=\n",
      "AoJ4vcb77ekCdoSvvgE=\n",
      "AoJwqtSXz%2BkCf9v2ggE=\n",
      "AoJw/qaMq%2BkCc9O7vAE=\n",
      "AoJ44/CFiOkCddm4uwE=\n",
      "AoJwka/15ugCf7OsugE=\n",
      "AoJw4sGo0egCcJmjdQ==\n",
      "AoJw/%2BXgsOgCfonSuAE=\n",
      "AoJ49d2VlegCeY7ktwE=\n",
      "AoJwnLWOgegCeamBtwE=\n",
      "AoJw6uTt9ecCfq7AtgE=\n",
      "AoJ4uqSE5%2BcCc/PotQE=\n",
      "AoJw2K7t0ucCdbOXtQE=\n",
      "AoJ4s%2BzJv%2BcCd/28tAE=\n",
      "AoJ4rtCEq%2BcCeNjEZw==\n",
      "AoJw89qJqOcCd7m4swE=\n",
      "AoJ4gIXCpecCd6eAswE=\n",
      "AoJws4zHo%2BcCeMfMsgE=\n",
      "AoJ4l5CpoucCd5OfsgE=\n",
      "AoJwkdL0oOcCdon1sQE=\n",
      "AoJwiaL6n%2BcCf4fGsQE=\n",
      "AoJ43fLSnucCfb6csQE=\n",
      "AoJwz7GPnucCc9vxsAE=\n",
      "AoJwgY7QnecCeeq/sAE=\n",
      "AoJw25nvnOcCeKaKsAE=\n",
      "AoJwqsCinOcCdsXhrwE=\n",
      "AoJwp8j2m%2BcCcLq3rwE=\n",
      "AoJw3qC3kucCfI//rgE=\n",
      "AoJ4mITtiOcCf53frgE=\n",
      "AoJ46pnbhOcCe/HTrgE=\n",
      "AoJ495OqgucCf6DMrgE=\n",
      "AoJw%2B7jGgOcCdffErgE=\n",
      "AoJw%2Btej/%2BYCeKDArgE=\n",
      "AoJ4lLuK/uYCfpq7rgE=\n",
      "AoJwhPXV9OYCeYu1qQE=\n",
      "AoJ4sLy72uYCeYy2rQE=\n",
      "AoJ43NnEu%2BYCdpzZiwE=\n",
      "AoJwyabeluYCc/HkqwE=\n",
      "AoJ4hcXZ9OUCfKPtqgE=\n",
      "AoJwkryoy%2BUCdYHoqQE=\n",
      "AoJw3eyrtOUCc/uRqQE=\n",
      "AoJ4heqrnuUCe/HOpwE=\n",
      "AoJwvNXqh%2BUCfPS0iwE=\n",
      "AoJw55WI8eQCcMGLpwE=\n",
      "AoJ4narX3uQCeenHpgE=\n",
      "AoJwy/vgzuQCfqSNpgE=\n",
      "AoJw5sKdwOQCfeHVpQE=\n",
      "AoJ4pruBs%2BQCeeuWpQE=\n",
      "AoJwjoG8qeQCcOnlpAE=\n",
      "AoJw9rCjn%2BQCeZ6tpAE=\n",
      "AoJ49tzJmeQCe9KKpAE=\n",
      "AoJw/NmJleQCeJProwE=\n",
      "AoJwguLxjeQCeNjDowE=\n",
      "AoJwxOj3%2BuMCcbvqogE=\n",
      "AoJ4sdvk6eMCcsabogE=\n",
      "AoJwjKHw2OMCc9eYmQE=\n",
      "AoJ4hJPtxuMCcLz7oAE=\n",
      "AoJ4hbePs%2BMCeMO4oAE=\n",
      "AoJw2dq6oOMCddv2nwE=\n",
      "AoJw7tqvleMCf9jPnwE=\n",
      "AoJ4mrGN/OICc/v2ngE=\n",
      "AoJwl7aW7eICcfiElwE=\n",
      "AoJ45t6k2uICf4z%2BnQE=\n",
      "AoJwx9HlwOICf4uYnQE=\n",
      "AoJ457barOICcLm/nAE=\n",
      "AoJ4ufHCmOICevXumwE=\n",
      "AoJ4kKPiheICerWamwE=\n",
      "AoJw15PL9%2BECffrYmgE=\n",
      "AoJ4xpuS5%2BECeNavSw==\n",
      "AoJw7NqF3OECfPHQmQE=\n",
      "AoJwhtTa0uECfPz8iwE=\n",
      "AoJ4usG0yuECd83qmAE=\n",
      "AoJwu9DAwuECe4/MmAE=\n",
      "AoJwjd/gvOECeOexmAE=\n",
      "AoJwrtXCuOECdpOpYw==\n",
      "AoJ4uqP9teECfPWVmAE=\n",
      "AoJ4wLP9s%2BECe7aOmAE=\n",
      "AoJ4nKDGreECdIrvlwE=\n",
      "AoJ4ypOyk%2BECfvfaXQ==\n",
      "AoJwvoGv/eACcpeXlgE=\n",
      "AoJ408345%2BACdODpkQE=\n",
      "AoJw/qSe3OACfafclAE=\n",
      "AoJ4qc2Y0eACdoyKlAE=\n",
      "AoJ43a6AyOACcojEkwE=\n",
      "AoJwjs69uuACdLPckgE=\n",
      "AoJwkamRo%2BACedbukQE=\n",
      "AoJwgLfpjuACcqqOkQE=\n",
      "AoJwgraeguACc%2BbPkAE=\n",
      "AoJ4ptGW/t8CdM6DkAE=\n",
      "AoJww9vX%2B98CdvPxfA==\n",
      "AoJw5prT%2Bd8CcL%2BQjwE=\n",
      "AoJwpMr6998CdKbiaQ==\n",
      "AoJw8JTP9t8Cfv6gjgE=\n",
      "AoJw3YeT9d8Cf4PojQE=\n",
      "AoJ4i%2BeG9N8CdcGMjQE=\n",
      "AoJw%2B87%2B8t8Cc8XIjAE=\n",
      "AoJ4r6rG8t8Cfb2QjAE=\n",
      "AoJ4hr7U6N8CdLDTiwE=\n",
      "AoJ4hqrJ4N8CfdOwiwE=\n",
      "AoJwsdK/298CeMydiwE=\n",
      "AoJ4ks6k2t8Ce7qYiwE=\n",
      "AoJwuomJ2d8Ce7OUiwE=\n",
      "AoJwvcmg2N8CduePiwE=\n",
      "AoJwo/OK198CdZ2KiwE=\n",
      "AoJ4gcb91d8CeOiEiwE=\n",
      "AoJw4J7u1N8Ce9/%2BigE=\n",
      "AoJ46I3T098CduP5igE=\n",
      "AoJwu%2BfE0t8Cc6b0igE=\n",
      "AoJw7qKF0d8CceLuigE=\n",
      "AoJ4mJ/4w98CfI%2BwigE=\n",
      "AoJ4z5CZtN8CdODgiQE=\n",
      "AoJ49oGmot8CccaEiQE=\n",
      "AoJw0dPIiN8Cd8eEiAE=\n",
      "AoJ4hNDV8t4CeZ6jhwE=\n",
      "AoJ44q/d3d4Ce9uphgE=\n",
      "AoJ4/PLzxN4Ccb29hQE=\n",
      "AoJ4strbsd4CdODrhAE=\n",
      "AoJ4pZ/Pl94Cdvf2gwE=\n",
      "AoJ4staZgt4Cf5uZgwE=\n",
      "AoJ4m7Ho6N0CeJysggE=\n",
      "AoJ4yvq%2B1d0CccXcgQE=\n",
      "AoJwps2OxN0Cec%2BQgQE=\n",
      "AoJ4kOGgsd0CfNS/gAE=\n",
      "AoJwt%2B77oN0CeNT4fw==\n",
      "AoJwv5/2k90Cc8%2B3fw==\n",
      "AoJwi7CoiN0CfITvfg==\n",
      "AoJ4nOeGgd0Cfourfg==\n",
      "AoJwy%2BqA%2BtwCc83sfQ==\n",
      "AoJwjvz389wCfcShfQ==\n",
      "AoJwpvO27dwCfO7ufA==\n",
      "AoJ4m%2Brk5twCduS9fA==\n",
      "AoJ4g9uE0dwCcIDIew==\n",
      "AoJwz/upvNwCe%2Bjqeg==\n",
      "AoJw8seerdwCdYaqeg==\n",
      "AoJwwpLxmdwCcq7eeQ==\n",
      "AoJwmquuidwCfPbLdw==\n",
      "AoJwtciB%2BNsCc%2BXheA==\n",
      "AoJ46Nue6NsCftOkeA==\n",
      "AoJwieDK2tsCcIHtdw==\n",
      "AoJ4uYuQydsCcPPobQ==\n",
      "AoJw47jUvNsCfq39dg==\n",
      "AoJ4oametNsCdfHbdg==\n",
      "AoJw6I3wrtsCeY3Idg==\n",
      "AoJ4rrGkrNsCfY%2B/dg==\n",
      "AoJwyYiPq9sCf5m7dg==\n",
      "AoJwjJ%2BfqtsCf724dg==\n",
      "AoJwpZa%2BqdsCcsy0dg==\n",
      "AoJ4wrXkqNsCfLCxdg==\n",
      "AoJ45tbYp9sCe9atdg==\n",
      "AoJwjK/5ptsCdImdZQ==\n",
      "AoJ4ybuGptsCfPqldg==\n",
      "AoJw4KX5pNsCfqKidg==\n",
      "AoJw34eUpNsCctKedg==\n",
      "AoJw4fj/otsCdLebdg==\n",
      "AoJ4ypbPm9sCe6iqaw==\n",
      "AoJ4wOm6gtsCccuZdQ==\n",
      "AoJwgOjL6toCf4K%2BdA==\n",
      "AoJw8N2yz9oCc7vdcw==\n",
      "AoJ4l4W/tdoCcJDycg==\n",
      "AoJ4rtylnNoCf6CKcg==\n",
      "AoJ4m%2BWGgdoCe7GTcQ==\n",
      "AoJ42paI69kCebG8cA==\n",
      "AoJwx9f41NkCeZTmbw==\n",
      "AoJw6vupxNkCdq%2Bfbw==\n",
      "AoJ48LHwstkCf%2BDIbg==\n",
      "AoJw2KeVq9kCd56Vbg==\n",
      "AoJwkI2doNkCc6fDbQ==\n",
      "AoJwweu1ldkCdZf2bA==\n",
      "AoJ469uyhtkCcIS3bA==\n",
      "AoJ4r7aB89gCdZzwaw==\n",
      "AoJ48Jik39gCcr%2Bpaw==\n",
      "AoJ4z%2BrU1dgCdI7Rag==\n",
      "AoJw%2Bdq70tgCf6aCag==\n",
      "AoJ43Pr7z9gCc6mwaQ==\n",
      "AoJw8bvxzdgCfqvfaA==\n",
      "AoJwwJPuy9gCfcKJaA==\n",
      "AoJ4tJHsytgCf4isZw==\n",
      "AoJwvqPhydgCdpbkZg==\n",
      "AoJwuvOrydgCdJSpZg==\n",
      "AoJwyPHQwdgCcuX2ZQ==\n",
      "AoJws8/MudgCeYjTZQ==\n",
      "AoJwn73/tNgCdvHGZQ==\n",
      "AoJ489mYstgCdt6%2BZQ==\n",
      "AoJw3q6JsdgCf%2Bm6ZQ==\n",
      "AoJwzbT%2Br9gCeJS4ZQ==\n",
      "AoJ4wO/Jr9gCeam2ZQ==\n",
      "AoJw66GEr9gCfLCzZQ==\n",
      "AoJw5cOmrtgCeqKwZQ==\n",
      "AoJw5aiyrdgCcKitZQ==\n",
      "AoJ4st71rNgCfuTkTg==\n",
      "AoJ43P68rNgCeMSoZQ==\n",
      "AoJwzPmBrNgCfp%2BmZQ==\n",
      "AoJwzciwq9gCcZekZQ==\n",
      "AoJ4vajwqtgCfL%2BiZQ==\n",
      "AoJ4ifbAqtgCeuOgZQ==\n",
      "AoJ44IqHqtgCeb2eZQ==\n",
      "AoJ4hKKoqdgCc8qbZQ==\n",
      "AoJw66qWqNgCcrWYZQ==\n",
      "AoJwuoCInNgCc4XzZA==\n",
      "AoJwlK7k9dcCdJblYw==\n",
      "AoJwmdKoxNcCet3FYg==\n",
      "AoJwrPOLm9cCcaq2YQ==\n",
      "AoJ4mpjJ89YCdZK9YA==\n",
      "AoJwnJnh1tYCfb/JXw==\n",
      "AoJwh/y0v9YCfuPhXg==\n",
      "AoJ4uNTUsNYCdd%2BzXg==\n",
      "AoJ4nfrpitYCcP2sXQ==\n",
      "AoJ44KXc59UCde6qXA==\n",
      "AoJ4k%2BrP1NUCfo%2BcSw==\n",
      "AoJ45OrnydUCdPiIWw==\n",
      "AoJwm5bBv9UCdufEWg==\n",
      "AoJwr6bIo9UCcvjgWQ==\n",
      "AoJw/OmUhdUCeqf7WA==\n",
      "AoJ416nT39QCcr7xVw==\n",
      "AoJwjtGivdQCd%2Br3Vg==\n",
      "AoJwh5nBotQCf9%2BZVg==\n",
      "AoJw1K2C/9MCfuWXVQ==\n",
      "AoJw046e4tMCc922VA==\n",
      "AoJ497bLvdMCc66vUw==\n",
      "AoJ42YzdodMCe6/AUg==\n",
      "AoJw4PzsjdMCc6LyUQ==\n",
      "AoJwh7Py9tICee%2BQUQ==\n",
      "AoJ4pI3f5tICefvFUA==\n",
      "AoJ47OOU19ICfo/5Tw==\n",
      "AoJ4z4W%2BwtICdKaPTg==\n",
      "AoJwp6ams9ICfM/sTg==\n",
      "AoJ4/%2BmSqNICdqXETg==\n",
      "AoJ4hZuXodICd9KoTg==\n",
      "AoJ4p/P9mdICf8eQTg==\n",
      "AoJ4gdi7k9ICe5f0TQ==\n",
      "AoJ43IuojNICd5PVTQ==\n",
      "AoJ42rahhdICfNCtTQ==\n",
      "AoJwyoXa/9ECeL6FTQ==\n",
      "AoJw4aCY%2BtECe6riTA==\n",
      "AoJ4s6Lc9dECfdq/TA==\n",
      "AoJwsZTm8dECfNejTA==\n",
      "AoJw5J7p7dECd92KTA==\n",
      "AoJw/YHx6NECdfjxSw==\n",
      "AoJ4rez05dECcbXeSw==\n",
      "AoJw2M/74tECdZLSSw==\n",
      "AoJ4kJrt39ECc/TFSw==\n",
      "AoJ4497k3NECdqK5Sw==\n",
      "AoJw%2BdOR2tECcpSwSw==\n",
      "AoJwvfTp19ECffSoSw==\n",
      "AoJw2aug1tECe9WkSw==\n",
      "AoJ4kbj21NECcO6fSw==\n",
      "AoJwq4D009ECeYydSw==\n",
      "AoJwqpqm09ECeqqaSw==\n",
      "AoJ4/6zY0tECdfyXSw==\n",
      "AoJwnPKp0tECeIWXSw==\n"
     ]
    }
   ],
   "source": [
    "# generate game review df\n",
    "\n",
    "#steam 'chunks' their json files (the game reviews) in sets of 100\n",
    "#ending with a signature, a 'cursor'. This cursor is then pasted\n",
    "#onto the the same url, to 'grab' the next chunk and so on. \n",
    "#This sequence block with an 'end cursor' of 'AoJ4tey90tECcbOXSw=='\n",
    "\n",
    "#set variables\n",
    "url_base = 'https://store.steampowered.com/appreviews/393380?json=1&filter=updated&language=all&review_type=all&purchase_type=all&num_per_page=100&cursor='\n",
    "\n",
    "#first pass\n",
    "url = urllib.request.urlopen(\"https://store.steampowered.com/appreviews/393380?json=1&filter=updated&language=all&review_type=all&purchase_type=all&num_per_page=100&cursor=*\")\n",
    "data = json.loads(url.read().decode())\n",
    "next_cursor = data['cursor']\n",
    "next_cursor = next_cursor.replace('+', '%2B')\n",
    "df1 = json_normalize(data['reviews'])\n",
    "print(next_cursor)\n",
    "\n",
    "#add results till stopcursor met, then send all results to csv\n",
    "\n",
    "while True:\n",
    "    time.sleep(0.5) # Sleep for half-second\n",
    "    url_temp = url_base + next_cursor\n",
    "    url = urllib.request.urlopen(url_temp)\n",
    "    data = json.loads(url.read().decode())\n",
    "    next_cursor = data['cursor']\n",
    "    next_cursor = next_cursor.replace('+', '%2B')\n",
    "    df2 = json_normalize(data['reviews'])\n",
    "    df1 = pd.concat([df1, df2])\n",
    "    print(next_cursor)\n",
    "    if next_cursor == 'AoJwnPKp0tECeIWXSw==' or next_cursor == '*':\n",
    "        df_steam_reviews = df1\n",
    "        df1 = None\n",
    "        break\n",
    "        \n",
    "#the hash below is each 'cursor' I loop through until the 'end cursor'.\n",
    "#this is just my way of monitoring the download."
   ]
  },
  {
   "cell_type": "code",
   "execution_count": 3,
   "metadata": {},
   "outputs": [
    {
     "name": "stdout",
     "output_type": "stream",
     "text": [
      "<class 'pandas.core.frame.DataFrame'>\n",
      "Int64Index: 90971 entries, 0 to 71\n",
      "Data columns (total 22 columns):\n",
      " #   Column                          Non-Null Count  Dtype  \n",
      "---  ------                          --------------  -----  \n",
      " 0   recommendationid                90971 non-null  object \n",
      " 1   language                        90971 non-null  object \n",
      " 2   review                          90971 non-null  object \n",
      " 3   timestamp_created               90971 non-null  int64  \n",
      " 4   timestamp_updated               90971 non-null  int64  \n",
      " 5   voted_up                        90971 non-null  bool   \n",
      " 6   votes_up                        90971 non-null  int64  \n",
      " 7   votes_funny                     90971 non-null  int64  \n",
      " 8   weighted_vote_score             90971 non-null  object \n",
      " 9   comment_count                   90971 non-null  int64  \n",
      " 10  steam_purchase                  90971 non-null  bool   \n",
      " 11  received_for_free               90971 non-null  bool   \n",
      " 12  written_during_early_access     90971 non-null  bool   \n",
      " 13  author.steamid                  90971 non-null  object \n",
      " 14  author.num_games_owned          90971 non-null  int64  \n",
      " 15  author.num_reviews              90971 non-null  int64  \n",
      " 16  author.playtime_forever         90971 non-null  int64  \n",
      " 17  author.playtime_last_two_weeks  90971 non-null  int64  \n",
      " 18  author.playtime_at_review       90865 non-null  float64\n",
      " 19  author.last_played              90971 non-null  int64  \n",
      " 20  timestamp_dev_responded         2 non-null      float64\n",
      " 21  developer_response              2 non-null      object \n",
      "dtypes: bool(4), float64(2), int64(10), object(6)\n",
      "memory usage: 13.5+ MB\n",
      "None\n"
     ]
    }
   ],
   "source": [
    "# inspect columns\n",
    "print(df_steam_reviews.info(verbose=True))"
   ]
  },
  {
   "cell_type": "code",
   "execution_count": 4,
   "metadata": {},
   "outputs": [
    {
     "name": "stdout",
     "output_type": "stream",
     "text": [
      "(90971, 22)\n"
     ]
    }
   ],
   "source": [
    "# inspect shape\n",
    "print(df_steam_reviews.shape)"
   ]
  },
  {
   "cell_type": "markdown",
   "metadata": {},
   "source": [
    "---\n",
    "### Data Dictionary:\n",
    "\n",
    "- Response:\n",
    "    - success - 1 if the query was successful\n",
    "    - query_summary - Returned in the first request\n",
    "        - recommendationid - The unique id of the recommendation\n",
    "        - author\n",
    "            - steamid - the user’s SteamID\n",
    "            - um_games_owned - number of games owned by the user\n",
    "            - num_reviews - number of reviews written by the user\n",
    "            - playtime_forever - lifetime playtime tracked in this app\n",
    "            - playtime_last_two_weeks - playtime tracked in the past two weeks for this app\n",
    "            - playtime_at_review - playtime when the review was written\n",
    "            - last_played - time for when the user last played\n",
    "        - language - language the user indicated when authoring the review\n",
    "        - review - text of written review\n",
    "        - timestamp_created - date the review was created (unix timestamp)\n",
    "        - timestamp_updated - date the review was last updated (unix timestamp)\n",
    "        - voted_up - true means it was a positive recommendation\n",
    "        - votes_up - the number of users that found this review helpful\n",
    "        - votes_funny - the number of users that found this review funny\n",
    "        - weighted_vote_score - helpfulness score\n",
    "        - comment_count - number of comments posted on this review\n",
    "        - steam_purchase - true if the user purchased the game on Steam\n",
    "        - received_for_free - true if the user checked a box saying they got the app for free\n",
    "        - written_during_early_access - true if the user posted this review while the game was in Early Access\n",
    "        - developer_response - text of the developer response, if any\n",
    "        - timestamp_dev_responded - Unix timestamp of when the developer responded, if applicable\n",
    "\n",
    "---\n",
    "Source: https://partner.steamgames.com/doc/store/getreviews"
   ]
  },
  {
   "cell_type": "code",
   "execution_count": 5,
   "metadata": {},
   "outputs": [
    {
     "data": {
      "text/html": [
       "<div>\n",
       "<style scoped>\n",
       "    .dataframe tbody tr th:only-of-type {\n",
       "        vertical-align: middle;\n",
       "    }\n",
       "\n",
       "    .dataframe tbody tr th {\n",
       "        vertical-align: top;\n",
       "    }\n",
       "\n",
       "    .dataframe thead th {\n",
       "        text-align: right;\n",
       "    }\n",
       "</style>\n",
       "<table border=\"1\" class=\"dataframe\">\n",
       "  <thead>\n",
       "    <tr style=\"text-align: right;\">\n",
       "      <th></th>\n",
       "      <th>recommendationid</th>\n",
       "      <th>language</th>\n",
       "      <th>review</th>\n",
       "      <th>timestamp_created</th>\n",
       "      <th>timestamp_updated</th>\n",
       "      <th>voted_up</th>\n",
       "      <th>votes_up</th>\n",
       "      <th>votes_funny</th>\n",
       "      <th>weighted_vote_score</th>\n",
       "      <th>comment_count</th>\n",
       "      <th>...</th>\n",
       "      <th>written_during_early_access</th>\n",
       "      <th>author.steamid</th>\n",
       "      <th>author.num_games_owned</th>\n",
       "      <th>author.num_reviews</th>\n",
       "      <th>author.playtime_forever</th>\n",
       "      <th>author.playtime_last_two_weeks</th>\n",
       "      <th>author.playtime_at_review</th>\n",
       "      <th>author.last_played</th>\n",
       "      <th>timestamp_dev_responded</th>\n",
       "      <th>developer_response</th>\n",
       "    </tr>\n",
       "  </thead>\n",
       "  <tbody>\n",
       "    <tr>\n",
       "      <th>0</th>\n",
       "      <td>102460437</td>\n",
       "      <td>english</td>\n",
       "      <td>very realistic</td>\n",
       "      <td>1636418051</td>\n",
       "      <td>1636418051</td>\n",
       "      <td>True</td>\n",
       "      <td>0</td>\n",
       "      <td>0</td>\n",
       "      <td>0</td>\n",
       "      <td>0</td>\n",
       "      <td>...</td>\n",
       "      <td>False</td>\n",
       "      <td>76561198978326778</td>\n",
       "      <td>11</td>\n",
       "      <td>1</td>\n",
       "      <td>930</td>\n",
       "      <td>930</td>\n",
       "      <td>911.0</td>\n",
       "      <td>1636419328</td>\n",
       "      <td>NaN</td>\n",
       "      <td>NaN</td>\n",
       "    </tr>\n",
       "    <tr>\n",
       "      <th>1</th>\n",
       "      <td>102460168</td>\n",
       "      <td>english</td>\n",
       "      <td>great community only plays 6 hours yet had som...</td>\n",
       "      <td>1636417501</td>\n",
       "      <td>1636417501</td>\n",
       "      <td>True</td>\n",
       "      <td>0</td>\n",
       "      <td>0</td>\n",
       "      <td>0</td>\n",
       "      <td>0</td>\n",
       "      <td>...</td>\n",
       "      <td>False</td>\n",
       "      <td>76561198303556161</td>\n",
       "      <td>68</td>\n",
       "      <td>3</td>\n",
       "      <td>464</td>\n",
       "      <td>464</td>\n",
       "      <td>446.0</td>\n",
       "      <td>1636422094</td>\n",
       "      <td>NaN</td>\n",
       "      <td>NaN</td>\n",
       "    </tr>\n",
       "    <tr>\n",
       "      <th>2</th>\n",
       "      <td>102460116</td>\n",
       "      <td>english</td>\n",
       "      <td>if you want a Mil-sim game where people are al...</td>\n",
       "      <td>1636417371</td>\n",
       "      <td>1636417371</td>\n",
       "      <td>True</td>\n",
       "      <td>0</td>\n",
       "      <td>0</td>\n",
       "      <td>0</td>\n",
       "      <td>0</td>\n",
       "      <td>...</td>\n",
       "      <td>False</td>\n",
       "      <td>76561198160748485</td>\n",
       "      <td>17</td>\n",
       "      <td>1</td>\n",
       "      <td>1022</td>\n",
       "      <td>16</td>\n",
       "      <td>1015.0</td>\n",
       "      <td>1636422604</td>\n",
       "      <td>NaN</td>\n",
       "      <td>NaN</td>\n",
       "    </tr>\n",
       "    <tr>\n",
       "      <th>3</th>\n",
       "      <td>102458821</td>\n",
       "      <td>german</td>\n",
       "      <td>Bester Metallbaum Simulator auf dem markt</td>\n",
       "      <td>1636414755</td>\n",
       "      <td>1636414755</td>\n",
       "      <td>True</td>\n",
       "      <td>0</td>\n",
       "      <td>0</td>\n",
       "      <td>0</td>\n",
       "      <td>0</td>\n",
       "      <td>...</td>\n",
       "      <td>False</td>\n",
       "      <td>76561198838348149</td>\n",
       "      <td>32</td>\n",
       "      <td>2</td>\n",
       "      <td>35050</td>\n",
       "      <td>2243</td>\n",
       "      <td>35050.0</td>\n",
       "      <td>1636414625</td>\n",
       "      <td>NaN</td>\n",
       "      <td>NaN</td>\n",
       "    </tr>\n",
       "    <tr>\n",
       "      <th>4</th>\n",
       "      <td>102456954</td>\n",
       "      <td>english</td>\n",
       "      <td>Great game!</td>\n",
       "      <td>1636411096</td>\n",
       "      <td>1636411096</td>\n",
       "      <td>True</td>\n",
       "      <td>0</td>\n",
       "      <td>0</td>\n",
       "      <td>0</td>\n",
       "      <td>0</td>\n",
       "      <td>...</td>\n",
       "      <td>False</td>\n",
       "      <td>76561198027676924</td>\n",
       "      <td>144</td>\n",
       "      <td>2</td>\n",
       "      <td>18416</td>\n",
       "      <td>339</td>\n",
       "      <td>18356.0</td>\n",
       "      <td>1636423338</td>\n",
       "      <td>NaN</td>\n",
       "      <td>NaN</td>\n",
       "    </tr>\n",
       "    <tr>\n",
       "      <th>...</th>\n",
       "      <td>...</td>\n",
       "      <td>...</td>\n",
       "      <td>...</td>\n",
       "      <td>...</td>\n",
       "      <td>...</td>\n",
       "      <td>...</td>\n",
       "      <td>...</td>\n",
       "      <td>...</td>\n",
       "      <td>...</td>\n",
       "      <td>...</td>\n",
       "      <td>...</td>\n",
       "      <td>...</td>\n",
       "      <td>...</td>\n",
       "      <td>...</td>\n",
       "      <td>...</td>\n",
       "      <td>...</td>\n",
       "      <td>...</td>\n",
       "      <td>...</td>\n",
       "      <td>...</td>\n",
       "      <td>...</td>\n",
       "      <td>...</td>\n",
       "    </tr>\n",
       "    <tr>\n",
       "      <th>67</th>\n",
       "      <td>19708021</td>\n",
       "      <td>english</td>\n",
       "      <td>You're seriously looking for reviews for this ...</td>\n",
       "      <td>1450166600</td>\n",
       "      <td>1450166600</td>\n",
       "      <td>True</td>\n",
       "      <td>4</td>\n",
       "      <td>1</td>\n",
       "      <td>0.5</td>\n",
       "      <td>0</td>\n",
       "      <td>...</td>\n",
       "      <td>True</td>\n",
       "      <td>76561198038106526</td>\n",
       "      <td>249</td>\n",
       "      <td>5</td>\n",
       "      <td>98808</td>\n",
       "      <td>0</td>\n",
       "      <td>3561.0</td>\n",
       "      <td>1625961332</td>\n",
       "      <td>NaN</td>\n",
       "      <td>NaN</td>\n",
       "    </tr>\n",
       "    <tr>\n",
       "      <th>68</th>\n",
       "      <td>19708019</td>\n",
       "      <td>english</td>\n",
       "      <td>I get to rub butts as a medic\\n\\n10/10</td>\n",
       "      <td>1450166594</td>\n",
       "      <td>1450166594</td>\n",
       "      <td>True</td>\n",
       "      <td>88</td>\n",
       "      <td>285</td>\n",
       "      <td>0.559034168720245361</td>\n",
       "      <td>1</td>\n",
       "      <td>...</td>\n",
       "      <td>True</td>\n",
       "      <td>76561198008197373</td>\n",
       "      <td>399</td>\n",
       "      <td>2</td>\n",
       "      <td>5393</td>\n",
       "      <td>0</td>\n",
       "      <td>1837.0</td>\n",
       "      <td>1606539289</td>\n",
       "      <td>NaN</td>\n",
       "      <td>NaN</td>\n",
       "    </tr>\n",
       "    <tr>\n",
       "      <th>69</th>\n",
       "      <td>19708009</td>\n",
       "      <td>english</td>\n",
       "      <td>Communication and teamplay is one of the best ...</td>\n",
       "      <td>1450166529</td>\n",
       "      <td>1450166529</td>\n",
       "      <td>True</td>\n",
       "      <td>44</td>\n",
       "      <td>3</td>\n",
       "      <td>0.566997230052947998</td>\n",
       "      <td>0</td>\n",
       "      <td>...</td>\n",
       "      <td>True</td>\n",
       "      <td>76561198014615390</td>\n",
       "      <td>271</td>\n",
       "      <td>2</td>\n",
       "      <td>13850</td>\n",
       "      <td>0</td>\n",
       "      <td>2788.0</td>\n",
       "      <td>1602734063</td>\n",
       "      <td>NaN</td>\n",
       "      <td>NaN</td>\n",
       "    </tr>\n",
       "    <tr>\n",
       "      <th>70</th>\n",
       "      <td>19708002</td>\n",
       "      <td>english</td>\n",
       "      <td>If you're looking for a realistic mil-sim styl...</td>\n",
       "      <td>1450166484</td>\n",
       "      <td>1450166484</td>\n",
       "      <td>True</td>\n",
       "      <td>38</td>\n",
       "      <td>2</td>\n",
       "      <td>0.637014091014862061</td>\n",
       "      <td>0</td>\n",
       "      <td>...</td>\n",
       "      <td>True</td>\n",
       "      <td>76561198066675517</td>\n",
       "      <td>556</td>\n",
       "      <td>9</td>\n",
       "      <td>4636</td>\n",
       "      <td>0</td>\n",
       "      <td>1900.0</td>\n",
       "      <td>1603076360</td>\n",
       "      <td>NaN</td>\n",
       "      <td>NaN</td>\n",
       "    </tr>\n",
       "    <tr>\n",
       "      <th>71</th>\n",
       "      <td>19707992</td>\n",
       "      <td>english</td>\n",
       "      <td>(Disclaimer: This game used to not be on Steam...</td>\n",
       "      <td>1450166424</td>\n",
       "      <td>1450166424</td>\n",
       "      <td>True</td>\n",
       "      <td>157</td>\n",
       "      <td>9</td>\n",
       "      <td>0.786214649677276611</td>\n",
       "      <td>0</td>\n",
       "      <td>...</td>\n",
       "      <td>True</td>\n",
       "      <td>76561198038225005</td>\n",
       "      <td>273</td>\n",
       "      <td>9</td>\n",
       "      <td>9422</td>\n",
       "      <td>0</td>\n",
       "      <td>1193.0</td>\n",
       "      <td>1633913897</td>\n",
       "      <td>NaN</td>\n",
       "      <td>NaN</td>\n",
       "    </tr>\n",
       "  </tbody>\n",
       "</table>\n",
       "<p>90971 rows × 22 columns</p>\n",
       "</div>"
      ],
      "text/plain": [
       "   recommendationid language  \\\n",
       "0         102460437  english   \n",
       "1         102460168  english   \n",
       "2         102460116  english   \n",
       "3         102458821   german   \n",
       "4         102456954  english   \n",
       "..              ...      ...   \n",
       "67         19708021  english   \n",
       "68         19708019  english   \n",
       "69         19708009  english   \n",
       "70         19708002  english   \n",
       "71         19707992  english   \n",
       "\n",
       "                                               review  timestamp_created  \\\n",
       "0                                      very realistic         1636418051   \n",
       "1   great community only plays 6 hours yet had som...         1636417501   \n",
       "2   if you want a Mil-sim game where people are al...         1636417371   \n",
       "3           Bester Metallbaum Simulator auf dem markt         1636414755   \n",
       "4                                         Great game!         1636411096   \n",
       "..                                                ...                ...   \n",
       "67  You're seriously looking for reviews for this ...         1450166600   \n",
       "68             I get to rub butts as a medic\\n\\n10/10         1450166594   \n",
       "69  Communication and teamplay is one of the best ...         1450166529   \n",
       "70  If you're looking for a realistic mil-sim styl...         1450166484   \n",
       "71  (Disclaimer: This game used to not be on Steam...         1450166424   \n",
       "\n",
       "    timestamp_updated  voted_up  votes_up  votes_funny   weighted_vote_score  \\\n",
       "0          1636418051      True         0            0                     0   \n",
       "1          1636417501      True         0            0                     0   \n",
       "2          1636417371      True         0            0                     0   \n",
       "3          1636414755      True         0            0                     0   \n",
       "4          1636411096      True         0            0                     0   \n",
       "..                ...       ...       ...          ...                   ...   \n",
       "67         1450166600      True         4            1                   0.5   \n",
       "68         1450166594      True        88          285  0.559034168720245361   \n",
       "69         1450166529      True        44            3  0.566997230052947998   \n",
       "70         1450166484      True        38            2  0.637014091014862061   \n",
       "71         1450166424      True       157            9  0.786214649677276611   \n",
       "\n",
       "    comment_count  ...  written_during_early_access     author.steamid  \\\n",
       "0               0  ...                        False  76561198978326778   \n",
       "1               0  ...                        False  76561198303556161   \n",
       "2               0  ...                        False  76561198160748485   \n",
       "3               0  ...                        False  76561198838348149   \n",
       "4               0  ...                        False  76561198027676924   \n",
       "..            ...  ...                          ...                ...   \n",
       "67              0  ...                         True  76561198038106526   \n",
       "68              1  ...                         True  76561198008197373   \n",
       "69              0  ...                         True  76561198014615390   \n",
       "70              0  ...                         True  76561198066675517   \n",
       "71              0  ...                         True  76561198038225005   \n",
       "\n",
       "    author.num_games_owned author.num_reviews  author.playtime_forever  \\\n",
       "0                       11                  1                      930   \n",
       "1                       68                  3                      464   \n",
       "2                       17                  1                     1022   \n",
       "3                       32                  2                    35050   \n",
       "4                      144                  2                    18416   \n",
       "..                     ...                ...                      ...   \n",
       "67                     249                  5                    98808   \n",
       "68                     399                  2                     5393   \n",
       "69                     271                  2                    13850   \n",
       "70                     556                  9                     4636   \n",
       "71                     273                  9                     9422   \n",
       "\n",
       "    author.playtime_last_two_weeks  author.playtime_at_review  \\\n",
       "0                              930                      911.0   \n",
       "1                              464                      446.0   \n",
       "2                               16                     1015.0   \n",
       "3                             2243                    35050.0   \n",
       "4                              339                    18356.0   \n",
       "..                             ...                        ...   \n",
       "67                               0                     3561.0   \n",
       "68                               0                     1837.0   \n",
       "69                               0                     2788.0   \n",
       "70                               0                     1900.0   \n",
       "71                               0                     1193.0   \n",
       "\n",
       "    author.last_played  timestamp_dev_responded  developer_response  \n",
       "0           1636419328                      NaN                 NaN  \n",
       "1           1636422094                      NaN                 NaN  \n",
       "2           1636422604                      NaN                 NaN  \n",
       "3           1636414625                      NaN                 NaN  \n",
       "4           1636423338                      NaN                 NaN  \n",
       "..                 ...                      ...                 ...  \n",
       "67          1625961332                      NaN                 NaN  \n",
       "68          1606539289                      NaN                 NaN  \n",
       "69          1602734063                      NaN                 NaN  \n",
       "70          1603076360                      NaN                 NaN  \n",
       "71          1633913897                      NaN                 NaN  \n",
       "\n",
       "[90971 rows x 22 columns]"
      ]
     },
     "execution_count": 5,
     "metadata": {},
     "output_type": "execute_result"
    }
   ],
   "source": [
    "# inspect df\n",
    "df_steam_reviews"
   ]
  },
  {
   "cell_type": "markdown",
   "metadata": {},
   "source": [
    "<a id='#2.3'></a>"
   ]
  },
  {
   "cell_type": "markdown",
   "metadata": {},
   "source": [
    "## 2.3 Clean Game Reviews"
   ]
  },
  {
   "cell_type": "code",
   "execution_count": 6,
   "metadata": {},
   "outputs": [
    {
     "data": {
      "text/html": [
       "<div>\n",
       "<style scoped>\n",
       "    .dataframe tbody tr th:only-of-type {\n",
       "        vertical-align: middle;\n",
       "    }\n",
       "\n",
       "    .dataframe tbody tr th {\n",
       "        vertical-align: top;\n",
       "    }\n",
       "\n",
       "    .dataframe thead th {\n",
       "        text-align: right;\n",
       "    }\n",
       "</style>\n",
       "<table border=\"1\" class=\"dataframe\">\n",
       "  <thead>\n",
       "    <tr style=\"text-align: right;\">\n",
       "      <th></th>\n",
       "      <th>recommendationid</th>\n",
       "      <th>language</th>\n",
       "      <th>review</th>\n",
       "      <th>timestamp_created</th>\n",
       "      <th>timestamp_updated</th>\n",
       "      <th>voted_up</th>\n",
       "      <th>votes_up</th>\n",
       "      <th>votes_funny</th>\n",
       "      <th>weighted_vote_score</th>\n",
       "      <th>comment_count</th>\n",
       "      <th>steam_purchase</th>\n",
       "      <th>received_for_free</th>\n",
       "      <th>written_during_early_access</th>\n",
       "      <th>author.steamid</th>\n",
       "      <th>author.num_games_owned</th>\n",
       "      <th>author.num_reviews</th>\n",
       "      <th>author.playtime_forever</th>\n",
       "      <th>author.playtime_last_two_weeks</th>\n",
       "      <th>author.playtime_at_review</th>\n",
       "      <th>author.last_played</th>\n",
       "    </tr>\n",
       "  </thead>\n",
       "  <tbody>\n",
       "    <tr>\n",
       "      <th>0</th>\n",
       "      <td>102460437</td>\n",
       "      <td>english</td>\n",
       "      <td>very realistic</td>\n",
       "      <td>2021-11-08 18:34:11</td>\n",
       "      <td>2021-11-08 18:34:11</td>\n",
       "      <td>True</td>\n",
       "      <td>0</td>\n",
       "      <td>0</td>\n",
       "      <td>0</td>\n",
       "      <td>0</td>\n",
       "      <td>True</td>\n",
       "      <td>False</td>\n",
       "      <td>False</td>\n",
       "      <td>76561198978326778</td>\n",
       "      <td>11</td>\n",
       "      <td>1</td>\n",
       "      <td>930</td>\n",
       "      <td>930</td>\n",
       "      <td>911.0</td>\n",
       "      <td>2021-11-08 18:55:28</td>\n",
       "    </tr>\n",
       "    <tr>\n",
       "      <th>1</th>\n",
       "      <td>102460168</td>\n",
       "      <td>english</td>\n",
       "      <td>great community only plays 6 hours yet had som...</td>\n",
       "      <td>2021-11-08 18:25:01</td>\n",
       "      <td>2021-11-08 18:25:01</td>\n",
       "      <td>True</td>\n",
       "      <td>0</td>\n",
       "      <td>0</td>\n",
       "      <td>0</td>\n",
       "      <td>0</td>\n",
       "      <td>True</td>\n",
       "      <td>False</td>\n",
       "      <td>False</td>\n",
       "      <td>76561198303556161</td>\n",
       "      <td>68</td>\n",
       "      <td>3</td>\n",
       "      <td>464</td>\n",
       "      <td>464</td>\n",
       "      <td>446.0</td>\n",
       "      <td>2021-11-08 19:41:34</td>\n",
       "    </tr>\n",
       "    <tr>\n",
       "      <th>2</th>\n",
       "      <td>102460116</td>\n",
       "      <td>english</td>\n",
       "      <td>if you want a Mil-sim game where people are al...</td>\n",
       "      <td>2021-11-08 18:22:51</td>\n",
       "      <td>2021-11-08 18:22:51</td>\n",
       "      <td>True</td>\n",
       "      <td>0</td>\n",
       "      <td>0</td>\n",
       "      <td>0</td>\n",
       "      <td>0</td>\n",
       "      <td>True</td>\n",
       "      <td>False</td>\n",
       "      <td>False</td>\n",
       "      <td>76561198160748485</td>\n",
       "      <td>17</td>\n",
       "      <td>1</td>\n",
       "      <td>1022</td>\n",
       "      <td>16</td>\n",
       "      <td>1015.0</td>\n",
       "      <td>2021-11-08 19:50:04</td>\n",
       "    </tr>\n",
       "    <tr>\n",
       "      <th>3</th>\n",
       "      <td>102458821</td>\n",
       "      <td>german</td>\n",
       "      <td>Bester Metallbaum Simulator auf dem markt</td>\n",
       "      <td>2021-11-08 17:39:15</td>\n",
       "      <td>2021-11-08 17:39:15</td>\n",
       "      <td>True</td>\n",
       "      <td>0</td>\n",
       "      <td>0</td>\n",
       "      <td>0</td>\n",
       "      <td>0</td>\n",
       "      <td>True</td>\n",
       "      <td>False</td>\n",
       "      <td>False</td>\n",
       "      <td>76561198838348149</td>\n",
       "      <td>32</td>\n",
       "      <td>2</td>\n",
       "      <td>35050</td>\n",
       "      <td>2243</td>\n",
       "      <td>35050.0</td>\n",
       "      <td>2021-11-08 17:37:05</td>\n",
       "    </tr>\n",
       "    <tr>\n",
       "      <th>4</th>\n",
       "      <td>102456954</td>\n",
       "      <td>english</td>\n",
       "      <td>Great game!</td>\n",
       "      <td>2021-11-08 16:38:16</td>\n",
       "      <td>2021-11-08 16:38:16</td>\n",
       "      <td>True</td>\n",
       "      <td>0</td>\n",
       "      <td>0</td>\n",
       "      <td>0</td>\n",
       "      <td>0</td>\n",
       "      <td>True</td>\n",
       "      <td>False</td>\n",
       "      <td>False</td>\n",
       "      <td>76561198027676924</td>\n",
       "      <td>144</td>\n",
       "      <td>2</td>\n",
       "      <td>18416</td>\n",
       "      <td>339</td>\n",
       "      <td>18356.0</td>\n",
       "      <td>2021-11-08 20:02:18</td>\n",
       "    </tr>\n",
       "    <tr>\n",
       "      <th>...</th>\n",
       "      <td>...</td>\n",
       "      <td>...</td>\n",
       "      <td>...</td>\n",
       "      <td>...</td>\n",
       "      <td>...</td>\n",
       "      <td>...</td>\n",
       "      <td>...</td>\n",
       "      <td>...</td>\n",
       "      <td>...</td>\n",
       "      <td>...</td>\n",
       "      <td>...</td>\n",
       "      <td>...</td>\n",
       "      <td>...</td>\n",
       "      <td>...</td>\n",
       "      <td>...</td>\n",
       "      <td>...</td>\n",
       "      <td>...</td>\n",
       "      <td>...</td>\n",
       "      <td>...</td>\n",
       "      <td>...</td>\n",
       "    </tr>\n",
       "    <tr>\n",
       "      <th>67</th>\n",
       "      <td>19708021</td>\n",
       "      <td>english</td>\n",
       "      <td>You're seriously looking for reviews for this ...</td>\n",
       "      <td>2015-12-15 02:03:20</td>\n",
       "      <td>2015-12-15 02:03:20</td>\n",
       "      <td>True</td>\n",
       "      <td>4</td>\n",
       "      <td>1</td>\n",
       "      <td>0.5</td>\n",
       "      <td>0</td>\n",
       "      <td>False</td>\n",
       "      <td>False</td>\n",
       "      <td>True</td>\n",
       "      <td>76561198038106526</td>\n",
       "      <td>249</td>\n",
       "      <td>5</td>\n",
       "      <td>98808</td>\n",
       "      <td>0</td>\n",
       "      <td>3561.0</td>\n",
       "      <td>2021-07-10 18:55:32</td>\n",
       "    </tr>\n",
       "    <tr>\n",
       "      <th>68</th>\n",
       "      <td>19708019</td>\n",
       "      <td>english</td>\n",
       "      <td>I get to rub butts as a medic\\n\\n10/10</td>\n",
       "      <td>2015-12-15 02:03:14</td>\n",
       "      <td>2015-12-15 02:03:14</td>\n",
       "      <td>True</td>\n",
       "      <td>88</td>\n",
       "      <td>285</td>\n",
       "      <td>0.559034168720245361</td>\n",
       "      <td>1</td>\n",
       "      <td>False</td>\n",
       "      <td>False</td>\n",
       "      <td>True</td>\n",
       "      <td>76561198008197373</td>\n",
       "      <td>399</td>\n",
       "      <td>2</td>\n",
       "      <td>5393</td>\n",
       "      <td>0</td>\n",
       "      <td>1837.0</td>\n",
       "      <td>2020-11-27 22:54:49</td>\n",
       "    </tr>\n",
       "    <tr>\n",
       "      <th>69</th>\n",
       "      <td>19708009</td>\n",
       "      <td>english</td>\n",
       "      <td>Communication and teamplay is one of the best ...</td>\n",
       "      <td>2015-12-15 02:02:09</td>\n",
       "      <td>2015-12-15 02:02:09</td>\n",
       "      <td>True</td>\n",
       "      <td>44</td>\n",
       "      <td>3</td>\n",
       "      <td>0.566997230052947998</td>\n",
       "      <td>0</td>\n",
       "      <td>False</td>\n",
       "      <td>False</td>\n",
       "      <td>True</td>\n",
       "      <td>76561198014615390</td>\n",
       "      <td>271</td>\n",
       "      <td>2</td>\n",
       "      <td>13850</td>\n",
       "      <td>0</td>\n",
       "      <td>2788.0</td>\n",
       "      <td>2020-10-14 22:54:23</td>\n",
       "    </tr>\n",
       "    <tr>\n",
       "      <th>70</th>\n",
       "      <td>19708002</td>\n",
       "      <td>english</td>\n",
       "      <td>If you're looking for a realistic mil-sim styl...</td>\n",
       "      <td>2015-12-15 02:01:24</td>\n",
       "      <td>2015-12-15 02:01:24</td>\n",
       "      <td>True</td>\n",
       "      <td>38</td>\n",
       "      <td>2</td>\n",
       "      <td>0.637014091014862061</td>\n",
       "      <td>0</td>\n",
       "      <td>False</td>\n",
       "      <td>False</td>\n",
       "      <td>True</td>\n",
       "      <td>76561198066675517</td>\n",
       "      <td>556</td>\n",
       "      <td>9</td>\n",
       "      <td>4636</td>\n",
       "      <td>0</td>\n",
       "      <td>1900.0</td>\n",
       "      <td>2020-10-18 21:59:20</td>\n",
       "    </tr>\n",
       "    <tr>\n",
       "      <th>71</th>\n",
       "      <td>19707992</td>\n",
       "      <td>english</td>\n",
       "      <td>(Disclaimer: This game used to not be on Steam...</td>\n",
       "      <td>2015-12-15 02:00:24</td>\n",
       "      <td>2015-12-15 02:00:24</td>\n",
       "      <td>True</td>\n",
       "      <td>157</td>\n",
       "      <td>9</td>\n",
       "      <td>0.786214649677276611</td>\n",
       "      <td>0</td>\n",
       "      <td>False</td>\n",
       "      <td>False</td>\n",
       "      <td>True</td>\n",
       "      <td>76561198038225005</td>\n",
       "      <td>273</td>\n",
       "      <td>9</td>\n",
       "      <td>9422</td>\n",
       "      <td>0</td>\n",
       "      <td>1193.0</td>\n",
       "      <td>2021-10-10 19:58:17</td>\n",
       "    </tr>\n",
       "  </tbody>\n",
       "</table>\n",
       "<p>90971 rows × 20 columns</p>\n",
       "</div>"
      ],
      "text/plain": [
       "   recommendationid language  \\\n",
       "0         102460437  english   \n",
       "1         102460168  english   \n",
       "2         102460116  english   \n",
       "3         102458821   german   \n",
       "4         102456954  english   \n",
       "..              ...      ...   \n",
       "67         19708021  english   \n",
       "68         19708019  english   \n",
       "69         19708009  english   \n",
       "70         19708002  english   \n",
       "71         19707992  english   \n",
       "\n",
       "                                               review   timestamp_created  \\\n",
       "0                                      very realistic 2021-11-08 18:34:11   \n",
       "1   great community only plays 6 hours yet had som... 2021-11-08 18:25:01   \n",
       "2   if you want a Mil-sim game where people are al... 2021-11-08 18:22:51   \n",
       "3           Bester Metallbaum Simulator auf dem markt 2021-11-08 17:39:15   \n",
       "4                                         Great game! 2021-11-08 16:38:16   \n",
       "..                                                ...                 ...   \n",
       "67  You're seriously looking for reviews for this ... 2015-12-15 02:03:20   \n",
       "68             I get to rub butts as a medic\\n\\n10/10 2015-12-15 02:03:14   \n",
       "69  Communication and teamplay is one of the best ... 2015-12-15 02:02:09   \n",
       "70  If you're looking for a realistic mil-sim styl... 2015-12-15 02:01:24   \n",
       "71  (Disclaimer: This game used to not be on Steam... 2015-12-15 02:00:24   \n",
       "\n",
       "     timestamp_updated  voted_up  votes_up  votes_funny   weighted_vote_score  \\\n",
       "0  2021-11-08 18:34:11      True         0            0                     0   \n",
       "1  2021-11-08 18:25:01      True         0            0                     0   \n",
       "2  2021-11-08 18:22:51      True         0            0                     0   \n",
       "3  2021-11-08 17:39:15      True         0            0                     0   \n",
       "4  2021-11-08 16:38:16      True         0            0                     0   \n",
       "..                 ...       ...       ...          ...                   ...   \n",
       "67 2015-12-15 02:03:20      True         4            1                   0.5   \n",
       "68 2015-12-15 02:03:14      True        88          285  0.559034168720245361   \n",
       "69 2015-12-15 02:02:09      True        44            3  0.566997230052947998   \n",
       "70 2015-12-15 02:01:24      True        38            2  0.637014091014862061   \n",
       "71 2015-12-15 02:00:24      True       157            9  0.786214649677276611   \n",
       "\n",
       "    comment_count  steam_purchase  received_for_free  \\\n",
       "0               0            True              False   \n",
       "1               0            True              False   \n",
       "2               0            True              False   \n",
       "3               0            True              False   \n",
       "4               0            True              False   \n",
       "..            ...             ...                ...   \n",
       "67              0           False              False   \n",
       "68              1           False              False   \n",
       "69              0           False              False   \n",
       "70              0           False              False   \n",
       "71              0           False              False   \n",
       "\n",
       "    written_during_early_access     author.steamid  author.num_games_owned  \\\n",
       "0                         False  76561198978326778                      11   \n",
       "1                         False  76561198303556161                      68   \n",
       "2                         False  76561198160748485                      17   \n",
       "3                         False  76561198838348149                      32   \n",
       "4                         False  76561198027676924                     144   \n",
       "..                          ...                ...                     ...   \n",
       "67                         True  76561198038106526                     249   \n",
       "68                         True  76561198008197373                     399   \n",
       "69                         True  76561198014615390                     271   \n",
       "70                         True  76561198066675517                     556   \n",
       "71                         True  76561198038225005                     273   \n",
       "\n",
       "    author.num_reviews  author.playtime_forever  \\\n",
       "0                    1                      930   \n",
       "1                    3                      464   \n",
       "2                    1                     1022   \n",
       "3                    2                    35050   \n",
       "4                    2                    18416   \n",
       "..                 ...                      ...   \n",
       "67                   5                    98808   \n",
       "68                   2                     5393   \n",
       "69                   2                    13850   \n",
       "70                   9                     4636   \n",
       "71                   9                     9422   \n",
       "\n",
       "    author.playtime_last_two_weeks  author.playtime_at_review  \\\n",
       "0                              930                      911.0   \n",
       "1                              464                      446.0   \n",
       "2                               16                     1015.0   \n",
       "3                             2243                    35050.0   \n",
       "4                              339                    18356.0   \n",
       "..                             ...                        ...   \n",
       "67                               0                     3561.0   \n",
       "68                               0                     1837.0   \n",
       "69                               0                     2788.0   \n",
       "70                               0                     1900.0   \n",
       "71                               0                     1193.0   \n",
       "\n",
       "    author.last_played  \n",
       "0  2021-11-08 18:55:28  \n",
       "1  2021-11-08 19:41:34  \n",
       "2  2021-11-08 19:50:04  \n",
       "3  2021-11-08 17:37:05  \n",
       "4  2021-11-08 20:02:18  \n",
       "..                 ...  \n",
       "67 2021-07-10 18:55:32  \n",
       "68 2020-11-27 22:54:49  \n",
       "69 2020-10-14 22:54:23  \n",
       "70 2020-10-18 21:59:20  \n",
       "71 2021-10-10 19:58:17  \n",
       "\n",
       "[90971 rows x 20 columns]"
      ]
     },
     "execution_count": 6,
     "metadata": {},
     "output_type": "execute_result"
    }
   ],
   "source": [
    "#drop empty cols 'timestamp_dev_responded' and 'developer_response'\n",
    "df_steam_reviews = df_steam_reviews.drop(['timestamp_dev_responded', 'developer_response'], axis=1)\n",
    "\n",
    "# convert unix timestamp columns to datetime format\n",
    "def time_to_clean(x):\n",
    "    return datetime.fromtimestamp(x)\n",
    "\n",
    "df_steam_reviews['timestamp_created'] = df_steam_reviews['timestamp_created'].apply(time_to_clean)\n",
    "df_steam_reviews['timestamp_updated'] = df_steam_reviews['timestamp_updated'].apply(time_to_clean)\n",
    "df_steam_reviews['author.last_played'] = df_steam_reviews['author.last_played'].apply(time_to_clean)\n",
    "\n",
    "# inspect\n",
    "df_steam_reviews"
   ]
  },
  {
   "cell_type": "markdown",
   "metadata": {},
   "source": [
    "<a id='#2.4'></a>"
   ]
  },
  {
   "cell_type": "markdown",
   "metadata": {},
   "source": [
    "## 2.4 Save Game Reviews"
   ]
  },
  {
   "cell_type": "code",
   "execution_count": 7,
   "metadata": {},
   "outputs": [],
   "source": [
    "# save that sheet\n",
    "df_steam_reviews.to_csv(r'../data/processed/game_reviews_processed.csv', index=False)"
   ]
  },
  {
   "cell_type": "code",
   "execution_count": 4,
   "metadata": {},
   "outputs": [],
   "source": [
    "#load that sheet, if restarted instance\n",
    "# save that sheet\n",
    "df_steam_reviews = pd.read_csv(r'../data/processed/game_reviews_processed.csv')"
   ]
  },
  {
   "cell_type": "markdown",
   "metadata": {},
   "source": [
    "<a id='#2.5'></a>"
   ]
  },
  {
   "cell_type": "markdown",
   "metadata": {},
   "source": [
    "## 2.5 Import 'Users Per Day'"
   ]
  },
  {
   "cell_type": "code",
   "execution_count": 5,
   "metadata": {},
   "outputs": [],
   "source": [
    "#load 'steam charts for every day' downloaded by hand from https://steamdb.info/ on August 14th \n",
    "df_upd = pd.read_csv(r'../data/processed/users_per_day.csv')"
   ]
  },
  {
   "cell_type": "code",
   "execution_count": 6,
   "metadata": {},
   "outputs": [],
   "source": [
    "#convert 'DateTime' col to datetime Dtype.\n",
    "df_upd['DateTime'] = pd.to_datetime(df_upd['DateTime'])"
   ]
  },
  {
   "cell_type": "code",
   "execution_count": 7,
   "metadata": {},
   "outputs": [
    {
     "name": "stdout",
     "output_type": "stream",
     "text": [
      "<class 'pandas.core.frame.DataFrame'>\n",
      "RangeIndex: 1748 entries, 0 to 1747\n",
      "Data columns (total 4 columns):\n",
      " #   Column          Non-Null Count  Dtype         \n",
      "---  ------          --------------  -----         \n",
      " 0   DateTime        1748 non-null   datetime64[ns]\n",
      " 1   Players         1731 non-null   float64       \n",
      " 2   Flags           0 non-null      float64       \n",
      " 3   Twitch Viewers  1088 non-null   float64       \n",
      "dtypes: datetime64[ns](1), float64(3)\n",
      "memory usage: 54.8 KB\n",
      "None\n"
     ]
    }
   ],
   "source": [
    "#inspect cols\n",
    "print(df_upd.info(verbose=True))"
   ]
  },
  {
   "cell_type": "code",
   "execution_count": 8,
   "metadata": {},
   "outputs": [
    {
     "data": {
      "text/plain": [
       "(1748, 4)"
      ]
     },
     "execution_count": 8,
     "metadata": {},
     "output_type": "execute_result"
    }
   ],
   "source": [
    "#inspect shape\n",
    "df_upd.shape"
   ]
  },
  {
   "cell_type": "code",
   "execution_count": 9,
   "metadata": {},
   "outputs": [
    {
     "data": {
      "text/html": [
       "<div>\n",
       "<style scoped>\n",
       "    .dataframe tbody tr th:only-of-type {\n",
       "        vertical-align: middle;\n",
       "    }\n",
       "\n",
       "    .dataframe tbody tr th {\n",
       "        vertical-align: top;\n",
       "    }\n",
       "\n",
       "    .dataframe thead th {\n",
       "        text-align: right;\n",
       "    }\n",
       "</style>\n",
       "<table border=\"1\" class=\"dataframe\">\n",
       "  <thead>\n",
       "    <tr style=\"text-align: right;\">\n",
       "      <th></th>\n",
       "      <th>DateTime</th>\n",
       "      <th>Players</th>\n",
       "      <th>Flags</th>\n",
       "      <th>Twitch Viewers</th>\n",
       "    </tr>\n",
       "  </thead>\n",
       "  <tbody>\n",
       "    <tr>\n",
       "      <th>0</th>\n",
       "      <td>2015-11-01</td>\n",
       "      <td>5.0</td>\n",
       "      <td>NaN</td>\n",
       "      <td>NaN</td>\n",
       "    </tr>\n",
       "    <tr>\n",
       "      <th>1</th>\n",
       "      <td>2015-11-02</td>\n",
       "      <td>NaN</td>\n",
       "      <td>NaN</td>\n",
       "      <td>NaN</td>\n",
       "    </tr>\n",
       "    <tr>\n",
       "      <th>2</th>\n",
       "      <td>2015-11-03</td>\n",
       "      <td>NaN</td>\n",
       "      <td>NaN</td>\n",
       "      <td>NaN</td>\n",
       "    </tr>\n",
       "    <tr>\n",
       "      <th>3</th>\n",
       "      <td>2015-11-04</td>\n",
       "      <td>NaN</td>\n",
       "      <td>NaN</td>\n",
       "      <td>NaN</td>\n",
       "    </tr>\n",
       "    <tr>\n",
       "      <th>4</th>\n",
       "      <td>2015-11-05</td>\n",
       "      <td>NaN</td>\n",
       "      <td>NaN</td>\n",
       "      <td>NaN</td>\n",
       "    </tr>\n",
       "    <tr>\n",
       "      <th>...</th>\n",
       "      <td>...</td>\n",
       "      <td>...</td>\n",
       "      <td>...</td>\n",
       "      <td>...</td>\n",
       "    </tr>\n",
       "    <tr>\n",
       "      <th>1743</th>\n",
       "      <td>2020-08-09</td>\n",
       "      <td>6141.0</td>\n",
       "      <td>NaN</td>\n",
       "      <td>254.0</td>\n",
       "    </tr>\n",
       "    <tr>\n",
       "      <th>1744</th>\n",
       "      <td>2020-08-10</td>\n",
       "      <td>5210.0</td>\n",
       "      <td>NaN</td>\n",
       "      <td>890.0</td>\n",
       "    </tr>\n",
       "    <tr>\n",
       "      <th>1745</th>\n",
       "      <td>2020-08-11</td>\n",
       "      <td>5083.0</td>\n",
       "      <td>NaN</td>\n",
       "      <td>370.0</td>\n",
       "    </tr>\n",
       "    <tr>\n",
       "      <th>1746</th>\n",
       "      <td>2020-08-12</td>\n",
       "      <td>4987.0</td>\n",
       "      <td>NaN</td>\n",
       "      <td>654.0</td>\n",
       "    </tr>\n",
       "    <tr>\n",
       "      <th>1747</th>\n",
       "      <td>2020-08-13</td>\n",
       "      <td>5333.0</td>\n",
       "      <td>NaN</td>\n",
       "      <td>397.0</td>\n",
       "    </tr>\n",
       "  </tbody>\n",
       "</table>\n",
       "<p>1748 rows × 4 columns</p>\n",
       "</div>"
      ],
      "text/plain": [
       "       DateTime  Players  Flags  Twitch Viewers\n",
       "0    2015-11-01      5.0    NaN             NaN\n",
       "1    2015-11-02      NaN    NaN             NaN\n",
       "2    2015-11-03      NaN    NaN             NaN\n",
       "3    2015-11-04      NaN    NaN             NaN\n",
       "4    2015-11-05      NaN    NaN             NaN\n",
       "...         ...      ...    ...             ...\n",
       "1743 2020-08-09   6141.0    NaN           254.0\n",
       "1744 2020-08-10   5210.0    NaN           890.0\n",
       "1745 2020-08-11   5083.0    NaN           370.0\n",
       "1746 2020-08-12   4987.0    NaN           654.0\n",
       "1747 2020-08-13   5333.0    NaN           397.0\n",
       "\n",
       "[1748 rows x 4 columns]"
      ]
     },
     "execution_count": 9,
     "metadata": {},
     "output_type": "execute_result"
    }
   ],
   "source": [
    "#inspect df\n",
    "df_upd"
   ]
  },
  {
   "cell_type": "markdown",
   "metadata": {},
   "source": [
    "<a id='#3.'></a>"
   ]
  },
  {
   "cell_type": "markdown",
   "metadata": {},
   "source": [
    "# 3. Analysis: "
   ]
  },
  {
   "cell_type": "markdown",
   "metadata": {},
   "source": [
    "<a id='#3.1'></a>"
   ]
  },
  {
   "cell_type": "markdown",
   "metadata": {},
   "source": [
    "## 3.1 Sentiment Analysis\n",
    "--Can you quantify user sentiment about a game? "
   ]
  },
  {
   "cell_type": "markdown",
   "metadata": {},
   "source": [
    "<a id='#3.1.1'></a>"
   ]
  },
  {
   "cell_type": "markdown",
   "metadata": {},
   "source": [
    "## 3.1.1 Setup"
   ]
  },
  {
   "cell_type": "code",
   "execution_count": 3,
   "metadata": {},
   "outputs": [
    {
     "data": {
      "text/plain": [
       "device(type='cuda', index=0)"
      ]
     },
     "execution_count": 3,
     "metadata": {},
     "output_type": "execute_result"
    }
   ],
   "source": [
    "import transformers\n",
    "from transformers import BertModel, BertTokenizer, AdamW, get_linear_schedule_with_warmup\n",
    "\n",
    "import os as os\n",
    "import sys as sys\n",
    "import numpy as np\n",
    "import pandas as pd\n",
    "import seaborn as sns\n",
    "from matplotlib import rc\n",
    "from pylab import rcParams\n",
    "from torch import nn, optim\n",
    "import matplotlib.pyplot as plt\n",
    "from collections import defaultdict\n",
    "from sklearn.model_selection import train_test_split\n",
    "from sklearn.metrics import confusion_matrix, classification_report\n",
    "\n",
    "import torch\n",
    "from torch import nn, optim\n",
    "import torch.nn.functional as F\n",
    "from torch.utils.data import Dataset, DataLoader\n",
    "\n",
    "import json\n",
    "import pandas as pd\n",
    "import urllib.parse\n",
    "import urllib.request\n",
    "from time import sleep\n",
    "from pandas import json_normalize\n",
    "\n",
    "#set graph config\n",
    "%matplotlib inline\n",
    "%config InlineBackend.figure_format='retina'\n",
    "sns.set(style='whitegrid', palette='muted', font_scale=1.2)\n",
    "HAPPY_COLORS_PALETTE = [\"#01BEFE\", \"#FFDD00\", \"#FF7D00\", \"#FF006D\", \"#ADFF02\", \"#8F00FF\"]\n",
    "sns.set_palette(sns.color_palette(HAPPY_COLORS_PALETTE))\n",
    "rcParams['figure.figsize'] = 12, 8\n",
    "\n",
    "#set seed\n",
    "RANDOM_SEED = 42\n",
    "np.random.seed(RANDOM_SEED)\n",
    "torch.manual_seed(RANDOM_SEED)\n",
    "\n",
    "#check gpu\n",
    "device = torch.device(\"cuda:0\" if torch.cuda.is_available() else \"cpu\")\n",
    "device"
   ]
  },
  {
   "cell_type": "markdown",
   "metadata": {},
   "source": [
    "<a id='#3.1.2'></a>"
   ]
  },
  {
   "cell_type": "markdown",
   "metadata": {},
   "source": [
    "## 3.1.2 Load Training Datasets and Pre-Process"
   ]
  },
  {
   "cell_type": "code",
   "execution_count": 11,
   "metadata": {},
   "outputs": [],
   "source": [
    "#load training dataset (google app reviews, 16K rows)\n",
    "df_google = pd.read_csv(r'../data/processed/reviews.csv')"
   ]
  },
  {
   "cell_type": "code",
   "execution_count": 12,
   "metadata": {},
   "outputs": [
    {
     "data": {
      "text/html": [
       "<div>\n",
       "<style scoped>\n",
       "    .dataframe tbody tr th:only-of-type {\n",
       "        vertical-align: middle;\n",
       "    }\n",
       "\n",
       "    .dataframe tbody tr th {\n",
       "        vertical-align: top;\n",
       "    }\n",
       "\n",
       "    .dataframe thead th {\n",
       "        text-align: right;\n",
       "    }\n",
       "</style>\n",
       "<table border=\"1\" class=\"dataframe\">\n",
       "  <thead>\n",
       "    <tr style=\"text-align: right;\">\n",
       "      <th></th>\n",
       "      <th>userName</th>\n",
       "      <th>userImage</th>\n",
       "      <th>content</th>\n",
       "      <th>score</th>\n",
       "      <th>thumbsUpCount</th>\n",
       "      <th>reviewCreatedVersion</th>\n",
       "      <th>at</th>\n",
       "      <th>replyContent</th>\n",
       "      <th>repliedAt</th>\n",
       "      <th>sortOrder</th>\n",
       "      <th>appId</th>\n",
       "    </tr>\n",
       "  </thead>\n",
       "  <tbody>\n",
       "  </tbody>\n",
       "</table>\n",
       "</div>"
      ],
      "text/plain": [
       "Empty DataFrame\n",
       "Columns: [userName, userImage, content, score, thumbsUpCount, reviewCreatedVersion, at, replyContent, repliedAt, sortOrder, appId]\n",
       "Index: []"
      ]
     },
     "execution_count": 12,
     "metadata": {},
     "output_type": "execute_result"
    }
   ],
   "source": [
    "#inspect google reviews\n",
    "df_google.head(0)"
   ]
  },
  {
   "cell_type": "code",
   "execution_count": 13,
   "metadata": {},
   "outputs": [
    {
     "data": {
      "text/plain": [
       "(15746, 11)"
      ]
     },
     "execution_count": 13,
     "metadata": {},
     "output_type": "execute_result"
    }
   ],
   "source": [
    "#inspect #2\n",
    "df_google.shape"
   ]
  },
  {
   "cell_type": "code",
   "execution_count": 14,
   "metadata": {},
   "outputs": [],
   "source": [
    "#The imbalce is ok, because we're dividing between negative(1,2) neutral(3) and positive (4,5).\n",
    "def to_sentiment(rating):\n",
    "  rating = int(rating)\n",
    "  if rating <= 2:\n",
    "    return 0\n",
    "  elif rating == 3:\n",
    "    return 1\n",
    "  else: \n",
    "    return 2\n",
    "\n",
    "#apply above function to dataset\n",
    "df_google['sentiment'] = df_google.score.apply(to_sentiment)"
   ]
  },
  {
   "cell_type": "code",
   "execution_count": 15,
   "metadata": {},
   "outputs": [
    {
     "name": "stderr",
     "output_type": "stream",
     "text": [
      "C:\\Users\\carlb\\anaconda3\\envs\\pytorch_gpu\\lib\\site-packages\\seaborn\\_decorators.py:36: FutureWarning: Pass the following variable as a keyword arg: x. From version 0.12, the only valid positional argument will be `data`, and passing other arguments without an explicit keyword will result in an error or misinterpretation.\n",
      "  warnings.warn(\n",
      "C:\\Users\\carlb\\anaconda3\\envs\\pytorch_gpu\\lib\\site-packages\\seaborn\\_decorators.py:36: FutureWarning: Pass the following variable as a keyword arg: x. From version 0.12, the only valid positional argument will be `data`, and passing other arguments without an explicit keyword will result in an error or misinterpretation.\n",
      "  warnings.warn(\n"
     ]
    },
    {
     "data": {
      "image/png": "[encoded data removed]",
      "text/plain": [
       "<Figure size 864x576 with 1 Axes>"
      ]
     },
     "metadata": {
      "image/png": {
       "height": 488,
       "width": 740
      }
     },
     "output_type": "display_data"
    }
   ],
   "source": [
    "#review changes\n",
    "class_names = ['negative', 'neutral', 'positive']\n",
    "ax = sns.countplot(df_google.sentiment)\n",
    "plt.xlabel('review sentiment')\n",
    "sns.countplot(df_google.sentiment)\n",
    "ax.set_xticklabels(class_names);"
   ]
  },
  {
   "cell_type": "code",
   "execution_count": 16,
   "metadata": {},
   "outputs": [
    {
     "data": {
      "text/html": [
       "<div>\n",
       "<style scoped>\n",
       "    .dataframe tbody tr th:only-of-type {\n",
       "        vertical-align: middle;\n",
       "    }\n",
       "\n",
       "    .dataframe tbody tr th {\n",
       "        vertical-align: top;\n",
       "    }\n",
       "\n",
       "    .dataframe thead th {\n",
       "        text-align: right;\n",
       "    }\n",
       "</style>\n",
       "<table border=\"1\" class=\"dataframe\">\n",
       "  <thead>\n",
       "    <tr style=\"text-align: right;\">\n",
       "      <th></th>\n",
       "      <th>content</th>\n",
       "      <th>sentiment</th>\n",
       "    </tr>\n",
       "  </thead>\n",
       "  <tbody>\n",
       "    <tr>\n",
       "      <th>0</th>\n",
       "      <td>Update: After getting a response from the deve...</td>\n",
       "      <td>0</td>\n",
       "    </tr>\n",
       "    <tr>\n",
       "      <th>1</th>\n",
       "      <td>Used it for a fair amount of time without any ...</td>\n",
       "      <td>0</td>\n",
       "    </tr>\n",
       "    <tr>\n",
       "      <th>2</th>\n",
       "      <td>Your app sucks now!!!!! Used to be good but no...</td>\n",
       "      <td>0</td>\n",
       "    </tr>\n",
       "    <tr>\n",
       "      <th>3</th>\n",
       "      <td>It seems OK, but very basic. Recurring tasks n...</td>\n",
       "      <td>0</td>\n",
       "    </tr>\n",
       "    <tr>\n",
       "      <th>4</th>\n",
       "      <td>Absolutely worthless. This app runs a prohibit...</td>\n",
       "      <td>0</td>\n",
       "    </tr>\n",
       "    <tr>\n",
       "      <th>...</th>\n",
       "      <td>...</td>\n",
       "      <td>...</td>\n",
       "    </tr>\n",
       "    <tr>\n",
       "      <th>15741</th>\n",
       "      <td>I believe that this is by far the best app wit...</td>\n",
       "      <td>2</td>\n",
       "    </tr>\n",
       "    <tr>\n",
       "      <th>15742</th>\n",
       "      <td>It sometimes crashes a lot!!</td>\n",
       "      <td>2</td>\n",
       "    </tr>\n",
       "    <tr>\n",
       "      <th>15743</th>\n",
       "      <td>Works well for what I need</td>\n",
       "      <td>2</td>\n",
       "    </tr>\n",
       "    <tr>\n",
       "      <th>15744</th>\n",
       "      <td>Love it.</td>\n",
       "      <td>2</td>\n",
       "    </tr>\n",
       "    <tr>\n",
       "      <th>15745</th>\n",
       "      <td>Really amazing and helped me sooo much just i ...</td>\n",
       "      <td>2</td>\n",
       "    </tr>\n",
       "  </tbody>\n",
       "</table>\n",
       "<p>15746 rows × 2 columns</p>\n",
       "</div>"
      ],
      "text/plain": [
       "                                                 content  sentiment\n",
       "0      Update: After getting a response from the deve...          0\n",
       "1      Used it for a fair amount of time without any ...          0\n",
       "2      Your app sucks now!!!!! Used to be good but no...          0\n",
       "3      It seems OK, but very basic. Recurring tasks n...          0\n",
       "4      Absolutely worthless. This app runs a prohibit...          0\n",
       "...                                                  ...        ...\n",
       "15741  I believe that this is by far the best app wit...          2\n",
       "15742                       It sometimes crashes a lot!!          2\n",
       "15743                         Works well for what I need          2\n",
       "15744                                           Love it.          2\n",
       "15745  Really amazing and helped me sooo much just i ...          2\n",
       "\n",
       "[15746 rows x 2 columns]"
      ]
     },
     "execution_count": 16,
     "metadata": {},
     "output_type": "execute_result"
    }
   ],
   "source": [
    "#subset google for relavent info\n",
    "df_google_subset = df_google[['content', 'sentiment']]\n",
    "\n",
    "#rename for gpu loading\n",
    "frames = [df_google_subset] #I omitted df_imdb, due to limited gpu memory\n",
    "df = pd.concat(frames)\n",
    "df"
   ]
  },
  {
   "cell_type": "markdown",
   "metadata": {},
   "source": [
    "<a id='#3.1.3'></a>"
   ]
  },
  {
   "cell_type": "markdown",
   "metadata": {},
   "source": [
    "## 3.1.3 Pre-Process Cont. (Tokenize Data)\n",
    "\n",
    "1) Add special tokens to separate sentences and do classification\n",
    "\n",
    "2) Pass sequences of constant length (introduce padding)\n",
    "\n",
    "3) Create array of 0s (pad token) and 1s (real token) called 'attention mask'"
   ]
  },
  {
   "cell_type": "code",
   "execution_count": 17,
   "metadata": {},
   "outputs": [],
   "source": [
    "#there are two model types to choose from, case and uncased. \n",
    "#We're using 'cased', as \"BAD\" might convey more sentiment than \"bad\".\n",
    "\n",
    "#identify model\n",
    "PRE_TRAINED_MODEL_NAME = 'bert-base-cased'"
   ]
  },
  {
   "cell_type": "code",
   "execution_count": 18,
   "metadata": {},
   "outputs": [],
   "source": [
    "#load pre-trained BertTokenizer\n",
    "#https://huggingface.co/transformers/model_doc/bert.html#berttokenizer\n",
    "\n",
    "tokenizer = BertTokenizer.from_pretrained(PRE_TRAINED_MODEL_NAME)\n",
    "\n",
    "#if you get an error, execute 'conda install -c conda-forge ipywidgets' in your env:\n",
    "#https://ipywidgets.readthedocs.io/en/stable/user_install.html"
   ]
  },
  {
   "cell_type": "code",
   "execution_count": 19,
   "metadata": {},
   "outputs": [
    {
     "name": "stderr",
     "output_type": "stream",
     "text": [
      "  0%|          | 0/15746 [00:00<?, ?it/s]Truncation was not explicitly activated but `max_length` is provided a specific value, please use `truncation=True` to explicitly truncate examples to max length. Defaulting to 'longest_first' truncation strategy. If you encode pairs of sequences (GLUE-style) with the tokenizer you can select this strategy more precisely by providing a specific strategy to `truncation`.\n",
      "100%|██████████| 15746/15746 [00:10<00:00, 1527.02it/s]\n",
      "C:\\Users\\carlb\\anaconda3\\envs\\pytorch_gpu\\lib\\site-packages\\seaborn\\distributions.py:2619: FutureWarning: `distplot` is a deprecated function and will be removed in a future version. Please adapt your code to use either `displot` (a figure-level function with similar flexibility) or `histplot` (an axes-level function for histograms).\n",
      "  warnings.warn(msg, FutureWarning)\n"
     ]
    },
    {
     "data": {
      "image/png": "[encoded data removed]",
      "text/plain": [
       "<Figure size 864x576 with 1 Axes>"
      ]
     },
     "metadata": {
      "image/png": {
       "height": 488,
       "width": 762
      }
     },
     "output_type": "display_data"
    }
   ],
   "source": [
    "#BERT works with fixed-length sequences. Let's inspect the length of each review from our training dataset and tokenize it\n",
    "token_lens = []\n",
    "\n",
    "for txt in tqdm(df.content):\n",
    "  tokens = tokenizer.encode(txt, max_length=512) #max len of this model is 512, sadly\n",
    "  token_lens.append(len(tokens))\n",
    "    \n",
    "#let's plot the distribution to get a sense of what we're working with\n",
    "sns.distplot(token_lens)\n",
    "plt.xlim([0, 600]);\n",
    "plt.xlabel('Token count');"
   ]
  },
  {
   "cell_type": "code",
   "execution_count": 20,
   "metadata": {},
   "outputs": [],
   "source": [
    "#as a result of trial and error, due to gpu memeory limitations, we need to set a max len of our tensors to 150.\n",
    "MAX_LEN = 512"
   ]
  },
  {
   "cell_type": "code",
   "execution_count": 21,
   "metadata": {},
   "outputs": [],
   "source": [
    "#let's format our dataset to PyTorch dataset.\n",
    "class GPReviewDataset(Dataset):\n",
    "\n",
    "  def __init__(self, reviews, targets, tokenizer, max_len):\n",
    "    self.reviews = reviews\n",
    "    self.targets = targets\n",
    "    self.tokenizer = tokenizer\n",
    "    self.max_len = max_len\n",
    "  \n",
    "  def __len__(self):\n",
    "    return len(self.reviews)\n",
    "  \n",
    "  def __getitem__(self, item):\n",
    "    review = str(self.reviews[item])\n",
    "    target = self.targets[item]\n",
    "\n",
    "    encoding = self.tokenizer.encode_plus(\n",
    "      review,\n",
    "      add_special_tokens=True,\n",
    "      max_length=self.max_len,\n",
    "      return_token_type_ids=False,\n",
    "      pad_to_max_length=True,\n",
    "      return_attention_mask=True,\n",
    "      return_tensors='pt',\n",
    "    )\n",
    "\n",
    "    return {\n",
    "      'review_text': review,\n",
    "      'input_ids': encoding['input_ids'].flatten(),\n",
    "      'attention_mask': encoding['attention_mask'].flatten(),\n",
    "      'targets': torch.tensor(target, dtype=torch.long)\n",
    "    }"
   ]
  },
  {
   "cell_type": "code",
   "execution_count": 22,
   "metadata": {},
   "outputs": [],
   "source": [
    "#test-train-split training data\n",
    "df_train, df_test = train_test_split(df, test_size=0.1, random_state=RANDOM_SEED)\n",
    "df_val, df_test = train_test_split(df_test, test_size=0.5, random_state=RANDOM_SEED)"
   ]
  },
  {
   "cell_type": "code",
   "execution_count": 23,
   "metadata": {},
   "outputs": [
    {
     "data": {
      "text/plain": [
       "((14171, 2), (787, 2), (788, 2))"
      ]
     },
     "execution_count": 23,
     "metadata": {},
     "output_type": "execute_result"
    }
   ],
   "source": [
    "#inspect shape\n",
    "df_train.shape, df_val.shape, df_test.shape"
   ]
  },
  {
   "cell_type": "code",
   "execution_count": 24,
   "metadata": {},
   "outputs": [],
   "source": [
    "#data loader, that's required in the tutorial. I see that it's converting things to numpy arrays, \n",
    "#but aside from that, that's all I understand (sadly)\n",
    "def create_data_loader(df, tokenizer, max_len, batch_size):\n",
    "  ds = GPReviewDataset(\n",
    "    reviews=df.content.to_numpy(),\n",
    "    targets=df.sentiment.to_numpy(),\n",
    "    tokenizer=tokenizer,\n",
    "    max_len=max_len\n",
    "  )\n",
    "\n",
    "  return DataLoader(\n",
    "    ds,\n",
    "    batch_size=batch_size,\n",
    "    num_workers=0 #when running pytorch in windows, not linux, you need to set this to zero or it crashes.  \n",
    "  )               #https://github.com/pytorch/pytorch/issues/2341"
   ]
  },
  {
   "cell_type": "code",
   "execution_count": 25,
   "metadata": {},
   "outputs": [],
   "source": [
    "#set batch size and loader values\n",
    "BATCH_SIZE = 8\n",
    "\n",
    "train_data_loader = create_data_loader(df_train, tokenizer, MAX_LEN, BATCH_SIZE)\n",
    "val_data_loader = create_data_loader(df_val, tokenizer, MAX_LEN, BATCH_SIZE)\n",
    "test_data_loader = create_data_loader(df_test, tokenizer, MAX_LEN, BATCH_SIZE)"
   ]
  },
  {
   "cell_type": "code",
   "execution_count": 26,
   "metadata": {},
   "outputs": [
    {
     "name": "stderr",
     "output_type": "stream",
     "text": [
      "C:\\Users\\carlb\\anaconda3\\envs\\pytorch_gpu\\lib\\site-packages\\transformers\\tokenization_utils_base.py:2212: FutureWarning: The `pad_to_max_length` argument is deprecated and will be removed in a future version, use `padding=True` or `padding='longest'` to pad to the longest sequence in the batch, or use `padding='max_length'` to pad to a max length. In this case, you can give a specific length with `max_length` (e.g. `max_length=45`) or leave max_length to None to pad to the maximal input size of the model (e.g. 512 for Bert).\n",
      "  warnings.warn(\n"
     ]
    },
    {
     "data": {
      "text/plain": [
       "dict_keys(['review_text', 'input_ids', 'attention_mask', 'targets'])"
      ]
     },
     "execution_count": 26,
     "metadata": {},
     "output_type": "execute_result"
    }
   ],
   "source": [
    "#let's look at an example batch from out trining data loader:\n",
    "data = next(iter(train_data_loader))\n",
    "data.keys()"
   ]
  },
  {
   "cell_type": "code",
   "execution_count": 27,
   "metadata": {},
   "outputs": [
    {
     "name": "stdout",
     "output_type": "stream",
     "text": [
      "torch.Size([8, 512])\n",
      "torch.Size([8, 512])\n",
      "torch.Size([8])\n"
     ]
    }
   ],
   "source": [
    "#inspect shape\n",
    "print(data['input_ids'].shape)\n",
    "print(data['attention_mask'].shape)\n",
    "print(data['targets'].shape)"
   ]
  },
  {
   "cell_type": "markdown",
   "metadata": {},
   "source": [
    "<a id='#3.1.4'></a>"
   ]
  },
  {
   "cell_type": "markdown",
   "metadata": {},
   "source": [
    "## 3.1.4 Neural Netowrk Sentiment Classification with BERT and Hugging Face"
   ]
  },
  {
   "cell_type": "code",
   "execution_count": 28,
   "metadata": {},
   "outputs": [
    {
     "name": "stderr",
     "output_type": "stream",
     "text": [
      "Some weights of the model checkpoint at bert-base-cased were not used when initializing BertModel: ['cls.seq_relationship.bias', 'cls.predictions.transform.dense.weight', 'cls.predictions.transform.dense.bias', 'cls.predictions.decoder.weight', 'cls.predictions.transform.LayerNorm.weight', 'cls.predictions.transform.LayerNorm.bias', 'cls.predictions.bias', 'cls.seq_relationship.weight']\n",
      "- This IS expected if you are initializing BertModel from the checkpoint of a model trained on another task or with another architecture (e.g. initializing a BertForSequenceClassification model from a BertForPreTraining model).\n",
      "- This IS NOT expected if you are initializing BertModel from the checkpoint of a model that you expect to be exactly identical (initializing a BertForSequenceClassification model from a BertForSequenceClassification model).\n"
     ]
    }
   ],
   "source": [
    "# load model:\n",
    "bert_model = BertModel.from_pretrained(PRE_TRAINED_MODEL_NAME)"
   ]
  },
  {
   "cell_type": "code",
   "execution_count": 29,
   "metadata": {},
   "outputs": [],
   "source": [
    "#we use this knowledge to make a classifier that uses the BERT mdoel:\n",
    "class SentimentClassifier(nn.Module):\n",
    "\n",
    "  def __init__(self, n_classes):\n",
    "    super(SentimentClassifier, self).__init__()\n",
    "    self.bert = BertModel.from_pretrained(PRE_TRAINED_MODEL_NAME, return_dict=False)\n",
    "    self.drop = nn.Dropout(p=0.3)\n",
    "    self.out = nn.Linear(self.bert.config.hidden_size, n_classes)\n",
    "  \n",
    "  def forward(self, input_ids, attention_mask):\n",
    "    _, pooled_output = self.bert(\n",
    "      input_ids=input_ids,\n",
    "      attention_mask=attention_mask\n",
    "    )\n",
    "    output = self.drop(pooled_output)\n",
    "    return self.out(output)"
   ]
  },
  {
   "cell_type": "code",
   "execution_count": 30,
   "metadata": {},
   "outputs": [
    {
     "name": "stderr",
     "output_type": "stream",
     "text": [
      "Some weights of the model checkpoint at bert-base-cased were not used when initializing BertModel: ['cls.seq_relationship.bias', 'cls.predictions.transform.dense.weight', 'cls.predictions.transform.dense.bias', 'cls.predictions.decoder.weight', 'cls.predictions.transform.LayerNorm.weight', 'cls.predictions.transform.LayerNorm.bias', 'cls.predictions.bias', 'cls.seq_relationship.weight']\n",
      "- This IS expected if you are initializing BertModel from the checkpoint of a model trained on another task or with another architecture (e.g. initializing a BertForSequenceClassification model from a BertForPreTraining model).\n",
      "- This IS NOT expected if you are initializing BertModel from the checkpoint of a model that you expect to be exactly identical (initializing a BertForSequenceClassification model from a BertForSequenceClassification model).\n"
     ]
    }
   ],
   "source": [
    "#let's make an instace if the the above class and move it to our GPU\n",
    "model = SentimentClassifier(len(class_names))\n",
    "model = model.to(device)"
   ]
  },
  {
   "cell_type": "markdown",
   "metadata": {},
   "source": [
    "<a id='#3.1.5'></a>"
   ]
  },
  {
   "cell_type": "markdown",
   "metadata": {},
   "source": [
    "## 3.1.5 Training (of Model)"
   ]
  },
  {
   "cell_type": "code",
   "execution_count": 31,
   "metadata": {},
   "outputs": [],
   "source": [
    "EPOCHS = 20\n",
    "\n",
    "optimizer = AdamW(model.parameters(), lr=2e-5, correct_bias=False)\n",
    "total_steps = len(train_data_loader) * EPOCHS\n",
    "\n",
    "scheduler = get_linear_schedule_with_warmup(\n",
    "  optimizer,\n",
    "  num_warmup_steps=0,\n",
    "  num_training_steps=total_steps\n",
    ")\n",
    "\n",
    "loss_fn = nn.CrossEntropyLoss().to(device)"
   ]
  },
  {
   "cell_type": "code",
   "execution_count": 32,
   "metadata": {},
   "outputs": [],
   "source": [
    "#set training function \n",
    "def train_epoch(\n",
    "  model, \n",
    "  data_loader, \n",
    "  loss_fn, \n",
    "  optimizer, \n",
    "  device, \n",
    "  scheduler, \n",
    "  n_examples\n",
    "):\n",
    "  model = model.train()\n",
    "\n",
    "  losses = []\n",
    "  correct_predictions = 0\n",
    "  \n",
    "  for d in tqdm(data_loader):\n",
    "    input_ids = d[\"input_ids\"].to(device)\n",
    "    attention_mask = d[\"attention_mask\"].to(device)\n",
    "    targets = d[\"targets\"].to(device)\n",
    "\n",
    "    outputs = model(\n",
    "      input_ids=input_ids,\n",
    "      attention_mask=attention_mask\n",
    "    )\n",
    "\n",
    "    _, preds = torch.max(outputs, dim=1)\n",
    "    loss = loss_fn(outputs, targets)\n",
    "\n",
    "    correct_predictions += torch.sum(preds == targets)\n",
    "    losses.append(loss.item())\n",
    "\n",
    "    loss.backward()\n",
    "    nn.utils.clip_grad_norm_(model.parameters(), max_norm=1.0)\n",
    "    optimizer.step()\n",
    "    scheduler.step()\n",
    "    optimizer.zero_grad()\n",
    "\n",
    "  return correct_predictions.double() / n_examples, np.mean(losses)"
   ]
  },
  {
   "cell_type": "code",
   "execution_count": 33,
   "metadata": {},
   "outputs": [],
   "source": [
    "# set eval funciton\n",
    "def eval_model(model, data_loader, loss_fn, device, n_examples):\n",
    "  model = model.eval()\n",
    "\n",
    "  losses = []\n",
    "  correct_predictions = 0\n",
    "\n",
    "  with torch.no_grad():\n",
    "    for d in tqdm(data_loader):\n",
    "      input_ids = d[\"input_ids\"].to(device)\n",
    "      attention_mask = d[\"attention_mask\"].to(device)\n",
    "      targets = d[\"targets\"].to(device)\n",
    "\n",
    "      outputs = model(\n",
    "        input_ids=input_ids,\n",
    "        attention_mask=attention_mask\n",
    "      )\n",
    "      _, preds = torch.max(outputs, dim=1)\n",
    "\n",
    "      loss = loss_fn(outputs, targets)\n",
    "\n",
    "      correct_predictions += torch.sum(preds == targets)\n",
    "      losses.append(loss.item())\n",
    "\n",
    "  return correct_predictions.double() / n_examples, np.mean(losses)"
   ]
  },
  {
   "cell_type": "code",
   "execution_count": 34,
   "metadata": {},
   "outputs": [],
   "source": [
    "#clear gpu cache before training\n",
    "torch.cuda.empty_cache()"
   ]
  },
  {
   "cell_type": "code",
   "execution_count": 35,
   "metadata": {},
   "outputs": [
    {
     "name": "stdout",
     "output_type": "stream",
     "text": [
      "Epoch 1/20\n",
      "----------\n"
     ]
    },
    {
     "name": "stderr",
     "output_type": "stream",
     "text": [
      "100%|██████████| 1772/1772 [05:42<00:00,  5.17it/s]\n"
     ]
    },
    {
     "name": "stdout",
     "output_type": "stream",
     "text": [
      "Train loss 0.8242155769608629 accuracy 0.6092018911862254\n"
     ]
    },
    {
     "name": "stderr",
     "output_type": "stream",
     "text": [
      "100%|██████████| 99/99 [00:05<00:00, 16.64it/s]\n"
     ]
    },
    {
     "name": "stdout",
     "output_type": "stream",
     "text": [
      "Val   loss 0.667631811942115 accuracy 0.7153748411689962\n",
      "\n",
      "Epoch 2/20\n",
      "----------\n"
     ]
    },
    {
     "name": "stderr",
     "output_type": "stream",
     "text": [
      "100%|██████████| 1772/1772 [05:27<00:00,  5.40it/s]\n"
     ]
    },
    {
     "name": "stdout",
     "output_type": "stream",
     "text": [
      "Train loss 0.5140784255956335 accuracy 0.8027662126878837\n"
     ]
    },
    {
     "name": "stderr",
     "output_type": "stream",
     "text": [
      "100%|██████████| 99/99 [00:05<00:00, 16.64it/s]\n"
     ]
    },
    {
     "name": "stdout",
     "output_type": "stream",
     "text": [
      "Val   loss 0.6682911393129163 accuracy 0.8030495552731893\n",
      "\n",
      "Epoch 3/20\n",
      "----------\n"
     ]
    },
    {
     "name": "stderr",
     "output_type": "stream",
     "text": [
      "100%|██████████| 1772/1772 [05:29<00:00,  5.38it/s]\n"
     ]
    },
    {
     "name": "stdout",
     "output_type": "stream",
     "text": [
      "Train loss 0.3507544150975828 accuracy 0.895631924352551\n"
     ]
    },
    {
     "name": "stderr",
     "output_type": "stream",
     "text": [
      "100%|██████████| 99/99 [00:05<00:00, 16.69it/s]\n"
     ]
    },
    {
     "name": "stdout",
     "output_type": "stream",
     "text": [
      "Val   loss 0.7330258448521202 accuracy 0.8487928843710293\n",
      "\n",
      "Epoch 4/20\n",
      "----------\n"
     ]
    },
    {
     "name": "stderr",
     "output_type": "stream",
     "text": [
      "100%|██████████| 1772/1772 [05:37<00:00,  5.25it/s]\n"
     ]
    },
    {
     "name": "stdout",
     "output_type": "stream",
     "text": [
      "Train loss 0.2539400196970997 accuracy 0.936137181567991\n"
     ]
    },
    {
     "name": "stderr",
     "output_type": "stream",
     "text": [
      "100%|██████████| 99/99 [00:05<00:00, 16.79it/s]\n"
     ]
    },
    {
     "name": "stdout",
     "output_type": "stream",
     "text": [
      "Val   loss 0.7489133595008017 accuracy 0.852604828462516\n",
      "\n",
      "Epoch 5/20\n",
      "----------\n"
     ]
    },
    {
     "name": "stderr",
     "output_type": "stream",
     "text": [
      "100%|██████████| 1772/1772 [05:29<00:00,  5.37it/s]\n"
     ]
    },
    {
     "name": "stdout",
     "output_type": "stream",
     "text": [
      "Train loss 0.18706166027161097 accuracy 0.9548373438712865\n"
     ]
    },
    {
     "name": "stderr",
     "output_type": "stream",
     "text": [
      "100%|██████████| 99/99 [00:06<00:00, 16.21it/s]\n"
     ]
    },
    {
     "name": "stdout",
     "output_type": "stream",
     "text": [
      "Val   loss 0.8391378211525429 accuracy 0.8538754764930114\n",
      "\n",
      "Epoch 6/20\n",
      "----------\n"
     ]
    },
    {
     "name": "stderr",
     "output_type": "stream",
     "text": [
      "100%|██████████| 1772/1772 [05:34<00:00,  5.29it/s]\n"
     ]
    },
    {
     "name": "stdout",
     "output_type": "stream",
     "text": [
      "Train loss 0.1453176136011253 accuracy 0.9645049749488392\n"
     ]
    },
    {
     "name": "stderr",
     "output_type": "stream",
     "text": [
      "100%|██████████| 99/99 [00:05<00:00, 17.02it/s]\n"
     ]
    },
    {
     "name": "stdout",
     "output_type": "stream",
     "text": [
      "Val   loss 0.9157683184809013 accuracy 0.855146124523507\n",
      "\n",
      "Epoch 7/20\n",
      "----------\n"
     ]
    },
    {
     "name": "stderr",
     "output_type": "stream",
     "text": [
      "100%|██████████| 1772/1772 [05:35<00:00,  5.29it/s]\n"
     ]
    },
    {
     "name": "stdout",
     "output_type": "stream",
     "text": [
      "Train loss 0.12292518904002256 accuracy 0.9695857737633194\n"
     ]
    },
    {
     "name": "stderr",
     "output_type": "stream",
     "text": [
      "100%|██████████| 99/99 [00:05<00:00, 16.56it/s]\n"
     ]
    },
    {
     "name": "stdout",
     "output_type": "stream",
     "text": [
      "Val   loss 0.8966503629520902 accuracy 0.866581956797967\n",
      "\n",
      "Epoch 8/20\n",
      "----------\n"
     ]
    },
    {
     "name": "stderr",
     "output_type": "stream",
     "text": [
      "100%|██████████| 1772/1772 [05:29<00:00,  5.37it/s]\n"
     ]
    },
    {
     "name": "stdout",
     "output_type": "stream",
     "text": [
      "Train loss 0.09841775479240827 accuracy 0.975372239079811\n"
     ]
    },
    {
     "name": "stderr",
     "output_type": "stream",
     "text": [
      "100%|██████████| 99/99 [00:06<00:00, 16.48it/s]\n"
     ]
    },
    {
     "name": "stdout",
     "output_type": "stream",
     "text": [
      "Val   loss 0.8958577276793258 accuracy 0.8742058449809403\n",
      "\n",
      "Epoch 9/20\n",
      "----------\n"
     ]
    },
    {
     "name": "stderr",
     "output_type": "stream",
     "text": [
      "100%|██████████| 1772/1772 [05:32<00:00,  5.32it/s]\n"
     ]
    },
    {
     "name": "stdout",
     "output_type": "stream",
     "text": [
      "Train loss 0.08053081994302853 accuracy 0.9793945381412744\n"
     ]
    },
    {
     "name": "stderr",
     "output_type": "stream",
     "text": [
      "100%|██████████| 99/99 [00:06<00:00, 16.03it/s]\n"
     ]
    },
    {
     "name": "stdout",
     "output_type": "stream",
     "text": [
      "Val   loss 1.0342973752468065 accuracy 0.866581956797967\n",
      "\n",
      "Epoch 10/20\n",
      "----------\n"
     ]
    },
    {
     "name": "stderr",
     "output_type": "stream",
     "text": [
      "100%|██████████| 1772/1772 [05:30<00:00,  5.35it/s]\n"
     ]
    },
    {
     "name": "stdout",
     "output_type": "stream",
     "text": [
      "Train loss 0.06926842110258365 accuracy 0.9808058711452968\n"
     ]
    },
    {
     "name": "stderr",
     "output_type": "stream",
     "text": [
      "100%|██████████| 99/99 [00:05<00:00, 16.84it/s]\n"
     ]
    },
    {
     "name": "stdout",
     "output_type": "stream",
     "text": [
      "Val   loss 1.1871728304748361 accuracy 0.8589580686149937\n",
      "\n",
      "Epoch 11/20\n",
      "----------\n"
     ]
    },
    {
     "name": "stderr",
     "output_type": "stream",
     "text": [
      "100%|██████████| 1772/1772 [05:31<00:00,  5.35it/s]\n"
     ]
    },
    {
     "name": "stdout",
     "output_type": "stream",
     "text": [
      "Train loss 0.059841105636082144 accuracy 0.9834874038529391\n"
     ]
    },
    {
     "name": "stderr",
     "output_type": "stream",
     "text": [
      "100%|██████████| 99/99 [00:05<00:00, 16.86it/s]\n"
     ]
    },
    {
     "name": "stdout",
     "output_type": "stream",
     "text": [
      "Val   loss 1.0634233488902585 accuracy 0.8703939008894537\n",
      "\n",
      "Epoch 12/20\n",
      "----------\n"
     ]
    },
    {
     "name": "stderr",
     "output_type": "stream",
     "text": [
      "100%|██████████| 1772/1772 [05:22<00:00,  5.49it/s]\n"
     ]
    },
    {
     "name": "stdout",
     "output_type": "stream",
     "text": [
      "Train loss 0.048451696398090174 accuracy 0.9857455366593748\n"
     ]
    },
    {
     "name": "stderr",
     "output_type": "stream",
     "text": [
      "100%|██████████| 99/99 [00:05<00:00, 17.14it/s]\n"
     ]
    },
    {
     "name": "stdout",
     "output_type": "stream",
     "text": [
      "Val   loss 1.162652748032023 accuracy 0.8640406607369759\n",
      "\n",
      "Epoch 13/20\n",
      "----------\n"
     ]
    },
    {
     "name": "stderr",
     "output_type": "stream",
     "text": [
      "100%|██████████| 1772/1772 [05:34<00:00,  5.30it/s]\n"
     ]
    },
    {
     "name": "stdout",
     "output_type": "stream",
     "text": [
      "Train loss 0.0486607078839255 accuracy 0.9856044033589726\n"
     ]
    },
    {
     "name": "stderr",
     "output_type": "stream",
     "text": [
      "100%|██████████| 99/99 [00:06<00:00, 16.49it/s]\n"
     ]
    },
    {
     "name": "stdout",
     "output_type": "stream",
     "text": [
      "Val   loss 1.1542575760032203 accuracy 0.8691232528589581\n",
      "\n",
      "Epoch 14/20\n",
      "----------\n"
     ]
    },
    {
     "name": "stderr",
     "output_type": "stream",
     "text": [
      "100%|██████████| 1772/1772 [05:29<00:00,  5.37it/s]\n"
     ]
    },
    {
     "name": "stdout",
     "output_type": "stream",
     "text": [
      "Train loss 0.04309761248950029 accuracy 0.9868746030625927\n"
     ]
    },
    {
     "name": "stderr",
     "output_type": "stream",
     "text": [
      "100%|██████████| 99/99 [00:05<00:00, 16.90it/s]\n"
     ]
    },
    {
     "name": "stdout",
     "output_type": "stream",
     "text": [
      "Val   loss 1.1915194548978756 accuracy 0.866581956797967\n",
      "\n",
      "Epoch 15/20\n",
      "----------\n"
     ]
    },
    {
     "name": "stderr",
     "output_type": "stream",
     "text": [
      "100%|██████████| 1772/1772 [05:25<00:00,  5.45it/s]\n"
     ]
    },
    {
     "name": "stdout",
     "output_type": "stream",
     "text": [
      "Train loss 0.03962534632600722 accuracy 0.9880036694658105\n"
     ]
    },
    {
     "name": "stderr",
     "output_type": "stream",
     "text": [
      "100%|██████████| 99/99 [00:05<00:00, 16.92it/s]\n"
     ]
    },
    {
     "name": "stdout",
     "output_type": "stream",
     "text": [
      "Val   loss 1.2524602688905324 accuracy 0.8602287166454893\n",
      "\n",
      "Epoch 16/20\n",
      "----------\n"
     ]
    },
    {
     "name": "stderr",
     "output_type": "stream",
     "text": [
      "100%|██████████| 1772/1772 [05:23<00:00,  5.48it/s]\n"
     ]
    },
    {
     "name": "stdout",
     "output_type": "stream",
     "text": [
      "Train loss 0.03625904141141706 accuracy 0.9881448027662127\n"
     ]
    },
    {
     "name": "stderr",
     "output_type": "stream",
     "text": [
      "100%|██████████| 99/99 [00:05<00:00, 16.93it/s]\n"
     ]
    },
    {
     "name": "stdout",
     "output_type": "stream",
     "text": [
      "Val   loss 1.2355227740596055 accuracy 0.8691232528589581\n",
      "\n",
      "Epoch 17/20\n",
      "----------\n"
     ]
    },
    {
     "name": "stderr",
     "output_type": "stream",
     "text": [
      "100%|██████████| 1772/1772 [05:26<00:00,  5.43it/s]\n"
     ]
    },
    {
     "name": "stdout",
     "output_type": "stream",
     "text": [
      "Train loss 0.03195476417708262 accuracy 0.988921035918425\n"
     ]
    },
    {
     "name": "stderr",
     "output_type": "stream",
     "text": [
      "100%|██████████| 99/99 [00:06<00:00, 16.31it/s]\n"
     ]
    },
    {
     "name": "stdout",
     "output_type": "stream",
     "text": [
      "Val   loss 1.2294410370101343 accuracy 0.8703939008894537\n",
      "\n",
      "Epoch 18/20\n",
      "----------\n"
     ]
    },
    {
     "name": "stderr",
     "output_type": "stream",
     "text": [
      "100%|██████████| 1772/1772 [05:25<00:00,  5.44it/s]\n"
     ]
    },
    {
     "name": "stdout",
     "output_type": "stream",
     "text": [
      "Train loss 0.03164068044349443 accuracy 0.9892738691694306\n"
     ]
    },
    {
     "name": "stderr",
     "output_type": "stream",
     "text": [
      "100%|██████████| 99/99 [00:05<00:00, 16.97it/s]\n"
     ]
    },
    {
     "name": "stdout",
     "output_type": "stream",
     "text": [
      "Val   loss 1.2815960625385199 accuracy 0.8640406607369759\n",
      "\n",
      "Epoch 19/20\n",
      "----------\n"
     ]
    },
    {
     "name": "stderr",
     "output_type": "stream",
     "text": [
      "100%|██████████| 1772/1772 [05:20<00:00,  5.52it/s]\n"
     ]
    },
    {
     "name": "stdout",
     "output_type": "stream",
     "text": [
      "Train loss 0.03006927867577812 accuracy 0.9894150024698328\n"
     ]
    },
    {
     "name": "stderr",
     "output_type": "stream",
     "text": [
      "100%|██████████| 99/99 [00:05<00:00, 16.93it/s]\n"
     ]
    },
    {
     "name": "stdout",
     "output_type": "stream",
     "text": [
      "Val   loss 1.2874247880345504 accuracy 0.8653113087674714\n",
      "\n",
      "Epoch 20/20\n",
      "----------\n"
     ]
    },
    {
     "name": "stderr",
     "output_type": "stream",
     "text": [
      "100%|██████████| 1772/1772 [05:23<00:00,  5.48it/s]\n"
     ]
    },
    {
     "name": "stdout",
     "output_type": "stream",
     "text": [
      "Train loss 0.02713451804616189 accuracy 0.9899795356714417\n"
     ]
    },
    {
     "name": "stderr",
     "output_type": "stream",
     "text": [
      "100%|██████████| 99/99 [00:05<00:00, 16.89it/s]"
     ]
    },
    {
     "name": "stdout",
     "output_type": "stream",
     "text": [
      "Val   loss 1.2671616919548034 accuracy 0.8678526048284626\n",
      "\n"
     ]
    },
    {
     "name": "stderr",
     "output_type": "stream",
     "text": [
      "\n"
     ]
    }
   ],
   "source": [
    "# execute training\n",
    "history = defaultdict(list)\n",
    "best_accuracy = 0\n",
    "\n",
    "for epoch in range(EPOCHS):\n",
    "\n",
    "  print(f'Epoch {epoch + 1}/{EPOCHS}')\n",
    "  print('-' * 10)\n",
    "\n",
    "  train_acc, train_loss = train_epoch(\n",
    "    model,\n",
    "    train_data_loader,    \n",
    "    loss_fn, \n",
    "    optimizer, \n",
    "    device, \n",
    "    scheduler, \n",
    "    len(df_train)\n",
    "  )\n",
    "\n",
    "  print(f'Train loss {train_loss} accuracy {train_acc}')\n",
    "\n",
    "  val_acc, val_loss = eval_model(\n",
    "    model,\n",
    "    val_data_loader,\n",
    "    loss_fn, \n",
    "    device, \n",
    "    len(df_val)\n",
    "  )\n",
    "\n",
    "  print(f'Val   loss {val_loss} accuracy {val_acc}')\n",
    "  print()\n",
    "\n",
    "  history['train_acc'].append(train_acc)\n",
    "  history['train_loss'].append(train_loss)\n",
    "  history['val_acc'].append(val_acc)\n",
    "  history['val_loss'].append(val_loss)\n",
    "\n",
    "  if val_acc > best_accuracy:\n",
    "    torch.save(model.state_dict(), 'best_model_state.bin')\n",
    "    best_accuracy = val_acc"
   ]
  },
  {
   "cell_type": "code",
   "execution_count": 54,
   "metadata": {},
   "outputs": [
    {
     "data": {
      "text/html": [
       "<div>\n",
       "<style scoped>\n",
       "    .dataframe tbody tr th:only-of-type {\n",
       "        vertical-align: middle;\n",
       "    }\n",
       "\n",
       "    .dataframe tbody tr th {\n",
       "        vertical-align: top;\n",
       "    }\n",
       "\n",
       "    .dataframe thead th {\n",
       "        text-align: right;\n",
       "    }\n",
       "</style>\n",
       "<table border=\"1\" class=\"dataframe\">\n",
       "  <thead>\n",
       "    <tr style=\"text-align: right;\">\n",
       "      <th></th>\n",
       "      <th>train_acc</th>\n",
       "      <th>train_loss</th>\n",
       "      <th>val_acc</th>\n",
       "      <th>val_loss</th>\n",
       "    </tr>\n",
       "  </thead>\n",
       "  <tbody>\n",
       "    <tr>\n",
       "      <th>0</th>\n",
       "      <td>tensor(0.6092, device='cuda:0', dtype=torch.fl...</td>\n",
       "      <td>0.824216</td>\n",
       "      <td>tensor(0.7154, device='cuda:0', dtype=torch.fl...</td>\n",
       "      <td>0.667632</td>\n",
       "    </tr>\n",
       "    <tr>\n",
       "      <th>1</th>\n",
       "      <td>tensor(0.8028, device='cuda:0', dtype=torch.fl...</td>\n",
       "      <td>0.514078</td>\n",
       "      <td>tensor(0.8030, device='cuda:0', dtype=torch.fl...</td>\n",
       "      <td>0.668291</td>\n",
       "    </tr>\n",
       "    <tr>\n",
       "      <th>2</th>\n",
       "      <td>tensor(0.8956, device='cuda:0', dtype=torch.fl...</td>\n",
       "      <td>0.350754</td>\n",
       "      <td>tensor(0.8488, device='cuda:0', dtype=torch.fl...</td>\n",
       "      <td>0.733026</td>\n",
       "    </tr>\n",
       "    <tr>\n",
       "      <th>3</th>\n",
       "      <td>tensor(0.9361, device='cuda:0', dtype=torch.fl...</td>\n",
       "      <td>0.25394</td>\n",
       "      <td>tensor(0.8526, device='cuda:0', dtype=torch.fl...</td>\n",
       "      <td>0.748913</td>\n",
       "    </tr>\n",
       "    <tr>\n",
       "      <th>4</th>\n",
       "      <td>tensor(0.9548, device='cuda:0', dtype=torch.fl...</td>\n",
       "      <td>0.187062</td>\n",
       "      <td>tensor(0.8539, device='cuda:0', dtype=torch.fl...</td>\n",
       "      <td>0.839138</td>\n",
       "    </tr>\n",
       "  </tbody>\n",
       "</table>\n",
       "</div>"
      ],
      "text/plain": [
       "                                           train_acc train_loss  \\\n",
       "0  tensor(0.6092, device='cuda:0', dtype=torch.fl...   0.824216   \n",
       "1  tensor(0.8028, device='cuda:0', dtype=torch.fl...   0.514078   \n",
       "2  tensor(0.8956, device='cuda:0', dtype=torch.fl...   0.350754   \n",
       "3  tensor(0.9361, device='cuda:0', dtype=torch.fl...    0.25394   \n",
       "4  tensor(0.9548, device='cuda:0', dtype=torch.fl...   0.187062   \n",
       "\n",
       "                                             val_acc  val_loss  \n",
       "0  tensor(0.7154, device='cuda:0', dtype=torch.fl...  0.667632  \n",
       "1  tensor(0.8030, device='cuda:0', dtype=torch.fl...  0.668291  \n",
       "2  tensor(0.8488, device='cuda:0', dtype=torch.fl...  0.733026  \n",
       "3  tensor(0.8526, device='cuda:0', dtype=torch.fl...  0.748913  \n",
       "4  tensor(0.8539, device='cuda:0', dtype=torch.fl...  0.839138  "
      ]
     },
     "execution_count": 54,
     "metadata": {},
     "output_type": "execute_result"
    }
   ],
   "source": [
    "#gather training results\n",
    "df_history = pd.DataFrame.from_dict(history, orient='index')\n",
    "df_history_t = df_history.transpose()\n",
    "df_history_t.head()"
   ]
  },
  {
   "cell_type": "code",
   "execution_count": 76,
   "metadata": {},
   "outputs": [],
   "source": [
    "#make figure data\n",
    "train_acc_lst = df_history_t['train_acc'].tolist()\n",
    "val_acc_lst = df_history_t['val_acc'].tolist()\n",
    "\n",
    "#annoying stuff\n",
    "temp_train = []\n",
    "for item in range(0,20):\n",
    "    acc = train_acc_lst[item].item()\n",
    "    temp_train.append(acc)\n",
    "train_acc = temp_train\n",
    "temp_train = None\n",
    "\n",
    "temp_val = []\n",
    "for item in range(0,20):\n",
    "    acc = val_acc_lst[item].item()\n",
    "    temp_val.append(acc)\n",
    "val_acc = temp_val\n",
    "temp_val = None\n",
    "\n"
   ]
  },
  {
   "cell_type": "code",
   "execution_count": 77,
   "metadata": {},
   "outputs": [
    {
     "data": {
      "text/plain": [
       "(0.0, 1.0)"
      ]
     },
     "execution_count": 77,
     "metadata": {},
     "output_type": "execute_result"
    },
    {
     "data": {
      "image/png": "[encoded data removed]",
      "text/plain": [
       "<Figure size 864x576 with 1 Axes>"
      ]
     },
     "metadata": {
      "image/png": {
       "height": 505,
       "width": 729
      }
     },
     "output_type": "display_data"
    }
   ],
   "source": [
    "#display figuer\n",
    "plt.plot(train_acc, label='train accuracy')\n",
    "plt.plot(val_acc, label='validation accuracy')\n",
    "\n",
    "plt.title('20 Epochs')\n",
    "plt.ylabel('Accuracy')\n",
    "plt.xlabel('Epoch')\n",
    "plt.legend()\n",
    "plt.ylim([0, 1])"
   ]
  },
  {
   "cell_type": "markdown",
   "metadata": {},
   "source": [
    "<a id='#3.1.6'></a>"
   ]
  },
  {
   "cell_type": "markdown",
   "metadata": {},
   "source": [
    "## 3.1.6 Sentiment Analysis of Game Reviews"
   ]
  },
  {
   "cell_type": "code",
   "execution_count": 78,
   "metadata": {},
   "outputs": [],
   "source": [
    "# load raw text\n",
    "df_game_reviews = pd.read_csv(r'../data/processed/game_reviews_processed.csv', low_memory=False)"
   ]
  },
  {
   "cell_type": "code",
   "execution_count": 79,
   "metadata": {},
   "outputs": [],
   "source": [
    "# subset df to just english reviews\n",
    "df_english = df_game_reviews[df_game_reviews[\"language\"] == 'english']"
   ]
  },
  {
   "cell_type": "code",
   "execution_count": 80,
   "metadata": {},
   "outputs": [],
   "source": [
    "# set reviews to list\n",
    "title_lst = df_english['review'].tolist()"
   ]
  },
  {
   "cell_type": "code",
   "execution_count": 81,
   "metadata": {},
   "outputs": [],
   "source": [
    "title_lst_final = []\n",
    "\n",
    "for item in title_lst:\n",
    "    temp = str(item)\n",
    "    title_lst_final.append(temp)"
   ]
  },
  {
   "cell_type": "code",
   "execution_count": 83,
   "metadata": {},
   "outputs": [
    {
     "name": "stderr",
     "output_type": "stream",
     "text": [
      "100%|██████████| 56441/56441 [11:23<00:00, 82.55it/s]\n"
     ]
    }
   ],
   "source": [
    "# pass each review through sentiment model\n",
    "review_text_lst = []\n",
    "prediction_lst = []\n",
    "\n",
    "for item in tqdm(title_lst_final):\n",
    "    encoded_review = tokenizer.encode_plus(item, max_length=MAX_LEN, \n",
    "                                           add_special_tokens=True, \n",
    "                                           return_token_type_ids=False, \n",
    "                                           pad_to_max_length=True, \n",
    "                                           return_attention_mask=True, \n",
    "                                           return_tensors='pt',)\n",
    "    \n",
    "    input_ids = encoded_review['input_ids'].to(device)\n",
    "    attention_mask = encoded_review['attention_mask'].to(device)\n",
    "    output = model(input_ids, attention_mask)\n",
    "    _, prediction = torch.max(output, dim=1)\n",
    "    \n",
    "    review_text_lst.append(item)\n",
    "    prediction_lst.append(class_names[prediction])"
   ]
  },
  {
   "cell_type": "code",
   "execution_count": 84,
   "metadata": {},
   "outputs": [],
   "source": [
    "#count up your glorious sentiment results\n",
    "pos_count = 0\n",
    "neg_count = 0\n",
    "neu_count = 0\n",
    "\n",
    "for item in prediction_lst:\n",
    "    if item == 'positive':\n",
    "        pos_count += 1\n",
    "    elif item == 'neutral':\n",
    "        neu_count += 1\n",
    "    else:\n",
    "        neg_count += 1"
   ]
  },
  {
   "cell_type": "code",
   "execution_count": 85,
   "metadata": {},
   "outputs": [
    {
     "name": "stdout",
     "output_type": "stream",
     "text": [
      "Positive reviews:  31498\n",
      "Negative reviews:  10322\n",
      "Neutral reviews:  14621\n"
     ]
    }
   ],
   "source": [
    "print('Positive reviews: ', pos_count)\n",
    "print('Negative reviews: ', neg_count)\n",
    "print('Neutral reviews: ', neu_count)"
   ]
  },
  {
   "cell_type": "markdown",
   "metadata": {},
   "source": [
    "<a id='#3.2'></a>"
   ]
  },
  {
   "cell_type": "markdown",
   "metadata": {},
   "source": [
    "<a id='#3.1.7'></a>"
   ]
  },
  {
   "cell_type": "markdown",
   "metadata": {},
   "source": [
    "## 3.2 Sentiment Over Time\n",
    "--Can you watch that sentiment shift over time?"
   ]
  },
  {
   "cell_type": "markdown",
   "metadata": {},
   "source": [
    "<a id='#3.2.1'></a>"
   ]
  },
  {
   "cell_type": "markdown",
   "metadata": {},
   "source": [
    "## 3.2.1 Setup"
   ]
  },
  {
   "cell_type": "code",
   "execution_count": 86,
   "metadata": {},
   "outputs": [],
   "source": [
    "# join reviews, predictions, timestamps, views-per-day into one df\n",
    "df_analysis = pd.DataFrame(df_english)\n",
    "\n",
    "# add predictions to df_analysis\n",
    "df_analysis['predictions'] = prediction_lst"
   ]
  },
  {
   "cell_type": "code",
   "execution_count": 87,
   "metadata": {},
   "outputs": [],
   "source": [
    "#add blank sentiment counts to views per day dataframe\n",
    "df_upd['pos_sent_count'] = np.nan\n",
    "df_upd['neg_sent_count'] = np.nan\n",
    "df_upd['neu_sent_count'] = np.nan"
   ]
  },
  {
   "cell_type": "code",
   "execution_count": 88,
   "metadata": {},
   "outputs": [],
   "source": [
    "#save dfs to csvs\n",
    "df_upd.to_csv(r'../data/processed/df_upd.csv', index=False)\n",
    "df_analysis.to_csv(r'../data/processed/df_analysis.csv', index=False)"
   ]
  },
  {
   "cell_type": "code",
   "execution_count": 26,
   "metadata": {},
   "outputs": [
    {
     "data": {
      "text/html": [
       "<div>\n",
       "<style scoped>\n",
       "    .dataframe tbody tr th:only-of-type {\n",
       "        vertical-align: middle;\n",
       "    }\n",
       "\n",
       "    .dataframe tbody tr th {\n",
       "        vertical-align: top;\n",
       "    }\n",
       "\n",
       "    .dataframe thead th {\n",
       "        text-align: right;\n",
       "    }\n",
       "</style>\n",
       "<table border=\"1\" class=\"dataframe\">\n",
       "  <thead>\n",
       "    <tr style=\"text-align: right;\">\n",
       "      <th></th>\n",
       "      <th>DateTime</th>\n",
       "      <th>Players</th>\n",
       "      <th>neg_sent_count</th>\n",
       "      <th>neu_sent_count</th>\n",
       "      <th>pos_sent_count</th>\n",
       "      <th>Twitch_Viewers</th>\n",
       "      <th>pos_dist</th>\n",
       "    </tr>\n",
       "  </thead>\n",
       "  <tbody>\n",
       "    <tr>\n",
       "      <th>0</th>\n",
       "      <td>2015-11-01</td>\n",
       "      <td>5</td>\n",
       "      <td>0</td>\n",
       "      <td>0</td>\n",
       "      <td>0</td>\n",
       "      <td>0</td>\n",
       "      <td>0</td>\n",
       "    </tr>\n",
       "    <tr>\n",
       "      <th>1</th>\n",
       "      <td>2015-11-02</td>\n",
       "      <td>0</td>\n",
       "      <td>0</td>\n",
       "      <td>0</td>\n",
       "      <td>0</td>\n",
       "      <td>0</td>\n",
       "      <td>0</td>\n",
       "    </tr>\n",
       "    <tr>\n",
       "      <th>2</th>\n",
       "      <td>2015-11-03</td>\n",
       "      <td>0</td>\n",
       "      <td>0</td>\n",
       "      <td>0</td>\n",
       "      <td>0</td>\n",
       "      <td>0</td>\n",
       "      <td>0</td>\n",
       "    </tr>\n",
       "    <tr>\n",
       "      <th>3</th>\n",
       "      <td>2015-11-04</td>\n",
       "      <td>0</td>\n",
       "      <td>0</td>\n",
       "      <td>0</td>\n",
       "      <td>0</td>\n",
       "      <td>0</td>\n",
       "      <td>0</td>\n",
       "    </tr>\n",
       "    <tr>\n",
       "      <th>4</th>\n",
       "      <td>2015-11-05</td>\n",
       "      <td>0</td>\n",
       "      <td>0</td>\n",
       "      <td>0</td>\n",
       "      <td>0</td>\n",
       "      <td>0</td>\n",
       "      <td>0</td>\n",
       "    </tr>\n",
       "  </tbody>\n",
       "</table>\n",
       "</div>"
      ],
      "text/plain": [
       "    DateTime  Players  neg_sent_count  neu_sent_count  pos_sent_count  \\\n",
       "0 2015-11-01        5               0               0               0   \n",
       "1 2015-11-02        0               0               0               0   \n",
       "2 2015-11-03        0               0               0               0   \n",
       "3 2015-11-04        0               0               0               0   \n",
       "4 2015-11-05        0               0               0               0   \n",
       "\n",
       "   Twitch_Viewers pos_dist  \n",
       "0               0        0  \n",
       "1               0        0  \n",
       "2               0        0  \n",
       "3               0        0  \n",
       "4               0        0  "
      ]
     },
     "execution_count": 26,
     "metadata": {},
     "output_type": "execute_result"
    }
   ],
   "source": [
    "#edit df_upd in Excel, yep. excel. deal with it. \n",
    "\n",
    "#reload df\n",
    "df_upd = pd.read_csv(r'../data/processed/df_upd_edited.csv', low_memory=False)\n",
    "\n",
    "#reformat datetime column to python DateTime\n",
    "df_upd['DateTime'] = pd.to_datetime(df_upd['DateTime'])\n",
    "#regormat pos_dist to int64\n",
    "#df_upd[\"pos_dist\"] = pd.to_numeric(df_upd[\"pos_dist\"])\n",
    "df_upd.head()"
   ]
  },
  {
   "cell_type": "code",
   "execution_count": 27,
   "metadata": {},
   "outputs": [],
   "source": [
    "#make list of dates, pos_dist, pos_count, neg_count and neu_count\n",
    "scatter_dates = df_upd['DateTime'].tolist()\n",
    "scatter_postdist = df_upd['pos_dist'].tolist()\n",
    "scatter_pos_count = df_upd['pos_sent_count'].tolist()\n",
    "scatter_neg_count = df_upd['neg_sent_count'].tolist()\n",
    "scatter_neu_count = df_upd['neu_sent_count'].tolist()"
   ]
  },
  {
   "cell_type": "markdown",
   "metadata": {},
   "source": [
    "<a id='#3.2.2'></a>"
   ]
  },
  {
   "cell_type": "markdown",
   "metadata": {},
   "source": [
    "## 3.2.2 Figures"
   ]
  },
  {
   "cell_type": "code",
   "execution_count": 28,
   "metadata": {},
   "outputs": [
    {
     "data": {
      "text/plain": [
       "Text(0.5, 0, 'Date')"
      ]
     },
     "execution_count": 28,
     "metadata": {},
     "output_type": "execute_result"
    },
    {
     "data": {
      "image/png": "[encoded data removed]",
      "text/plain": [
       "<Figure size 864x576 with 1 Axes>"
      ]
     },
     "metadata": {
      "image/png": {
       "height": 505,
       "width": 733
      }
     },
     "output_type": "display_data"
    }
   ],
   "source": [
    "#inspect pos counts\n",
    "plt.scatter(scatter_dates, scatter_pos_count)\n",
    "plt.title('Positive Sentiment Count, per day')\n",
    "plt.ylabel('pos_sent')\n",
    "plt.xlabel('Date')"
   ]
  },
  {
   "cell_type": "code",
   "execution_count": 29,
   "metadata": {},
   "outputs": [
    {
     "data": {
      "image/png": "[encoded data removed]",
      "text/plain": [
       "<Figure size 864x576 with 1 Axes>"
      ]
     },
     "metadata": {
      "image/png": {
       "height": 505,
       "width": 733
      }
     },
     "output_type": "display_data"
    }
   ],
   "source": [
    "# inspect sentiment over time\n",
    "plt.scatter(scatter_dates, scatter_neg_count, c='r')\n",
    "plt.title('Negative Sentiment Count, per day')\n",
    "plt.ylabel('neg_sent')\n",
    "plt.xlabel('Date');"
   ]
  },
  {
   "cell_type": "code",
   "execution_count": 30,
   "metadata": {},
   "outputs": [
    {
     "data": {
      "image/png": "[encoded data removed]",
      "text/plain": [
       "<Figure size 864x576 with 1 Axes>"
      ]
     },
     "metadata": {
      "image/png": {
       "height": 505,
       "width": 733
      }
     },
     "output_type": "display_data"
    }
   ],
   "source": [
    "# inspect neutral sentiment over time\n",
    "plt.scatter(scatter_dates, scatter_neu_count, c='black')\n",
    "plt.title('Neutral Sentiment Count, per day')\n",
    "plt.ylabel('neu_sent')\n",
    "plt.xlabel('Date');"
   ]
  },
  {
   "cell_type": "code",
   "execution_count": 17,
   "metadata": {},
   "outputs": [],
   "source": [
    "#In review of the sentiment counts and distributions, it would be interesting to see if some \n",
    "#of the 'spikes' were the result of the game going on sale. Steam does have regular sales, \n",
    "#such as 'summer sales' as well as sales around the holidays. I assume the spikes \n",
    "#were the direct result of these. It's also possible that these spikes were due to big \n",
    "#Twitch streamers playing the game, and their viewers buying it. Also, the increase observed \n",
    "#at the end of 2019 remained a mystery."
   ]
  },
  {
   "cell_type": "markdown",
   "metadata": {},
   "source": [
    "<a id='#3.3'></a>"
   ]
  },
  {
   "cell_type": "markdown",
   "metadata": {},
   "source": [
    "## 3.3 Sentiment Distribution vs. Twitch Views"
   ]
  },
  {
   "cell_type": "code",
   "execution_count": 12,
   "metadata": {},
   "outputs": [],
   "source": [
    "# make list of twitch views\n",
    "#scatter_ttv_views = df_upd['Twitch_Viewers'].tolist()"
   ]
  },
  {
   "cell_type": "code",
   "execution_count": 14,
   "metadata": {},
   "outputs": [],
   "source": [
    "# inspect sentiment over time\n",
    "#plt.scatter(scatter_ttv_views, scatter_postdist)\n",
    "#plt.title('Positive Sentiment Distribution vs. Twitch Views (same day reviews)')\n",
    "#plt.ylabel('pos_dist')\n",
    "#plt.xlabel('Twitch Views')\n",
    "#plt.xlim(0,6000);"
   ]
  },
  {
   "cell_type": "markdown",
   "metadata": {},
   "source": [
    "<a id='#4.'></a>"
   ]
  },
  {
   "cell_type": "markdown",
   "metadata": {},
   "source": [
    "## 4. Closing Thoughts"
   ]
  },
  {
   "cell_type": "markdown",
   "metadata": {},
   "source": [
    "        There were several major hurdles that I had to overcome in my journey that I wanted to quickly address. Sadly, I was not able to answer all the posted questions. The game developers did not share sales figures with me. As as result I was not able to predict sales trends as a function of previous game reviews. I could have used Twitch views as a soft marker of 'sales' but that would have been a stretch. Also, I couldn't explore multiple sentiments via a 3rd-party model: \n",
    "   [crystalfeel](http://www.crystalfeel.socialanalyticsplus.net/)\n",
    "   \n",
    "        They did not return my inquiries. Nevertheless, I hand-coded a portion of the game reviews by hand, with a ~51% accuracy of expending the lables to the rest of the game reviews. A notebook of that may be found here:\n",
    "  [multiple sentiments via crystalfeel](https://github.com/cbroker1/text-as-data/blob/master/notebooks/TAD_Week_7_Broker_Carl.ipynb)\n",
    "  \n",
    "         GPU Training. Up till this point I did not have that much experience using my GPU for training. Learning how to use pytorch to set up tensors and pass them to my GPU was a challenge. Once I got it up and running however, I had a lot of fun exploring different training datasets and the power GPU training offered in developing larger models (we're talking days of training). My model's accuracy ended up being worse @100k training samples vs 10k, which was a valuable lesson learned:\n",
    "  [training exploration](https://github.com/cbroker1/text-as-data/blob/master/notebooks/TAD_Week_5_Broker_Carl.ipynb)\n",
    "  \n",
    "         I did explore increasing my Epoch count to 100 (8 hours of training on my 10K training dataset) and did not find a significant increace in model performace. Hence why in my final draft I left it at 10 Epochs. \n",
    "  \n",
    "         In the future, I'm interested in exploring longer lenghts of tokens (in turn, sentence length) when using BERT models. A significant portion of the game reviews are longer than what BERT allows. Also, using a rented cloud service for training as that took a significant portion of my time.\n",
    "         \n",
    "         Thank you for your time."
   ]
  }
 ],
 "metadata": {
  "interpreter": {
   "hash": "2b19fb78846079522240e6044b334994c665f3ac4416e4618f578189a771577e"
  },
  "kernelspec": {
   "display_name": "text_data",
   "language": "python",
   "name": "python3"
  },
  "language_info": {
   "codemirror_mode": {
    "name": "ipython",
    "version": 3
   },
   "file_extension": ".py",
   "mimetype": "text/x-python",
   "name": "python",
   "nbconvert_exporter": "python",
   "pygments_lexer": "ipython3",
   "version": "3.8.12"
  }
 },
 "nbformat": 4,
 "nbformat_minor": 4
}
