{
 "cells": [
  {
   "cell_type": "markdown",
   "metadata": {},
   "source": [
    "1) a. Visit the Discussion Forum: In order to implement supervised learning, you will need a set of the data for which you know the true “labels” of your documents. Each student must start a thread on the discussion forum describing their data and the labels they will use. You must start this thread on Thursday, and must comment on at least two other student’s threads by Saturday (noon EST). Posts should describe the research question, the data, and how the labels were chosen. Replies by classmates should make constructive comments on other possible labels, anticipate problems, etc. I (the instructor) will also comment. \n",
    "\n",
    "b. Next, code a subset of your data (at least 10%). This is a time-consuming but necessary part of supervised methods; don't, however, spend more than 1 hour on this portion of the assignment. You may, however, have information that you can treat as “labels.” For instance, the “data” of publication can be treated as a label, where the classification task is effectively a test of whether or not the time of publication can be predicted from the terms. You may use either handcoded labels or metadata as your training set during our section on supervised learning, but you are encouraged to think of substantively interesting tasks that might be part of your project. For this portion of the assignment, the deliverable is a description of the labels you chose and why they’re relevant to your research question.\n",
    "\n",
    "2) Using the e1071 library in R, train a naive Bayes classifier to predict your labels from your data, as shown in the code example provided. Interpret the results. Which terms were strongly predictive? Which were not?\n",
    "\n",
    "Visit the Discussion Forum for part 1.a. of this assignment.\n",
    "\n",
    "Submit your responses to sections 1b and 2 in a pdf. This should be between 1 and 2 pages."
   ]
  },
  {
   "cell_type": "code",
   "execution_count": null,
   "metadata": {},
   "outputs": [],
   "source": []
  },
  {
   "cell_type": "code",
   "execution_count": null,
   "metadata": {},
   "outputs": [],
   "source": []
  },
  {
   "cell_type": "code",
   "execution_count": null,
   "metadata": {},
   "outputs": [],
   "source": []
  }
 ],
 "metadata": {
  "kernelspec": {
   "display_name": "text-as-data",
   "language": "python",
   "name": "text-as-dada"
  },
  "language_info": {
   "codemirror_mode": {
    "name": "ipython",
    "version": 3
   },
   "file_extension": ".py",
   "mimetype": "text/x-python",
   "name": "python",
   "nbconvert_exporter": "python",
   "pygments_lexer": "ipython3",
   "version": "3.8.3"
  }
 },
 "nbformat": 4,
 "nbformat_minor": 4
}
