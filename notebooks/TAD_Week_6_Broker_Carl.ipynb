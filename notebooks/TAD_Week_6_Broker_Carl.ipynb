{
 "cells": [
  {
   "cell_type": "markdown",
   "metadata": {},
   "source": [
    "https://towardsdatascience.com/end-to-end-topic-modeling-in-python-latent-dirichlet-allocation-lda-35ce4ed6b3e0"
   ]
  },
  {
   "cell_type": "markdown",
   "metadata": {},
   "source": [
    "https://www.machinelearningplus.com/nlp/topic-modeling-python-sklearn-examples/"
   ]
  },
  {
   "cell_type": "markdown",
   "metadata": {},
   "source": [
    "1) Describe how topic models define a document. Why is this a useful framework? What substantive questions might it answer? Why isn’t it useful and which questions might it be ill-suited to?\n",
    "\n",
    "LDA assumes, like humans assume, that words carry strong semantic information and similar documents will use similar words. Secondly, documents are pobability distributions over latent topics and topics are probability distributions over words. \n",
    "\n",
    "An important distinction to other models is that LDA works with probability distributions not strict word-frequencies. \n",
    "\n",
    "Topic models define a document as a mixture of a small number of topics and its words atrributed to one of the topics. This framework is useful as it allows, for example, genitists to study the genome in an applied way. Another example, engineers, may classify documents and approximate their relation to other topics. \n",
    "\n",
    "With plate notation, let's describe the below image: \n",
    "- $K$ number of topics\n",
    "- $M$ number of documents\n",
    "- $N$ number of words in a given document\n",
    "- β parameter of Dirichlet prior on per-topic word distro\n",
    "- $\\Phi$ word distribution for topic $K$ (sums to 1)\n",
    "- $a$ parameter of Dirichlet prior on per-document topic distro\n",
    "- $\\Theta$ topic distro for document \n",
    "- $z$ topic word in document\n",
    "- $w$ specific word\n",
    "\n",
    "\"What substantive questions might it answer?\"\n",
    "Topic models are able to derive 'topics' from uncategorized text, without a human having to read it!\n",
    "\n",
    "\"Why isn't it useful and which questions might it be ill-suit to?\"\n",
    "If your corpus is constantly changing, the sensitive hyper-parameters will need maintenance. If not maintained unintented drift will occur and the derived topics will not be useful."
   ]
  },
  {
   "cell_type": "markdown",
   "metadata": {},
   "source": [
    "<img src=\"../images/lda_k.png\">\n",
    "Source: https://en.wikipedia.org/wiki/Latent_Dirichlet_allocation"
   ]
  },
  {
   "cell_type": "markdown",
   "metadata": {},
   "source": [
    "# Setup"
   ]
  },
  {
   "cell_type": "markdown",
   "metadata": {},
   "source": [
    "The below notebook was built surrounding this tutorial:\n",
    "https://www.machinelearningplus.com/nlp/topic-modeling-python-sklearn-examples"
   ]
  },
  {
   "cell_type": "code",
   "execution_count": 1,
   "metadata": {},
   "outputs": [],
   "source": [
    "# import packages\n",
    "import numpy as np\n",
    "import pandas as pd\n",
    "import seaborn as sns\n",
    "import re, nltk, spacy, gensim\n",
    "\n",
    "# sklearn\n",
    "from sklearn.cluster import KMeans\n",
    "from sklearn.model_selection import GridSearchCV\n",
    "from sklearn.metrics.pairwise import euclidean_distances\n",
    "from sklearn.decomposition import LatentDirichletAllocation, TruncatedSVD\n",
    "from sklearn.feature_extraction.text import CountVectorizer, TfidfVectorizer\n",
    "\n",
    "# misc\n",
    "from pprint import pprint\n",
    "\n",
    "# plotting tools\n",
    "import pyLDAvis\n",
    "import pyLDAvis.sklearn\n",
    "import matplotlib.pyplot as plt\n",
    "%matplotlib inline"
   ]
  },
  {
   "cell_type": "markdown",
   "metadata": {},
   "source": [
    "# Load Data"
   ]
  },
  {
   "cell_type": "code",
   "execution_count": 2,
   "metadata": {},
   "outputs": [],
   "source": [
    "# load data from processed dir\n",
    "df_game_reviews = pd.read_csv(r'../data/processed/game_reviews_processed.csv')"
   ]
  },
  {
   "cell_type": "code",
   "execution_count": 3,
   "metadata": {},
   "outputs": [
    {
     "data": {
      "text/html": [
       "<div>\n",
       "<style scoped>\n",
       "    .dataframe tbody tr th:only-of-type {\n",
       "        vertical-align: middle;\n",
       "    }\n",
       "\n",
       "    .dataframe tbody tr th {\n",
       "        vertical-align: top;\n",
       "    }\n",
       "\n",
       "    .dataframe thead th {\n",
       "        text-align: right;\n",
       "    }\n",
       "</style>\n",
       "<table border=\"1\" class=\"dataframe\">\n",
       "  <thead>\n",
       "    <tr style=\"text-align: right;\">\n",
       "      <th></th>\n",
       "      <th>recommendationid</th>\n",
       "      <th>review</th>\n",
       "      <th>timestamp_created</th>\n",
       "    </tr>\n",
       "  </thead>\n",
       "  <tbody>\n",
       "    <tr>\n",
       "      <th>1</th>\n",
       "      <td>71182712</td>\n",
       "      <td>Game is fun and exciting when it works. Very s...</td>\n",
       "      <td>2020-06-22 11:11:01</td>\n",
       "    </tr>\n",
       "    <tr>\n",
       "      <th>5</th>\n",
       "      <td>26578229</td>\n",
       "      <td>Excellent game. \\n\\nPlenty of fun to be had in...</td>\n",
       "      <td>2016-11-13 04:55:20</td>\n",
       "    </tr>\n",
       "    <tr>\n",
       "      <th>7</th>\n",
       "      <td>71178247</td>\n",
       "      <td>Players are too serious and you can't have fun...</td>\n",
       "      <td>2020-06-22 09:22:03</td>\n",
       "    </tr>\n",
       "    <tr>\n",
       "      <th>8</th>\n",
       "      <td>71177738</td>\n",
       "      <td>great simulation game</td>\n",
       "      <td>2020-06-22 09:09:17</td>\n",
       "    </tr>\n",
       "    <tr>\n",
       "      <th>10</th>\n",
       "      <td>71176801</td>\n",
       "      <td>A blast of a game.\\nAlso a blast of a grenade ...</td>\n",
       "      <td>2020-06-22 08:47:18</td>\n",
       "    </tr>\n",
       "    <tr>\n",
       "      <th>...</th>\n",
       "      <td>...</td>\n",
       "      <td>...</td>\n",
       "      <td>...</td>\n",
       "    </tr>\n",
       "    <tr>\n",
       "      <th>51316</th>\n",
       "      <td>19708009</td>\n",
       "      <td>Communication and teamplay is one of the best ...</td>\n",
       "      <td>2015-12-15 02:02:09</td>\n",
       "    </tr>\n",
       "    <tr>\n",
       "      <th>51317</th>\n",
       "      <td>19708002</td>\n",
       "      <td>If you're looking for a realistic mil-sim styl...</td>\n",
       "      <td>2015-12-15 02:01:24</td>\n",
       "    </tr>\n",
       "    <tr>\n",
       "      <th>51318</th>\n",
       "      <td>19707993</td>\n",
       "      <td>ITS THE BEST GAME EVERS \\n\\nPlay this game if ...</td>\n",
       "      <td>2015-12-15 02:00:26</td>\n",
       "    </tr>\n",
       "    <tr>\n",
       "      <th>51319</th>\n",
       "      <td>19707992</td>\n",
       "      <td>(Disclaimer: This game used to not be on Steam...</td>\n",
       "      <td>2015-12-15 02:00:24</td>\n",
       "    </tr>\n",
       "    <tr>\n",
       "      <th>51320</th>\n",
       "      <td>19707991</td>\n",
       "      <td>gg 10/10</td>\n",
       "      <td>2015-12-15 02:00:21</td>\n",
       "    </tr>\n",
       "  </tbody>\n",
       "</table>\n",
       "<p>31485 rows × 3 columns</p>\n",
       "</div>"
      ],
      "text/plain": [
       "       recommendationid                                             review  \\\n",
       "1              71182712  Game is fun and exciting when it works. Very s...   \n",
       "5              26578229  Excellent game. \\n\\nPlenty of fun to be had in...   \n",
       "7              71178247  Players are too serious and you can't have fun...   \n",
       "8              71177738                              great simulation game   \n",
       "10             71176801  A blast of a game.\\nAlso a blast of a grenade ...   \n",
       "...                 ...                                                ...   \n",
       "51316          19708009  Communication and teamplay is one of the best ...   \n",
       "51317          19708002  If you're looking for a realistic mil-sim styl...   \n",
       "51318          19707993  ITS THE BEST GAME EVERS \\n\\nPlay this game if ...   \n",
       "51319          19707992  (Disclaimer: This game used to not be on Steam...   \n",
       "51320          19707991                                           gg 10/10   \n",
       "\n",
       "         timestamp_created  \n",
       "1      2020-06-22 11:11:01  \n",
       "5      2016-11-13 04:55:20  \n",
       "7      2020-06-22 09:22:03  \n",
       "8      2020-06-22 09:09:17  \n",
       "10     2020-06-22 08:47:18  \n",
       "...                    ...  \n",
       "51316  2015-12-15 02:02:09  \n",
       "51317  2015-12-15 02:01:24  \n",
       "51318  2015-12-15 02:00:26  \n",
       "51319  2015-12-15 02:00:24  \n",
       "51320  2015-12-15 02:00:21  \n",
       "\n",
       "[31485 rows x 3 columns]"
      ]
     },
     "execution_count": 3,
     "metadata": {},
     "output_type": "execute_result"
    }
   ],
   "source": [
    "# clean\n",
    "# remove all data colums aside from recommendationid, review, and timestamp_created.\n",
    "def prune_cols(df):\n",
    "    # keep only needed cols and subset english only\n",
    "    global df_game_reviews\n",
    "    df_game_reviews = df_game_reviews.loc[df_game_reviews['language'] == 'english'] # subsets for english\n",
    "    df_game_reviews = df_game_reviews[[\"recommendationid\", \"review\", \"timestamp_created\"]] # dops unnecessary cols\n",
    "    return df_game_reviews\n",
    "    \n",
    "prune_cols(df_game_reviews)"
   ]
  },
  {
   "cell_type": "code",
   "execution_count": 4,
   "metadata": {},
   "outputs": [],
   "source": [
    "# send review col to list\n",
    "reviews = df_game_reviews.review.tolist()"
   ]
  },
  {
   "cell_type": "code",
   "execution_count": 5,
   "metadata": {},
   "outputs": [],
   "source": [
    "# clean\n",
    "# remove new line delimeter\n",
    "def remove_line(reviews):\n",
    "    temp_lst = []\n",
    "    for item in reviews:\n",
    "        item = str(item)\n",
    "        item = item.replace('\\n', ' ')\n",
    "        temp_lst.append(item)\n",
    "    \n",
    "    reviews = temp_lst\n",
    "    temp_lst = None\n",
    "    df_game_reviews = None\n",
    "    return reviews\n",
    "    \n",
    "remove_line(reviews); # note: output hidden, because it's a nastly-long block of text. "
   ]
  },
  {
   "cell_type": "markdown",
   "metadata": {},
   "source": [
    "# Exploratory Analysis"
   ]
  },
  {
   "cell_type": "code",
   "execution_count": 6,
   "metadata": {},
   "outputs": [
    {
     "data": {
      "image/png": "[encoded data removed]",
      "text/plain": [
       "<Figure size 1080x667.491 with 1 Axes>"
      ]
     },
     "metadata": {
      "needs_background": "light"
     },
     "output_type": "display_data"
    }
   ],
   "source": [
    "# remove punctuation and make all words lowercase\n",
    "def rem_punct_and_lower(df):\n",
    "    temp_lst = ['.','\\n','!','@','#','$','%','^','&','*','(',')','<', '>', '?', ':']\n",
    "    \n",
    "    for item in temp_lst:\n",
    "        #parse through temp_lst\n",
    "        df['review'] = df['review'].str.replace(item, '')\n",
    "    \n",
    "    df[\"review\"] = df[\"review\"].str.lower() # covert words to lowercase\n",
    "    df['review'] = df['review'].astype(str) # convert erraythang to str\n",
    "    \n",
    "    return df\n",
    "\n",
    "rem_punct_and_lower(df_game_reviews)\n",
    "\n",
    "def plot_50_most_common_words(count_data, count_vectorizer):\n",
    "    import matplotlib.pyplot as plt\n",
    "    words = count_vectorizer.get_feature_names()\n",
    "    total_counts = np.zeros(len(words))\n",
    "    for t in count_data:\n",
    "        total_counts+=t.toarray()[0]\n",
    "    \n",
    "    count_dict = (zip(words, total_counts))\n",
    "    count_dict = sorted(count_dict, key=lambda x:x[1], reverse=True)[0:50]\n",
    "    words = [w[0] for w in count_dict]\n",
    "    counts = [w[1] for w in count_dict]\n",
    "    x_pos = np.arange(len(words)) \n",
    "    \n",
    "    plt.figure(2, figsize=(15, 15/1.6180))\n",
    "    plt.subplot(title='50 most common words')\n",
    "    sns.set_context(\"notebook\", font_scale=1.25, rc={\"lines.linewidth\": 2.5})\n",
    "    sns.barplot(x_pos, counts, palette='husl')\n",
    "    plt.xticks(x_pos, words, rotation=90) \n",
    "    plt.xlabel('words')\n",
    "    plt.ylabel('counts')\n",
    "    plt.show()\n",
    "# Initialise the count vectorizer with the English stop words\n",
    "count_vectorizer = CountVectorizer(stop_words='english')\n",
    "# Fit and transform the processed reviews\n",
    "count_data = count_vectorizer.fit_transform(df_game_reviews['review'])\n",
    "# Visualise the 50 most common words\n",
    "plot_50_most_common_words(count_data, count_vectorizer)"
   ]
  },
  {
   "cell_type": "markdown",
   "metadata": {},
   "source": [
    "# Tokenize"
   ]
  },
  {
   "cell_type": "code",
   "execution_count": 7,
   "metadata": {},
   "outputs": [
    {
     "name": "stdout",
     "output_type": "stream",
     "text": [
      "[['game', 'is', 'fun', 'and', 'exciting', 'when', 'it', 'works', 'very', 'simple', 'milsim', 'aspects', 'that', 'are', 'much', 'easier', 'to', 'grasp', 'than', 'arma', 'however', 'cannot', 'even', 'play', 'it', 'in', 'it', 'current', 'state', 'every', 'time', 'get', 'into', 'firefight', 'the', 'game', 'locks', 'up', 'and', 'completely', 'freezes', 'my', 'pc', 'more', 'than', 'makes', 'the', 'minimum', 'requirements', 'poor', 'optimization', 'ruins', 'the', 'experience', 'for', 'me', 'can', 'recommend', 'it', 'in', 'it', 'current', 'state']]\n"
     ]
    }
   ],
   "source": [
    "def sent_to_words(sentences):\n",
    "    for sentence in sentences:\n",
    "        yield(gensim.utils.simple_preprocess(str(sentence), deacc=True))  # deacc = True removes punctuations\n",
    "\n",
    "data_words = list(sent_to_words(reviews))\n",
    "\n",
    "print(data_words[:1])"
   ]
  },
  {
   "cell_type": "markdown",
   "metadata": {},
   "source": [
    "# Lemmatization"
   ]
  },
  {
   "cell_type": "code",
   "execution_count": 8,
   "metadata": {},
   "outputs": [
    {
     "name": "stdout",
     "output_type": "stream",
     "text": [
      "['game fun exciting when work very simple milsim aspect much easy grasp however can even play current state time firefight game lock completely freeze pc more make minimum requirement poor optimization ruin experience can recommend current state', 'excellent plenty fun have game work very well gtx gig could probably use gb game however require solid hour so time willing communicate will simply poor experience play project reality bf will enjoy game pro commucation weapon gunplay map simple control scheme compare con will very frustrating player never play project reality']\n"
     ]
    }
   ],
   "source": [
    "def lemmatization(texts, allowed_postags=['NOUN', 'ADJ', 'VERB', 'ADV']):\n",
    "    \"\"\"https://spacy.io/api/annotation\"\"\"\n",
    "    texts_out = []\n",
    "    for sent in texts:\n",
    "        doc = nlp(\" \".join(sent)) \n",
    "        texts_out.append(\" \".join([token.lemma_ if token.lemma_ not in ['-PRON-'] else '' for token in doc if token.pos_ in allowed_postags]))\n",
    "    return texts_out\n",
    "\n",
    "# Initialize spacy 'en' model, keeping only tagger component (for efficiency)\n",
    "nlp = spacy.load('en', disable=['parser', 'ner'])\n",
    "\n",
    "# Do lemmatization keeping only Noun, Adj, Verb, Adverb\n",
    "data_lemmatized = lemmatization(data_words, allowed_postags=['NOUN', 'ADJ', 'VERB', 'ADV'])\n",
    "\n",
    "print(data_lemmatized[:2])"
   ]
  },
  {
   "cell_type": "markdown",
   "metadata": {},
   "source": [
    "# Create Document-Word matrix"
   ]
  },
  {
   "cell_type": "code",
   "execution_count": 9,
   "metadata": {},
   "outputs": [],
   "source": [
    "vectorizer = CountVectorizer(analyzer='word',       \n",
    "                             min_df=10,                        # minimum reqd occurences of a word \n",
    "                             stop_words='english',             # remove stop words\n",
    "                             lowercase=True,                   # convert all words to lowercase\n",
    "                             token_pattern='[a-zA-Z0-9]{3,}',  # num chars > 3\n",
    "                             # max_features=50000,             # max number of uniq words\n",
    "                            )\n",
    "\n",
    "data_vectorized = vectorizer.fit_transform(data_lemmatized)"
   ]
  },
  {
   "cell_type": "markdown",
   "metadata": {},
   "source": [
    "# Check Sparsicity"
   ]
  },
  {
   "cell_type": "code",
   "execution_count": 10,
   "metadata": {},
   "outputs": [
    {
     "name": "stdout",
     "output_type": "stream",
     "text": [
      "Sparsicity:  0.46320289859969344 %\n"
     ]
    }
   ],
   "source": [
    "# Materialize the sparse data\n",
    "data_dense = data_vectorized.todense()\n",
    "\n",
    "# Compute Sparsicity = Percentage of Non-Zero cells\n",
    "print(\"Sparsicity: \", ((data_dense > 0).sum()/data_dense.size)*100, \"%\")"
   ]
  },
  {
   "cell_type": "markdown",
   "metadata": {},
   "source": [
    "# Build LDA model and Diagnose performance with perplexit and log-lielihood\n",
    "(A model with higher log-likelihood and lower perplexity (exp(-1. * log-likelihood per word)) is considered to be good. Let’s check for our model.)"
   ]
  },
  {
   "cell_type": "markdown",
   "metadata": {},
   "source": [
    "### Find 'Best' model parameters\n",
    "(# Fit LDA with a few different values for K aka n_components. How does the value of K seem to change your results?)"
   ]
  },
  {
   "cell_type": "code",
   "execution_count": 11,
   "metadata": {},
   "outputs": [
    {
     "data": {
      "text/plain": [
       "GridSearchCV(estimator=LatentDirichletAllocation(n_components=5, n_jobs=-1,\n",
       "                                                 random_state=42),\n",
       "             n_jobs=1,\n",
       "             param_grid={'n_components': [1, 2, 3, 4, 5, 6, 7, 8, 9, 10, 11, 12,\n",
       "                                          13, 14, 15, 16, 17, 18, 19, 20, 21,\n",
       "                                          22, 23, 24, 25, 26, 27, 28, 29, 30, ...]},\n",
       "             return_train_score='warn')"
      ]
     },
     "execution_count": 11,
     "metadata": {},
     "output_type": "execute_result"
    }
   ],
   "source": [
    "# define Search Param\n",
    "search_params = {'n_components': [1, 2, 3, 4, 5, 6, 7, 8, 9, 10,\n",
    "                                  11,12,13,14,15,16,17,18,19,20,\n",
    "                                  21,22,23,24,25,26,27,28,29,30,\n",
    "                                  31,32,33,34,35,36,37,38,39,40,\n",
    "                                  41,42,43,44,45,46,47,48,49,50,\n",
    "                                  51,52,53,54,55,56,57,58,59,60,\n",
    "                                  61,62,63,64,65,66,67,68,69,70,\n",
    "                                  71,72,73,74,75,76,77,78,79,80,\n",
    "                                  81,82,83,84,85,86,87,88,89,90,\n",
    "                                  91,92,93,94,95,96,97,98,99,100] #number of topics\n",
    "                }\n",
    "\n",
    "# init the Model\n",
    "lda = LatentDirichletAllocation(doc_topic_prior=None,\n",
    "                                evaluate_every=-1,\n",
    "                                learning_decay=0.7,\n",
    "                                learning_offset=10.0,\n",
    "                                max_doc_update_iter=100,\n",
    "                                max_iter=10,\n",
    "                                mean_change_tol=0.001,\n",
    "                                n_components=5,\n",
    "                                n_jobs=-1,\n",
    "                                perp_tol=0.1, \n",
    "                                random_state=42,\n",
    "                                topic_word_prior=None, \n",
    "                                total_samples=1000000.0, \n",
    "                                verbose=0\n",
    "                               )\n",
    "\n",
    "# init Grid Search Class\n",
    "model = GridSearchCV(cv = None,\n",
    "                     estimator=lda, \n",
    "                     param_grid=search_params,\n",
    "                     pre_dispatch='2*n_jobs',\n",
    "                     refit = True,\n",
    "                     scoring = None,\n",
    "                     verbose = 0,\n",
    "                     n_jobs = 1,\n",
    "                     return_train_score = 'warn'\n",
    "                    )\n",
    "\n",
    "# do the Grid Search\n",
    "model.fit(data_vectorized)"
   ]
  },
  {
   "cell_type": "code",
   "execution_count": 12,
   "metadata": {},
   "outputs": [
    {
     "name": "stdout",
     "output_type": "stream",
     "text": [
      "Best Model's Params:  {'n_components': 1}\n",
      "Best Log Likelihood Score:  -849166.1577512659\n",
      "Model Perplexity:  698.6306022156406\n"
     ]
    }
   ],
   "source": [
    "# Best Model\n",
    "best_lda_model = model.best_estimator_\n",
    "\n",
    "# Model Parameters\n",
    "print(\"Best Model's Params: \", model.best_params_)\n",
    "\n",
    "# Log Likelihood Score\n",
    "print(\"Best Log Likelihood Score: \", model.best_score_)\n",
    "\n",
    "# Perplexity\n",
    "print(\"Model Perplexity: \", best_lda_model.perplexity(data_vectorized))\n",
    "\n",
    "#previous runs:\n",
    "\n",
    "#Best Model's Params:  {'n_components': 1}\n",
    "#Best Log Likelihood Score:  -849166.1577512659\n",
    "#Model Perplexity:  698.6306022156406\n",
    "\n",
    "#Best Model's Params:  {'learning_decay': 0.5, 'n_components': 1}\n",
    "#Best Log Likelihood Score:  -849166.1577512659\n",
    "#Model Perplexity:  698.6306022156406"
   ]
  },
  {
   "cell_type": "markdown",
   "metadata": {},
   "source": [
    "# Fit LDA with a few different values for K. How does the value of K seem to change your results?\n",
    "(the increase of K's value, decreased the model's strength)"
   ]
  },
  {
   "cell_type": "code",
   "execution_count": 13,
   "metadata": {},
   "outputs": [
    {
     "data": {
      "image/png": "[encoded data removed]",
      "text/plain": [
       "<Figure size 864x576 with 1 Axes>"
      ]
     },
     "metadata": {
      "needs_background": "light"
     },
     "output_type": "display_data"
    }
   ],
   "source": [
    "#plot of learning optimal params\n",
    "def plot_scores(model):\n",
    "    temp_params = []\n",
    "    temp_mean_test_score = []\n",
    "    n_topics = [1, 2, 3, 4, 5, 6, 7, 8, 9, 10,\n",
    "                11,12,13,14,15,16,17,18,19,20,\n",
    "                21,22,23,24,25,26,27,28,29,30,\n",
    "                31,32,33,34,35,36,37,38,39,40,\n",
    "                41,42,43,44,45,46,47,48,49,50,\n",
    "                51,52,53,54,55,56,57,58,59,60,\n",
    "                61,62,63,64,65,66,67,68,69,70,\n",
    "                71,72,73,74,75,76,77,78,79,80,\n",
    "                81,82,83,84,85,86,87,88,89,90,\n",
    "                91,92,93,94,95,96,97,98,99,100] # K \n",
    "\n",
    "    for item in model.cv_results_['mean_test_score']:\n",
    "        temp_mean_test_score.append(item)\n",
    "    \n",
    "    plt.figure(figsize=(12, 8))\n",
    "    plt.plot(n_topics, temp_mean_test_score)\n",
    "    plt.title(\"Choosing Optimal LDA Model\")\n",
    "    plt.xlabel(\"Num Topics (K)\")\n",
    "    plt.ylabel(\"Log Likelyhood Scores\")\n",
    "    #plt.legend(title='Learning decay', loc='best')\n",
    "    plt.show()\n",
    "\n",
    "plot_scores(model)"
   ]
  },
  {
   "cell_type": "markdown",
   "metadata": {},
   "source": [
    "# Dominant Topic in each Document\n",
    "(note: because there is only 1 topic, this section becomes irrelevant. I'm leaving it in here because I might change topic count)"
   ]
  },
  {
   "cell_type": "code",
   "execution_count": 14,
   "metadata": {},
   "outputs": [
    {
     "data": {
      "text/html": [
       "<style  type=\"text/css\" >\n",
       "    #T_9954d08a_c0b4_11ea_a548_a9db7e868481row0_col0 {\n",
       "            color:  green;\n",
       "            font-weight:  700;\n",
       "        }    #T_9954d08a_c0b4_11ea_a548_a9db7e868481row0_col1 {\n",
       "            color:  black;\n",
       "            font-weight:  400;\n",
       "        }    #T_9954d08a_c0b4_11ea_a548_a9db7e868481row1_col0 {\n",
       "            color:  green;\n",
       "            font-weight:  700;\n",
       "        }    #T_9954d08a_c0b4_11ea_a548_a9db7e868481row1_col1 {\n",
       "            color:  black;\n",
       "            font-weight:  400;\n",
       "        }    #T_9954d08a_c0b4_11ea_a548_a9db7e868481row2_col0 {\n",
       "            color:  green;\n",
       "            font-weight:  700;\n",
       "        }    #T_9954d08a_c0b4_11ea_a548_a9db7e868481row2_col1 {\n",
       "            color:  black;\n",
       "            font-weight:  400;\n",
       "        }    #T_9954d08a_c0b4_11ea_a548_a9db7e868481row3_col0 {\n",
       "            color:  green;\n",
       "            font-weight:  700;\n",
       "        }    #T_9954d08a_c0b4_11ea_a548_a9db7e868481row3_col1 {\n",
       "            color:  black;\n",
       "            font-weight:  400;\n",
       "        }    #T_9954d08a_c0b4_11ea_a548_a9db7e868481row4_col0 {\n",
       "            color:  green;\n",
       "            font-weight:  700;\n",
       "        }    #T_9954d08a_c0b4_11ea_a548_a9db7e868481row4_col1 {\n",
       "            color:  black;\n",
       "            font-weight:  400;\n",
       "        }    #T_9954d08a_c0b4_11ea_a548_a9db7e868481row5_col0 {\n",
       "            color:  green;\n",
       "            font-weight:  700;\n",
       "        }    #T_9954d08a_c0b4_11ea_a548_a9db7e868481row5_col1 {\n",
       "            color:  black;\n",
       "            font-weight:  400;\n",
       "        }    #T_9954d08a_c0b4_11ea_a548_a9db7e868481row6_col0 {\n",
       "            color:  green;\n",
       "            font-weight:  700;\n",
       "        }    #T_9954d08a_c0b4_11ea_a548_a9db7e868481row6_col1 {\n",
       "            color:  black;\n",
       "            font-weight:  400;\n",
       "        }    #T_9954d08a_c0b4_11ea_a548_a9db7e868481row7_col0 {\n",
       "            color:  green;\n",
       "            font-weight:  700;\n",
       "        }    #T_9954d08a_c0b4_11ea_a548_a9db7e868481row7_col1 {\n",
       "            color:  black;\n",
       "            font-weight:  400;\n",
       "        }    #T_9954d08a_c0b4_11ea_a548_a9db7e868481row8_col0 {\n",
       "            color:  green;\n",
       "            font-weight:  700;\n",
       "        }    #T_9954d08a_c0b4_11ea_a548_a9db7e868481row8_col1 {\n",
       "            color:  black;\n",
       "            font-weight:  400;\n",
       "        }    #T_9954d08a_c0b4_11ea_a548_a9db7e868481row9_col0 {\n",
       "            color:  green;\n",
       "            font-weight:  700;\n",
       "        }    #T_9954d08a_c0b4_11ea_a548_a9db7e868481row9_col1 {\n",
       "            color:  black;\n",
       "            font-weight:  400;\n",
       "        }    #T_9954d08a_c0b4_11ea_a548_a9db7e868481row10_col0 {\n",
       "            color:  green;\n",
       "            font-weight:  700;\n",
       "        }    #T_9954d08a_c0b4_11ea_a548_a9db7e868481row10_col1 {\n",
       "            color:  black;\n",
       "            font-weight:  400;\n",
       "        }    #T_9954d08a_c0b4_11ea_a548_a9db7e868481row11_col0 {\n",
       "            color:  green;\n",
       "            font-weight:  700;\n",
       "        }    #T_9954d08a_c0b4_11ea_a548_a9db7e868481row11_col1 {\n",
       "            color:  black;\n",
       "            font-weight:  400;\n",
       "        }    #T_9954d08a_c0b4_11ea_a548_a9db7e868481row12_col0 {\n",
       "            color:  green;\n",
       "            font-weight:  700;\n",
       "        }    #T_9954d08a_c0b4_11ea_a548_a9db7e868481row12_col1 {\n",
       "            color:  black;\n",
       "            font-weight:  400;\n",
       "        }    #T_9954d08a_c0b4_11ea_a548_a9db7e868481row13_col0 {\n",
       "            color:  green;\n",
       "            font-weight:  700;\n",
       "        }    #T_9954d08a_c0b4_11ea_a548_a9db7e868481row13_col1 {\n",
       "            color:  black;\n",
       "            font-weight:  400;\n",
       "        }    #T_9954d08a_c0b4_11ea_a548_a9db7e868481row14_col0 {\n",
       "            color:  green;\n",
       "            font-weight:  700;\n",
       "        }    #T_9954d08a_c0b4_11ea_a548_a9db7e868481row14_col1 {\n",
       "            color:  black;\n",
       "            font-weight:  400;\n",
       "        }</style><table id=\"T_9954d08a_c0b4_11ea_a548_a9db7e868481\" ><thead>    <tr>        <th class=\"blank level0\" ></th>        <th class=\"col_heading level0 col0\" >Topic0</th>        <th class=\"col_heading level0 col1\" >dominant_topic</th>    </tr></thead><tbody>\n",
       "                <tr>\n",
       "                        <th id=\"T_9954d08a_c0b4_11ea_a548_a9db7e868481level0_row0\" class=\"row_heading level0 row0\" >Doc0</th>\n",
       "                        <td id=\"T_9954d08a_c0b4_11ea_a548_a9db7e868481row0_col0\" class=\"data row0 col0\" >1.000000</td>\n",
       "                        <td id=\"T_9954d08a_c0b4_11ea_a548_a9db7e868481row0_col1\" class=\"data row0 col1\" >0</td>\n",
       "            </tr>\n",
       "            <tr>\n",
       "                        <th id=\"T_9954d08a_c0b4_11ea_a548_a9db7e868481level0_row1\" class=\"row_heading level0 row1\" >Doc1</th>\n",
       "                        <td id=\"T_9954d08a_c0b4_11ea_a548_a9db7e868481row1_col0\" class=\"data row1 col0\" >1.000000</td>\n",
       "                        <td id=\"T_9954d08a_c0b4_11ea_a548_a9db7e868481row1_col1\" class=\"data row1 col1\" >0</td>\n",
       "            </tr>\n",
       "            <tr>\n",
       "                        <th id=\"T_9954d08a_c0b4_11ea_a548_a9db7e868481level0_row2\" class=\"row_heading level0 row2\" >Doc2</th>\n",
       "                        <td id=\"T_9954d08a_c0b4_11ea_a548_a9db7e868481row2_col0\" class=\"data row2 col0\" >1.000000</td>\n",
       "                        <td id=\"T_9954d08a_c0b4_11ea_a548_a9db7e868481row2_col1\" class=\"data row2 col1\" >0</td>\n",
       "            </tr>\n",
       "            <tr>\n",
       "                        <th id=\"T_9954d08a_c0b4_11ea_a548_a9db7e868481level0_row3\" class=\"row_heading level0 row3\" >Doc3</th>\n",
       "                        <td id=\"T_9954d08a_c0b4_11ea_a548_a9db7e868481row3_col0\" class=\"data row3 col0\" >1.000000</td>\n",
       "                        <td id=\"T_9954d08a_c0b4_11ea_a548_a9db7e868481row3_col1\" class=\"data row3 col1\" >0</td>\n",
       "            </tr>\n",
       "            <tr>\n",
       "                        <th id=\"T_9954d08a_c0b4_11ea_a548_a9db7e868481level0_row4\" class=\"row_heading level0 row4\" >Doc4</th>\n",
       "                        <td id=\"T_9954d08a_c0b4_11ea_a548_a9db7e868481row4_col0\" class=\"data row4 col0\" >1.000000</td>\n",
       "                        <td id=\"T_9954d08a_c0b4_11ea_a548_a9db7e868481row4_col1\" class=\"data row4 col1\" >0</td>\n",
       "            </tr>\n",
       "            <tr>\n",
       "                        <th id=\"T_9954d08a_c0b4_11ea_a548_a9db7e868481level0_row5\" class=\"row_heading level0 row5\" >Doc5</th>\n",
       "                        <td id=\"T_9954d08a_c0b4_11ea_a548_a9db7e868481row5_col0\" class=\"data row5 col0\" >1.000000</td>\n",
       "                        <td id=\"T_9954d08a_c0b4_11ea_a548_a9db7e868481row5_col1\" class=\"data row5 col1\" >0</td>\n",
       "            </tr>\n",
       "            <tr>\n",
       "                        <th id=\"T_9954d08a_c0b4_11ea_a548_a9db7e868481level0_row6\" class=\"row_heading level0 row6\" >Doc6</th>\n",
       "                        <td id=\"T_9954d08a_c0b4_11ea_a548_a9db7e868481row6_col0\" class=\"data row6 col0\" >1.000000</td>\n",
       "                        <td id=\"T_9954d08a_c0b4_11ea_a548_a9db7e868481row6_col1\" class=\"data row6 col1\" >0</td>\n",
       "            </tr>\n",
       "            <tr>\n",
       "                        <th id=\"T_9954d08a_c0b4_11ea_a548_a9db7e868481level0_row7\" class=\"row_heading level0 row7\" >Doc7</th>\n",
       "                        <td id=\"T_9954d08a_c0b4_11ea_a548_a9db7e868481row7_col0\" class=\"data row7 col0\" >1.000000</td>\n",
       "                        <td id=\"T_9954d08a_c0b4_11ea_a548_a9db7e868481row7_col1\" class=\"data row7 col1\" >0</td>\n",
       "            </tr>\n",
       "            <tr>\n",
       "                        <th id=\"T_9954d08a_c0b4_11ea_a548_a9db7e868481level0_row8\" class=\"row_heading level0 row8\" >Doc8</th>\n",
       "                        <td id=\"T_9954d08a_c0b4_11ea_a548_a9db7e868481row8_col0\" class=\"data row8 col0\" >1.000000</td>\n",
       "                        <td id=\"T_9954d08a_c0b4_11ea_a548_a9db7e868481row8_col1\" class=\"data row8 col1\" >0</td>\n",
       "            </tr>\n",
       "            <tr>\n",
       "                        <th id=\"T_9954d08a_c0b4_11ea_a548_a9db7e868481level0_row9\" class=\"row_heading level0 row9\" >Doc9</th>\n",
       "                        <td id=\"T_9954d08a_c0b4_11ea_a548_a9db7e868481row9_col0\" class=\"data row9 col0\" >1.000000</td>\n",
       "                        <td id=\"T_9954d08a_c0b4_11ea_a548_a9db7e868481row9_col1\" class=\"data row9 col1\" >0</td>\n",
       "            </tr>\n",
       "            <tr>\n",
       "                        <th id=\"T_9954d08a_c0b4_11ea_a548_a9db7e868481level0_row10\" class=\"row_heading level0 row10\" >Doc10</th>\n",
       "                        <td id=\"T_9954d08a_c0b4_11ea_a548_a9db7e868481row10_col0\" class=\"data row10 col0\" >1.000000</td>\n",
       "                        <td id=\"T_9954d08a_c0b4_11ea_a548_a9db7e868481row10_col1\" class=\"data row10 col1\" >0</td>\n",
       "            </tr>\n",
       "            <tr>\n",
       "                        <th id=\"T_9954d08a_c0b4_11ea_a548_a9db7e868481level0_row11\" class=\"row_heading level0 row11\" >Doc11</th>\n",
       "                        <td id=\"T_9954d08a_c0b4_11ea_a548_a9db7e868481row11_col0\" class=\"data row11 col0\" >1.000000</td>\n",
       "                        <td id=\"T_9954d08a_c0b4_11ea_a548_a9db7e868481row11_col1\" class=\"data row11 col1\" >0</td>\n",
       "            </tr>\n",
       "            <tr>\n",
       "                        <th id=\"T_9954d08a_c0b4_11ea_a548_a9db7e868481level0_row12\" class=\"row_heading level0 row12\" >Doc12</th>\n",
       "                        <td id=\"T_9954d08a_c0b4_11ea_a548_a9db7e868481row12_col0\" class=\"data row12 col0\" >1.000000</td>\n",
       "                        <td id=\"T_9954d08a_c0b4_11ea_a548_a9db7e868481row12_col1\" class=\"data row12 col1\" >0</td>\n",
       "            </tr>\n",
       "            <tr>\n",
       "                        <th id=\"T_9954d08a_c0b4_11ea_a548_a9db7e868481level0_row13\" class=\"row_heading level0 row13\" >Doc13</th>\n",
       "                        <td id=\"T_9954d08a_c0b4_11ea_a548_a9db7e868481row13_col0\" class=\"data row13 col0\" >1.000000</td>\n",
       "                        <td id=\"T_9954d08a_c0b4_11ea_a548_a9db7e868481row13_col1\" class=\"data row13 col1\" >0</td>\n",
       "            </tr>\n",
       "            <tr>\n",
       "                        <th id=\"T_9954d08a_c0b4_11ea_a548_a9db7e868481level0_row14\" class=\"row_heading level0 row14\" >Doc14</th>\n",
       "                        <td id=\"T_9954d08a_c0b4_11ea_a548_a9db7e868481row14_col0\" class=\"data row14 col0\" >1.000000</td>\n",
       "                        <td id=\"T_9954d08a_c0b4_11ea_a548_a9db7e868481row14_col1\" class=\"data row14 col1\" >0</td>\n",
       "            </tr>\n",
       "    </tbody></table>"
      ],
      "text/plain": [
       "<pandas.io.formats.style.Styler at 0x7f24302393a0>"
      ]
     },
     "execution_count": 14,
     "metadata": {},
     "output_type": "execute_result"
    }
   ],
   "source": [
    "# Create Document - Topic Matrix\n",
    "lda_output = best_lda_model.transform(data_vectorized)\n",
    "\n",
    "# column names\n",
    "topicnames = [\"Topic\" + str(i) for i in range(best_lda_model.n_components)]\n",
    "\n",
    "# index names\n",
    "docnames = [\"Doc\" + str(i) for i in range(len(reviews))]\n",
    "\n",
    "# Make the pandas dataframe\n",
    "df_document_topic = pd.DataFrame(np.round(lda_output, 2), columns=topicnames, index=docnames)\n",
    "\n",
    "# Get dominant topic for each document\n",
    "dominant_topic = np.argmax(df_document_topic.values, axis=1)\n",
    "df_document_topic['dominant_topic'] = dominant_topic\n",
    "\n",
    "# Styling\n",
    "def color_green(val):\n",
    "    color = 'green' if val > .1 else 'black'\n",
    "    return 'color: {col}'.format(col=color)\n",
    "\n",
    "def make_bold(val):\n",
    "    weight = 700 if val > .1 else 400\n",
    "    return 'font-weight: {weight}'.format(weight=weight)\n",
    "\n",
    "# Apply Style\n",
    "df_document_topics = df_document_topic.head(15).style.applymap(color_green).applymap(make_bold)\n",
    "df_document_topics"
   ]
  },
  {
   "cell_type": "markdown",
   "metadata": {},
   "source": [
    "# Visualize LDA Model\n",
    "(this section is also not used due to topic count)"
   ]
  },
  {
   "cell_type": "markdown",
   "metadata": {},
   "source": [
    "Here's an example of the graphic: https://user-images.githubusercontent.com/20510239/28708365-9d274b3a-73ae-11e7-805f-6c65adbd4907.png"
   ]
  },
  {
   "cell_type": "code",
   "execution_count": 15,
   "metadata": {},
   "outputs": [],
   "source": [
    "#pyLDAvis.enable_notebook()\n",
    "#panel = pyLDAvis.sklearn.prepare(best_lda_model, data_vectorized, vectorizer, mds='tsne')\n",
    "#panel"
   ]
  },
  {
   "cell_type": "markdown",
   "metadata": {},
   "source": [
    "# Using your knowledge of the corpus, choose the best value for K and justify this result substantively. Fit a topic model with this value, interpret it substantively as it relates to your research question, and write these results up:"
   ]
  },
  {
   "cell_type": "markdown",
   "metadata": {},
   "source": [
    "# Inspect Topic Keywords"
   ]
  },
  {
   "cell_type": "code",
   "execution_count": 16,
   "metadata": {},
   "outputs": [
    {
     "data": {
      "text/html": [
       "<div>\n",
       "<style scoped>\n",
       "    .dataframe tbody tr th:only-of-type {\n",
       "        vertical-align: middle;\n",
       "    }\n",
       "\n",
       "    .dataframe tbody tr th {\n",
       "        vertical-align: top;\n",
       "    }\n",
       "\n",
       "    .dataframe thead th {\n",
       "        text-align: right;\n",
       "    }\n",
       "</style>\n",
       "<table border=\"1\" class=\"dataframe\">\n",
       "  <thead>\n",
       "    <tr style=\"text-align: right;\">\n",
       "      <th></th>\n",
       "      <th>aaa</th>\n",
       "      <th>aas</th>\n",
       "      <th>abandon</th>\n",
       "      <th>ability</th>\n",
       "      <th>abit</th>\n",
       "      <th>able</th>\n",
       "      <th>abrams</th>\n",
       "      <th>absolute</th>\n",
       "      <th>absolutely</th>\n",
       "      <th>absolutly</th>\n",
       "      <th>...</th>\n",
       "      <th>year</th>\n",
       "      <th>yell</th>\n",
       "      <th>yelling</th>\n",
       "      <th>yesterday</th>\n",
       "      <th>young</th>\n",
       "      <th>youtube</th>\n",
       "      <th>youtuber</th>\n",
       "      <th>zombie</th>\n",
       "      <th>zone</th>\n",
       "      <th>zoom</th>\n",
       "    </tr>\n",
       "  </thead>\n",
       "  <tbody>\n",
       "    <tr>\n",
       "      <th>Topic0</th>\n",
       "      <td>101.0</td>\n",
       "      <td>37.0</td>\n",
       "      <td>58.0</td>\n",
       "      <td>226.0</td>\n",
       "      <td>25.0</td>\n",
       "      <td>720.0</td>\n",
       "      <td>22.0</td>\n",
       "      <td>152.0</td>\n",
       "      <td>531.0</td>\n",
       "      <td>34.0</td>\n",
       "      <td>...</td>\n",
       "      <td>1209.0</td>\n",
       "      <td>314.0</td>\n",
       "      <td>36.0</td>\n",
       "      <td>36.0</td>\n",
       "      <td>58.0</td>\n",
       "      <td>132.0</td>\n",
       "      <td>21.0</td>\n",
       "      <td>24.0</td>\n",
       "      <td>75.0</td>\n",
       "      <td>101.0</td>\n",
       "    </tr>\n",
       "  </tbody>\n",
       "</table>\n",
       "<p>1 rows × 3525 columns</p>\n",
       "</div>"
      ],
      "text/plain": [
       "          aaa   aas  abandon  ability  abit   able  abrams  absolute  \\\n",
       "Topic0  101.0  37.0     58.0    226.0  25.0  720.0    22.0     152.0   \n",
       "\n",
       "        absolutely  absolutly  ...    year   yell  yelling  yesterday  young  \\\n",
       "Topic0       531.0       34.0  ...  1209.0  314.0     36.0       36.0   58.0   \n",
       "\n",
       "        youtube  youtuber  zombie  zone   zoom  \n",
       "Topic0    132.0      21.0    24.0  75.0  101.0  \n",
       "\n",
       "[1 rows x 3525 columns]"
      ]
     },
     "execution_count": 16,
     "metadata": {},
     "output_type": "execute_result"
    }
   ],
   "source": [
    "# Topic-Keyword Matrix\n",
    "df_topic_keywords = pd.DataFrame(best_lda_model.components_)\n",
    "\n",
    "# Assign Column and Index\n",
    "df_topic_keywords.columns = vectorizer.get_feature_names()\n",
    "df_topic_keywords.index = topicnames\n",
    "\n",
    "# View\n",
    "df_topic_keywords.head()"
   ]
  },
  {
   "cell_type": "code",
   "execution_count": 17,
   "metadata": {},
   "outputs": [
    {
     "data": {
      "text/html": [
       "<div>\n",
       "<style scoped>\n",
       "    .dataframe tbody tr th:only-of-type {\n",
       "        vertical-align: middle;\n",
       "    }\n",
       "\n",
       "    .dataframe tbody tr th {\n",
       "        vertical-align: top;\n",
       "    }\n",
       "\n",
       "    .dataframe thead th {\n",
       "        text-align: right;\n",
       "    }\n",
       "</style>\n",
       "<table border=\"1\" class=\"dataframe\">\n",
       "  <thead>\n",
       "    <tr style=\"text-align: right;\">\n",
       "      <th></th>\n",
       "      <th>Word 0</th>\n",
       "      <th>Word 1</th>\n",
       "      <th>Word 2</th>\n",
       "      <th>Word 3</th>\n",
       "      <th>Word 4</th>\n",
       "      <th>Word 5</th>\n",
       "      <th>Word 6</th>\n",
       "      <th>Word 7</th>\n",
       "      <th>Word 8</th>\n",
       "      <th>Word 9</th>\n",
       "      <th>Word 10</th>\n",
       "      <th>Word 11</th>\n",
       "      <th>Word 12</th>\n",
       "      <th>Word 13</th>\n",
       "      <th>Word 14</th>\n",
       "    </tr>\n",
       "  </thead>\n",
       "  <tbody>\n",
       "    <tr>\n",
       "      <th>Topic 0</th>\n",
       "      <td>game</td>\n",
       "      <td>play</td>\n",
       "      <td>good</td>\n",
       "      <td>squad</td>\n",
       "      <td>great</td>\n",
       "      <td>just</td>\n",
       "      <td>team</td>\n",
       "      <td>fun</td>\n",
       "      <td>time</td>\n",
       "      <td>make</td>\n",
       "      <td>really</td>\n",
       "      <td>people</td>\n",
       "      <td>player</td>\n",
       "      <td>community</td>\n",
       "      <td>work</td>\n",
       "    </tr>\n",
       "  </tbody>\n",
       "</table>\n",
       "</div>"
      ],
      "text/plain": [
       "        Word 0 Word 1 Word 2 Word 3 Word 4 Word 5 Word 6 Word 7 Word 8 Word 9  \\\n",
       "Topic 0   game   play   good  squad  great   just   team    fun   time   make   \n",
       "\n",
       "        Word 10 Word 11 Word 12    Word 13 Word 14  \n",
       "Topic 0  really  people  player  community    work  "
      ]
     },
     "execution_count": 17,
     "metadata": {},
     "output_type": "execute_result"
    }
   ],
   "source": [
    "#top 15 keywords\n",
    "# Show top n keywords for each topic\n",
    "def show_topics(vectorizer=vectorizer, lda_model=best_lda_model, n_words=20):\n",
    "    keywords = np.array(vectorizer.get_feature_names())\n",
    "    topic_keywords = []\n",
    "    for topic_weights in lda_model.components_:\n",
    "        top_keyword_locs = (-topic_weights).argsort()[:n_words]\n",
    "        topic_keywords.append(keywords.take(top_keyword_locs))\n",
    "    return topic_keywords\n",
    "\n",
    "topic_keywords = show_topics(vectorizer=vectorizer, lda_model=best_lda_model, n_words=15)        \n",
    "\n",
    "# Topic - Keywords Dataframe\n",
    "df_topic_keywords = pd.DataFrame(topic_keywords)\n",
    "df_topic_keywords.columns = ['Word '+str(i) for i in range(df_topic_keywords.shape[1])]\n",
    "df_topic_keywords.index = ['Topic '+str(i) for i in range(df_topic_keywords.shape[0])]\n",
    "df_topic_keywords"
   ]
  },
  {
   "cell_type": "markdown",
   "metadata": {},
   "source": [
    "# Cluster Documents that share similar plot.\n",
    "(with just one topic, this section is useless but I'm leaving it in, in the event that I change topic count in the future)"
   ]
  },
  {
   "cell_type": "code",
   "execution_count": 18,
   "metadata": {},
   "outputs": [],
   "source": [
    "# Construct the k-means clusters\n",
    "#from sklearn.cluster import KMeans\n",
    "#clusters = KMeans(n_clusters=15, random_state=100).fit_predict(lda_output)\n",
    "\n",
    "# Build the Singular Value Decomposition(SVD) model\n",
    "#svd_model = TruncatedSVD(n_components=2)  # 2 components\n",
    "#lda_output_svd = svd_model.fit_transform(lda_output)\n",
    "\n",
    "# X and Y axes of the plot using SVD decomposition\n",
    "#x = lda_output_svd[:, 0]\n",
    "#y = lda_output_svd[:, 1]\n",
    "\n",
    "# Weights for the 15 columns of lda_output, for each component\n",
    "#print(\"Component's weights: \\n\", np.round(svd_model.components_, 2))\n",
    "\n",
    "# Percentage of total information in 'lda_output' explained by the two components\n",
    "#print(\"Perc of Variance Explained: \\n\", np.round(svd_model.explained_variance_ratio_, 2))"
   ]
  },
  {
   "cell_type": "markdown",
   "metadata": {},
   "source": [
    "# Return Simiar Docs for test review"
   ]
  },
  {
   "cell_type": "code",
   "execution_count": 19,
   "metadata": {},
   "outputs": [],
   "source": [
    "def predict_topic(text, nlp=nlp):\n",
    "    global sent_to_words\n",
    "    global lemmatization\n",
    "\n",
    "    # Step 1: Clean with simple_preprocess\n",
    "    mytext_2 = list(sent_to_words(text))\n",
    "\n",
    "    # Step 2: Lemmatize\n",
    "    mytext_3 = lemmatization(mytext_2, allowed_postags=['NOUN', 'ADJ', 'VERB', 'ADV'])\n",
    "\n",
    "    # Step 3: Vectorize transform\n",
    "    mytext_4 = vectorizer.transform(mytext_3)\n",
    "\n",
    "    # Step 4: LDA Transform\n",
    "    topic_probability_scores = best_lda_model.transform(mytext_4)\n",
    "    topic = df_topic_keywords.iloc[np.argmax(topic_probability_scores), :].values.tolist()\n",
    "    return topic, topic_probability_scores"
   ]
  },
  {
   "cell_type": "code",
   "execution_count": 20,
   "metadata": {},
   "outputs": [],
   "source": [
    "nlp = spacy.load('en', disable=['parser', 'ner'])\n",
    "\n",
    "def similar_documents(text, doc_topic_probs, documents = reviews, nlp=nlp, top_n=5, verbose=False):\n",
    "    topic, x  = predict_topic(text)\n",
    "    dists = euclidean_distances(x.reshape(1, -1), doc_topic_probs)[0]\n",
    "    doc_ids = np.argsort(dists)[:top_n]\n",
    "    if verbose:        \n",
    "        print(\"Topic KeyWords: \", topic)\n",
    "        print(\"Topic Prob Scores of text: \", np.round(x, 1))\n",
    "        print(\"Most Similar Doc's Probs:  \", np.round(doc_topic_probs[doc_ids], 1))\n",
    "    return doc_ids, np.take(documents, doc_ids)"
   ]
  },
  {
   "cell_type": "code",
   "execution_count": 21,
   "metadata": {},
   "outputs": [
    {
     "name": "stdout",
     "output_type": "stream",
     "text": [
      "Topic KeyWords:  ['game', 'play', 'good', 'squad', 'great', 'just', 'team', 'fun', 'time', 'make', 'really', 'people', 'player', 'community', 'work']\n",
      "Topic Prob Scores of text:  [[1.]]\n",
      "Most Similar Doc's Probs:   [[1.]]\n",
      "\n",
      " Game is fun and exciting when it works. Very simple milsim aspects that are much easier to grasp than Arma. However I cannot even play it in it's current state. Every time I get into a firefight the game locks up and completely freezes. My PC more than makes the minimum requirements. Poor optimization ruins the experience for me. Can't recommend it in it's current state.\n"
     ]
    }
   ],
   "source": [
    "# Get similar documents\n",
    "mytext = [\"I love this game, it's awesome.\"]\n",
    "doc_ids, docs = similar_documents(text=mytext, doc_topic_probs=lda_output, documents = reviews, top_n=1, verbose=True)\n",
    "print('\\n', docs[0][:500])"
   ]
  },
  {
   "cell_type": "markdown",
   "metadata": {},
   "source": [
    "# Closing Thoughts:"
   ]
  },
  {
   "cell_type": "markdown",
   "metadata": {},
   "source": [
    "I am not happy with my topic count selection of one. \n",
    "In retrospect I wonder if I should have removed the word 'game' from the corpus. I might have observed more detail in my automated topic selection, given the overwhelming prevalence of the word in each document.\n",
    "\n",
    "Also, unrelated, at around 80 topics my graph shows some variability. I would have liked to explore that. "
   ]
  }
 ],
 "metadata": {
  "kernelspec": {
   "display_name": "text-as-data",
   "language": "python",
   "name": "text-as-dada"
  },
  "language_info": {
   "codemirror_mode": {
    "name": "ipython",
    "version": 3
   },
   "file_extension": ".py",
   "mimetype": "text/x-python",
   "name": "python",
   "nbconvert_exporter": "python",
   "pygments_lexer": "ipython3",
   "version": "3.8.3"
  }
 },
 "nbformat": 4,
 "nbformat_minor": 4
}
