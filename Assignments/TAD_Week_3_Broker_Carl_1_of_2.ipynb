{
  "nbformat": 4,
  "nbformat_minor": 0,
  "metadata": {
    "colab": {
      "name": "TAD_Week_3_Broker_Carl_1_of_2",
      "provenance": [],
      "collapsed_sections": [],
      "include_colab_link": true
    },
    "kernelspec": {
      "name": "ir",
      "display_name": "R"
    }
  },
  "cells": [
    {
      "cell_type": "markdown",
      "metadata": {
        "id": "view-in-github",
        "colab_type": "text"
      },
      "source": [
        "<a href=\"https://colab.research.google.com/github/cbroker1/text-as-data/blob/master/TAD_Week_3_Broker_Carl_1_of_2.ipynb\" target=\"_parent\"><img src=\"https://colab.research.google.com/assets/colab-badge.svg\" alt=\"Open In Colab\"/></a>"
      ]
    },
    {
      "cell_type": "markdown",
      "metadata": {
        "id": "acdfY6aJqUG2",
        "colab_type": "text"
      },
      "source": [
        "[1] In 1-2 paragraphs, identify a research question answerable with New York Times data, describe why it is interesting, and briefly explain how New York Times data can address it. Use the approach in the provided code: compare the number of hits you get \n",
        "\n",
        "[2] Collect the data relevant to the question you motivate above, and answer the following questions:\n",
        "\n",
        "(a) How many hits do you get in a given year range for your search query?\n",
        "\n",
        "(b) Read some of the headlines you get from each query (there are ten include with each search). Does it seem like your search queries are retrieving articles that are relevant to the research question you chose?"
      ]
    },
    {
      "cell_type": "code",
      "metadata": {
        "id": "Fl8Fk5_defJm",
        "colab_type": "code",
        "outputId": "fc426cf8-01ca-46a1-b92e-e229914c577b",
        "colab": {
          "base_uri": "https://localhost:8080/",
          "height": 468
        }
      },
      "source": [
        "#install/load packages\n",
        "system(\"apt-get install libpoppler-cpp-dev\")\n",
        "install.packages('httr')\n",
        "install.packages('yaml')\n",
        "install.packages('jsonlite')\n",
        "install.packages('dplyr')\n",
        "library(httr)\n",
        "library(yaml)\n",
        "library(jsonlite)\n",
        "library(dplyr)"
      ],
      "execution_count": 0,
      "outputs": [
        {
          "output_type": "stream",
          "text": [
            "Installing package into ‘/usr/local/lib/R/site-library’\n",
            "(as ‘lib’ is unspecified)\n",
            "\n",
            "Installing package into ‘/usr/local/lib/R/site-library’\n",
            "(as ‘lib’ is unspecified)\n",
            "\n",
            "Installing package into ‘/usr/local/lib/R/site-library’\n",
            "(as ‘lib’ is unspecified)\n",
            "\n",
            "Installing package into ‘/usr/local/lib/R/site-library’\n",
            "(as ‘lib’ is unspecified)\n",
            "\n",
            "\n",
            "Attaching package: ‘dplyr’\n",
            "\n",
            "\n",
            "The following objects are masked from ‘package:stats’:\n",
            "\n",
            "    filter, lag\n",
            "\n",
            "\n",
            "The following objects are masked from ‘package:base’:\n",
            "\n",
            "    intersect, setdiff, setequal, union\n",
            "\n",
            "\n"
          ],
          "name": "stderr"
        }
      ]
    },
    {
      "cell_type": "code",
      "metadata": {
        "id": "AydoGjQ1dbL8",
        "colab_type": "code",
        "colab": {}
      },
      "source": [
        "# set api key\n",
        "apikey <- 'VASC5oMAgQHaQK5sTm5IBPR5DaWjwKv7'"
      ],
      "execution_count": 0,
      "outputs": []
    },
    {
      "cell_type": "code",
      "metadata": {
        "id": "KVtH2-_tewND",
        "colab_type": "code",
        "outputId": "b106dc14-d73a-402b-8826-9b0746bbe760",
        "colab": {
          "base_uri": "https://localhost:8080/",
          "height": 104
        }
      },
      "source": [
        "#test connection to nyt api\n",
        "base_url <- \"http://api.nytimes.com/svc/search/v2/articlesearch.json\"\n",
        "r <- GET(base_url, query=list(q=\"Donald Trump\",\"api-key\"=apikey))\n",
        "r"
      ],
      "execution_count": 0,
      "outputs": [
        {
          "output_type": "display_data",
          "data": {
            "text/plain": [
              "Response [http://api.nytimes.com/svc/search/v2/articlesearch.json?q=Donald%20Trump&api-key=VASC5oMAgQHaQK5sTm5IBPR5DaWjwKv7]\n",
              "  Date: 2020-06-14 15:12\n",
              "  Status: 200\n",
              "  Content-Type: application/json;charset=UTF-8\n",
              "  Size: 200 kB\n"
            ]
          },
          "metadata": {
            "tags": []
          }
        }
      ]
    },
    {
      "cell_type": "code",
      "metadata": {
        "id": "XyKBV5SxpD73",
        "colab_type": "code",
        "colab": {}
      },
      "source": [
        "# frequency count of 'Donald Trump' mentions, aggregrated per month.\n",
        "\n",
        "\n",
        "nyt_count <- function(q, date1, date2){\n",
        "  r <- GET(base_url, query=list(q=q,\n",
        "                                \"api-key\"=apikey,\n",
        "                                \"begin_date\"=date1,\n",
        "                                \"end_date\"=date2))\n",
        "  json <- content(r, \"parsed\")\n",
        "  ## if there is no response\n",
        "  while (r$status_code!=200){\n",
        "    Sys.sleep(6) # wait a couple of seconds\n",
        "    # try again:\n",
        "    r <- GET(base_url, query=list(q=q,\n",
        "                  \"api-key\"=apikey,\n",
        "                  \"begin_date\"=date1,\n",
        "                  \"end_date\"=date2))\n",
        "    json <- content(r, \"parsed\")\n",
        "  }\n",
        "  return(json$response$meta$hits)\n",
        "}\n",
        "\n",
        "nyt_dates_count <- function(q, init, end, by){\n",
        "  # sequence of dates to loop over\n",
        "  dates <- seq(from=init, to=end, by=by)\n",
        "  dates <- format(dates, \"%Y%m%d\") # changing format to match NYT API format\n",
        "  counts <- rep(NA, length(dates)-1)\n",
        "  # loop over periods\n",
        "  for (i in 1:(length(dates)-1)){ ## note the -1 here\n",
        "    # information message to track progress\n",
        "    message(dates[i])\n",
        "    # retrieve count\n",
        "    counts[i] <- nyt_count(q=q, date1=dates[i],\n",
        "                           date2=dates[i+1])\n",
        "  }\n",
        "  # improving this as well so that it returns a data frame\n",
        "  df <- data.frame(date = as.Date(dates[-length(dates)], format=\"%Y%m%d\"), count = counts)\n",
        "  return(df)\n",
        "}"
      ],
      "execution_count": 0,
      "outputs": []
    },
    {
      "cell_type": "code",
      "metadata": {
        "id": "V-scy2dtpD5C",
        "colab_type": "code",
        "outputId": "e67c751a-5bcc-4542-fc97-e517ca1dd578",
        "colab": {
          "base_uri": "https://localhost:8080/",
          "height": 225
        }
      },
      "source": [
        "counts <- nyt_dates_count(q=\"Donand Trump\", init = as.Date(\"2020/01/01\"), \n",
        "                          end = as.Date(\"2020/07/13\"), by=\"month\")"
      ],
      "execution_count": 0,
      "outputs": [
        {
          "output_type": "stream",
          "text": [
            "20200101\n",
            "\n",
            "20200201\n",
            "\n",
            "20200301\n",
            "\n",
            "20200401\n",
            "\n",
            "20200501\n",
            "\n",
            "20200601\n",
            "\n"
          ],
          "name": "stderr"
        }
      ]
    },
    {
      "cell_type": "code",
      "metadata": {
        "id": "PoF5k0kPpD2R",
        "colab_type": "code",
        "outputId": "0a4bcdcc-d77f-497a-f16a-529e07cc2fdd",
        "colab": {
          "base_uri": "https://localhost:8080/",
          "height": 437
        }
      },
      "source": [
        "# plot frequency results\n",
        "plot(counts$date, counts$count, type=\"l\", main=\"Mentions of 'Donald Trump' in the NYT, by month\",\n",
        "     xlab=\"Month\", ylab=\"Article count\")"
      ],
      "execution_count": 0,
      "outputs": [
        {
          "output_type": "display_data",
          "data": {
            "image/png": "[encoded data removed]",
            "text/plain": [
              "Plot with title “Mentions of 'Donald Trump' in the NYT, by month”"
            ]
          },
          "metadata": {
            "tags": [],
            "image/png": {
              "width": 420,
              "height": 420
            },
            "text/plain": {
              "width": 420,
              "height": 420
            }
          }
        }
      ]
    },
    {
      "cell_type": "code",
      "metadata": {
        "id": "KeoDZGvy0-H5",
        "colab_type": "code",
        "colab": {}
      },
      "source": [
        "# pull all docs that mention 'Donald Trump' from January 2020 to June 2020\n",
        "nyt_api <- 'VASC5oMAgQHaQK5sTm5IBPR5DaWjwKv7'\n",
        "nyt_articlesearch_url <- \n",
        "  \"https://api.nytimes.com/svc/search/v2/articlesearch.json\"\n",
        "\n",
        "query_list <- \n",
        "  list(\n",
        "    `api-key` = nyt_api,\n",
        "    'begin_date' = 20200101,\n",
        "    'end_date' = 20200613, \n",
        "    q = \"Donald Trump\"\n",
        "  )"
      ],
      "execution_count": 0,
      "outputs": []
    },
    {
      "cell_type": "code",
      "metadata": {
        "id": "HtQUCgpw8hBT",
        "colab_type": "code",
        "outputId": "ce9d83cb-0455-4282-a849-3f2c68e65404",
        "colab": {
          "base_uri": "https://localhost:8080/",
          "height": 167
        }
      },
      "source": [
        "# get counts\n",
        "r <- GET(nyt_articlesearch_url, query = query_list)\n",
        "status_code(r)\n",
        "content(r)$response$meta\n",
        "docs <- content(r)$response$docs\n",
        "writeLines(content(r, 'text'), con=file(\"dt3.json\"))"
      ],
      "execution_count": 0,
      "outputs": [
        {
          "output_type": "display_data",
          "data": {
            "text/plain": [
              "[1] 200"
            ],
            "text/latex": "200",
            "text/markdown": "200",
            "text/html": [
              "200"
            ]
          },
          "metadata": {
            "tags": []
          }
        },
        {
          "output_type": "display_data",
          "data": {
            "text/plain": [
              "$hits\n",
              "[1] 7553\n",
              "\n",
              "$offset\n",
              "[1] 0\n",
              "\n",
              "$time\n",
              "[1] 304\n"
            ],
            "text/latex": "\\begin{description}\n\\item[\\$hits] 7553\n\\item[\\$offset] 0\n\\item[\\$time] 304\n\\end{description}\n",
            "text/markdown": "$hits\n:   7553\n$offset\n:   0\n$time\n:   304\n\n\n",
            "text/html": [
              "<dl>\n",
              "\t<dt>$hits</dt>\n",
              "\t\t<dd>7553</dd>\n",
              "\t<dt>$offset</dt>\n",
              "\t\t<dd>0</dd>\n",
              "\t<dt>$time</dt>\n",
              "\t\t<dd>304</dd>\n",
              "</dl>\n"
            ]
          },
          "metadata": {
            "tags": []
          }
        }
      ]
    },
    {
      "cell_type": "markdown",
      "metadata": {
        "id": "oMAYQ0gzYN2S",
        "colab_type": "text"
      },
      "source": [
        "q=q,\n",
        "                  \"api-key\"=apikey,\n",
        "                  \"begin_date\"=date1,\n",
        "                  \"end_date\"=date2"
      ]
    },
    {
      "cell_type": "code",
      "metadata": {
        "id": "rHenKQ44S7Ue",
        "colab_type": "code",
        "outputId": "6b12e548-ff2a-4b64-cb89-8ee58e6b0070",
        "colab": {
          "base_uri": "https://localhost:8080/",
          "height": 35
        }
      },
      "source": [
        "#inspect counts\n",
        "hits <- content(r)$response$meta$hits\n",
        "hits"
      ],
      "execution_count": 0,
      "outputs": [
        {
          "output_type": "display_data",
          "data": {
            "text/plain": [
              "[1] 7553"
            ],
            "text/latex": "7553",
            "text/markdown": "7553",
            "text/html": [
              "7553"
            ]
          },
          "metadata": {
            "tags": []
          }
        }
      ]
    },
    {
      "cell_type": "code",
      "metadata": {
        "id": "s_hT7EIGS7P4",
        "colab_type": "code",
        "colab": {}
      },
      "source": [
        "#format pages\n",
        "pages <- 0:(ceiling(hits/10) - 1)"
      ],
      "execution_count": 0,
      "outputs": []
    },
    {
      "cell_type": "code",
      "metadata": {
        "id": "02XpFIUdJmp4",
        "colab_type": "code",
        "colab": {}
      },
      "source": [
        "# generate json urls: \n",
        "\n",
        "# (this took 4811 seconds) \n",
        "requests <- \n",
        "  lapply(pages, function(x, query_list) {\n",
        "    new_query_list <- c(query_list, page = x)\n",
        "    ## wait to avoid being rate-limited\n",
        "    Sys.sleep(6)\n",
        "    r <- GET(nyt_articlesearch_url, query = new_query_list)\n",
        "  }, query_list = query_list)"
      ],
      "execution_count": 0,
      "outputs": []
    },
    {
      "cell_type": "code",
      "metadata": {
        "id": "3SwyfeJQ6SwW",
        "colab_type": "code",
        "colab": {}
      },
      "source": [
        "# clean: remove bad urls\n",
        "requests_ok <- requests[lapply(requests, status_code) == 200]"
      ],
      "execution_count": 0,
      "outputs": []
    },
    {
      "cell_type": "code",
      "metadata": {
        "id": "zR32kM_C6Stg",
        "colab_type": "code",
        "colab": {}
      },
      "source": [
        "# send results to a .txt\n",
        "capture.output(requests_ok, file = \"urls.txt\")\n",
        "\n",
        "# save that .txt to your desktop"
      ],
      "execution_count": 0,
      "outputs": []
    },
    {
      "cell_type": "code",
      "metadata": {
        "id": "_zlilQWS6Sqt",
        "colab_type": "code",
        "colab": {}
      },
      "source": [
        "# click below for part 2 in python\n",
        "\n",
        "https://colab.research.google.com/drive/1w4jb7IOhEFU5-1IRBt6LUHzmuuiq6CJ8?usp=sharing"
      ],
      "execution_count": 0,
      "outputs": []
    }
  ]
}