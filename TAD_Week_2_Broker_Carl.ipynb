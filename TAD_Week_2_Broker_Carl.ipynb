{
  "nbformat": 4,
  "nbformat_minor": 0,
  "metadata": {
    "colab": {
      "name": "TAD_Week_2_Broker_Carl",
      "provenance": [],
      "collapsed_sections": [],
      "include_colab_link": true
    },
    "kernelspec": {
      "name": "ir",
      "display_name": "R"
    }
  },
  "cells": [
    {
      "cell_type": "markdown",
      "metadata": {
        "id": "view-in-github",
        "colab_type": "text"
      },
      "source": [
        "<a href=\"https://colab.research.google.com/github/cbroker1/text-as-data/blob/master/TAD_Week_2_Broker_Carl.ipynb\" target=\"_parent\"><img src=\"https://colab.research.google.com/assets/colab-badge.svg\" alt=\"Open In Colab\"/></a>"
      ]
    },
    {
      "cell_type": "markdown",
      "metadata": {
        "id": "acdfY6aJqUG2",
        "colab_type": "text"
      },
      "source": [
        "## **TAD_Week_2_Assignment_Broker_Carl**:\n",
        "\n",
        "---\n",
        "\n",
        "\n",
        "---\n",
        "\n"
      ]
    },
    {
      "cell_type": "markdown",
      "metadata": {
        "id": "rmNXhbpb3vDH",
        "colab_type": "text"
      },
      "source": [
        "## PART 1\n",
        "\n",
        "\n",
        "---\n",
        "\n",
        "\n",
        "\n",
        "\n"
      ]
    },
    {
      "cell_type": "code",
      "metadata": {
        "id": "eYEgCpOnaCXr",
        "colab_type": "code",
        "outputId": "f3a21f43-80e8-45ee-cf37-fb44efbf4d1b",
        "colab": {
          "base_uri": "https://localhost:8080/",
          "height": 1000
        }
      },
      "source": [
        "# Colab notebooks run on special Google flavor of Linux. Some R packages\n",
        "# require special OS packages to be installed.\n",
        "system(\"apt-get install libpoppler-cpp-dev\")\n",
        "\n",
        "#install packages\n",
        "install.packages('ggplot2')\n",
        "install.packages('quanteda')\n",
        "install.packages('readtext')\n",
        "install.packages('textstem')\n",
        "install.packages('scales')\n",
        "library(ggplot2)\n",
        "library(quanteda)\n",
        "library(readtext)\n",
        "library(textstem)\n",
        "library(scales)"
      ],
      "execution_count": 0,
      "outputs": [
        {
          "output_type": "stream",
          "text": [
            "Installing package into ‘/usr/local/lib/R/site-library’\n",
            "(as ‘lib’ is unspecified)\n",
            "\n",
            "Installing package into ‘/usr/local/lib/R/site-library’\n",
            "(as ‘lib’ is unspecified)\n",
            "\n",
            "also installing the dependencies ‘coda’, ‘extrafontdb’, ‘Rttf2pt1’, ‘statnet.common’, ‘ISOcodes’, ‘data.table’, ‘extrafont’, ‘fastmatch’, ‘ggrepel’, ‘network’, ‘RcppParallel’, ‘sna’, ‘SnowballC’, ‘stopwords’, ‘proxyC’, ‘RcppArmadillo’\n",
            "\n",
            "\n",
            "Installing package into ‘/usr/local/lib/R/site-library’\n",
            "(as ‘lib’ is unspecified)\n",
            "\n",
            "also installing the dependencies ‘bitops’, ‘qpdf’, ‘RCurl’, ‘rjson’, ‘ndjson’, ‘antiword’, ‘pdftools’, ‘readODS’, ‘streamR’, ‘striprtf’\n",
            "\n",
            "\n",
            "Installing package into ‘/usr/local/lib/R/site-library’\n",
            "(as ‘lib’ is unspecified)\n",
            "\n",
            "also installing the dependencies ‘NLP’, ‘zoo’, ‘dtt’, ‘sylly.en’, ‘sylly’, ‘syuzhet’, ‘english’, ‘mgsub’, ‘qdapRegex’, ‘slam’, ‘koRpus.lang.en’, ‘hunspell’, ‘koRpus’, ‘lexicon’, ‘textclean’, ‘textshape’\n",
            "\n",
            "\n",
            "Installing package into ‘/usr/local/lib/R/site-library’\n",
            "(as ‘lib’ is unspecified)\n",
            "\n",
            "also installing the dependency ‘farver’\n",
            "\n",
            "\n",
            "Package version: 2.0.1\n",
            "\n",
            "Parallel computing: 2 of 2 threads used.\n",
            "\n",
            "See https://quanteda.io for tutorials and examples.\n",
            "\n",
            "\n",
            "Attaching package: ‘quanteda’\n",
            "\n",
            "\n",
            "The following object is masked from ‘jupyter:irkernel’:\n",
            "\n",
            "    View\n",
            "\n",
            "\n",
            "The following object is masked from ‘package:utils’:\n",
            "\n",
            "    View\n",
            "\n",
            "\n",
            "Loading required package: koRpus.lang.en\n",
            "\n",
            "Loading required package: koRpus\n",
            "\n",
            "Loading required package: sylly\n",
            "\n",
            "For information on available language packages for 'koRpus', run\n",
            "\n",
            "  available.koRpus.lang()\n",
            "\n",
            "and see ?install.koRpus.lang()\n",
            "\n",
            "\n",
            "\n",
            "Attaching package: ‘koRpus’\n",
            "\n",
            "\n",
            "The following objects are masked from ‘package:quanteda’:\n",
            "\n",
            "    tokens, types\n",
            "\n",
            "\n"
          ],
          "name": "stderr"
        }
      ]
    },
    {
      "cell_type": "markdown",
      "metadata": {
        "id": "hzjkzbcbrUwu",
        "colab_type": "text"
      },
      "source": [
        "#1. Read-in the JSON file and create a corpus.\n",
        "\n"
      ]
    },
    {
      "cell_type": "code",
      "metadata": {
        "id": "9EXGRJkZUmgF",
        "colab_type": "code",
        "outputId": "7a2afb9b-0084-4d66-f001-7aa670b99829",
        "colab": {
          "base_uri": "https://localhost:8080/",
          "height": 52
        }
      },
      "source": [
        "# read-in .json via readtext()\n",
        "music_raw <- readtext(\"/content/musical_instruments.json\", text_field=\"reviewText\")"
      ],
      "execution_count": 0,
      "outputs": [
        {
          "output_type": "stream",
          "text": [
            "File doesn't contain a single valid JSON object.\n",
            "\n"
          ],
          "name": "stderr"
        }
      ]
    },
    {
      "cell_type": "code",
      "metadata": {
        "id": "v6Ch7A7wykXW",
        "colab_type": "code",
        "outputId": "ed820316-7f2d-4eb3-dcfe-dcdb804cd287",
        "colab": {
          "base_uri": "https://localhost:8080/",
          "height": 213
        }
      },
      "source": [
        "# remove duplicates\n",
        "todelete <- seq(1, nrow(music_raw), 2)\n",
        "music_raw <- music_raw[ todelete ,]\n",
        "\n",
        "# reset index, and delete col1:\n",
        "row.names(music_raw) <- NULL\n",
        "music_raw$doc_id <- NULL\n",
        "\n",
        "# set new row names, to len of df\n",
        "row.names(music_raw) <- 1 : nrow(music_raw)\n",
        "\n",
        "# drop all non-text cols\n",
        "music_raw <- music_raw$text\n",
        "\n",
        "# inspect\n",
        "print(head(music_raw, 10))"
      ],
      "execution_count": 0,
      "outputs": [
        {
          "output_type": "stream",
          "text": [
            " [1] \"Not much to write about here, but it does exactly what it's supposed to. filters out the pop sounds. now my recordings are much more crisp. it is one of the lowest prices pop filters on amazon so might as well buy it, they honestly work the same despite their pricing,\"                                                                                                                                                                                                                                                                                                                                                                                                                                                                                                                                                                                                 \n",
            " [2] \"The product does exactly as it should and is quite affordable.I did not realized it was double screened until it arrived, so it was even better than I had expected.As an added bonus, one of the screens carries a small hint of the smell of an old grape candy I used to buy, so for reminiscent's sake, I cannot stop putting the pop filter next to my nose and smelling it after recording. :DIf you needed a pop filter, this will work just as well as the expensive ones, and it may even come with a pleasing aroma like mine did!Buy this product! :]\"                                                                                                                                                                                                                                                                                                             \n",
            " [3] \"The primary job of this device is to block the breath that would otherwise produce a popping sound, while allowing your voice to pass through with no noticeable reduction of volume or high frequencies. The double cloth filter blocks the pops and lets the voice through with no coloration. The metal clamp mount attaches to the mike stand secure enough to keep it attached. The goose neck needs a little coaxing to stay where you put it.\"                                                                                                                                                                                                                                                                                                                                                                                                                         \n",
            " [4] \"Nice windscreen protects my MXL mic and prevents pops. Only thing is that the gooseneck is only marginally able to hold the screen in position and requires careful positioning of the clamp to avoid sagging.\"                                                                                                                                                                                                                                                                                                                                                                                                                                                                                                                                                                                                                                                               \n",
            " [5] \"This pop filter is great. It looks and performs like a studio filter. If you're recording vocals this will eliminate the pops that gets recorded when you sing.\"                                                                                                                                                                                                                                                                                                                                                                                                                                                                                                                                                                                                                                                                                                              \n",
            " [6] \"So good that I bought another one.  Love the heavy cord and gold connectors.  Bass sounds great.  I just learned last night how to coil them up.  I guess I should read instructions more carefully.  But no harm done, still works great!\"                                                                                                                                                                                                                                                                                                                                                                                                                                                                                                                                                                                                                                   \n",
            " [7] \"I have used monster cables for years, and with good reason. The lifetime warranty is worth the price alone. Simple fact: cables break, but getting to replace them at no cost is where it's at.\"                                                                                                                                                                                                                                                                                                                                                                                                                                                                                                                                                                                                                                                                              \n",
            " [8] \"I now use this cable to run from the output of my pedal chain to the input of my Fender Amp. After I bought Monster Cable to hook up my pedal board I thought I would try another one and update my guitar. I had been using a high end Planet Waves cable that I bought in the 1980's... Once I found out the input jacks on the new Monster cable didn't fit into the Fender Strat jack I was a little disappointed... I didn't return it and as stated I use it for the output on the pedal board. Save your money... I went back to my Planet Waves Cable...I payed $30.00 back in the eighties for the Planet Waves which now comes in at around $50.00. What I'm getting at is you get what you pay for. I thought Waves was a lot of money back in the day...but I haven't bought a guitar cable since this one...20 plus years and still working...Planet Waves wins.\"\n",
            " [9] \"Perfect for my Epiphone Sheraton II.  Monster cables are well constructed.  I have several and never had any problems with any of them over the years.  Got this one because I wanted the 90 degree plug.\"                                                                                                                                                                                                                                                                                                                                                                                                                                                                                                                                                                                                                                                                    \n",
            "[10] \"Monster makes the best cables and a lifetime warranty doesnt hurt either. This isnt their top of the line series but it works great with my bass guitar rig and has for some time. You cant go wrong with Monster Cables.\"                                                                                                                                                                                                                                                                                                                                                                                                                                                                                                                                                                                                                                                    \n"
          ],
          "name": "stdout"
        }
      ]
    },
    {
      "cell_type": "code",
      "metadata": {
        "id": "2JkCZX8mbelI",
        "colab_type": "code",
        "outputId": "3abff9d2-81dd-4483-c74b-f5377a272995",
        "colab": {
          "base_uri": "https://localhost:8080/",
          "height": 276
        }
      },
      "source": [
        "# generate corpus\n",
        "music_corpus = corpus(music_raw)\n",
        "\n",
        "# inspect corpus\n",
        "head(summary(music_corpus), 10)"
      ],
      "execution_count": 0,
      "outputs": [
        {
          "output_type": "display_data",
          "data": {
            "text/plain": [
              "   Text   Types Tokens Sentences\n",
              "1  text1  45     57     1       \n",
              "2  text2  81    116     2       \n",
              "3  text3  62     82     4       \n",
              "4  text4  31     37     2       \n",
              "5  text5  28     31     3       \n",
              "6  text6  41     49     6       \n",
              "7  text7  35     41     3       \n",
              "8  text8  98    202    11       \n",
              "9  text9  34     40     4       \n",
              "10 text10 38     44     3       "
            ],
            "text/latex": "A data.frame: 10 × 4\n\\begin{tabular}{r|llll}\n  & Text & Types & Tokens & Sentences\\\\\n  & <chr> & <int> & <int> & <int>\\\\\n\\hline\n\t1 & text1  & 45 &  57 &  1\\\\\n\t2 & text2  & 81 & 116 &  2\\\\\n\t3 & text3  & 62 &  82 &  4\\\\\n\t4 & text4  & 31 &  37 &  2\\\\\n\t5 & text5  & 28 &  31 &  3\\\\\n\t6 & text6  & 41 &  49 &  6\\\\\n\t7 & text7  & 35 &  41 &  3\\\\\n\t8 & text8  & 98 & 202 & 11\\\\\n\t9 & text9  & 34 &  40 &  4\\\\\n\t10 & text10 & 38 &  44 &  3\\\\\n\\end{tabular}\n",
            "text/markdown": "\nA data.frame: 10 × 4\n\n| <!--/--> | Text &lt;chr&gt; | Types &lt;int&gt; | Tokens &lt;int&gt; | Sentences &lt;int&gt; |\n|---|---|---|---|---|\n| 1 | text1  | 45 |  57 |  1 |\n| 2 | text2  | 81 | 116 |  2 |\n| 3 | text3  | 62 |  82 |  4 |\n| 4 | text4  | 31 |  37 |  2 |\n| 5 | text5  | 28 |  31 |  3 |\n| 6 | text6  | 41 |  49 |  6 |\n| 7 | text7  | 35 |  41 |  3 |\n| 8 | text8  | 98 | 202 | 11 |\n| 9 | text9  | 34 |  40 |  4 |\n| 10 | text10 | 38 |  44 |  3 |\n\n",
            "text/html": [
              "<table>\n",
              "<caption>A data.frame: 10 × 4</caption>\n",
              "<thead>\n",
              "\t<tr><th></th><th scope=col>Text</th><th scope=col>Types</th><th scope=col>Tokens</th><th scope=col>Sentences</th></tr>\n",
              "\t<tr><th></th><th scope=col>&lt;chr&gt;</th><th scope=col>&lt;int&gt;</th><th scope=col>&lt;int&gt;</th><th scope=col>&lt;int&gt;</th></tr>\n",
              "</thead>\n",
              "<tbody>\n",
              "\t<tr><th scope=row>1</th><td>text1 </td><td>45</td><td> 57</td><td> 1</td></tr>\n",
              "\t<tr><th scope=row>2</th><td>text2 </td><td>81</td><td>116</td><td> 2</td></tr>\n",
              "\t<tr><th scope=row>3</th><td>text3 </td><td>62</td><td> 82</td><td> 4</td></tr>\n",
              "\t<tr><th scope=row>4</th><td>text4 </td><td>31</td><td> 37</td><td> 2</td></tr>\n",
              "\t<tr><th scope=row>5</th><td>text5 </td><td>28</td><td> 31</td><td> 3</td></tr>\n",
              "\t<tr><th scope=row>6</th><td>text6 </td><td>41</td><td> 49</td><td> 6</td></tr>\n",
              "\t<tr><th scope=row>7</th><td>text7 </td><td>35</td><td> 41</td><td> 3</td></tr>\n",
              "\t<tr><th scope=row>8</th><td>text8 </td><td>98</td><td>202</td><td>11</td></tr>\n",
              "\t<tr><th scope=row>9</th><td>text9 </td><td>34</td><td> 40</td><td> 4</td></tr>\n",
              "\t<tr><th scope=row>10</th><td>text10</td><td>38</td><td> 44</td><td> 3</td></tr>\n",
              "</tbody>\n",
              "</table>\n"
            ]
          },
          "metadata": {
            "tags": []
          }
        }
      ]
    },
    {
      "cell_type": "markdown",
      "metadata": {
        "id": "OXpZBAjuCK3a",
        "colab_type": "text"
      },
      "source": [
        "# 2. Read all Supreme Court opinion PDFs and create a corpus.\n"
      ]
    },
    {
      "cell_type": "code",
      "metadata": {
        "id": "ckPVlywfOJyq",
        "colab_type": "code",
        "colab": {}
      },
      "source": [
        "# unzip USC_cases.zip in /content/ dir\n",
        "unzip(\"USC_Cases.zip\")"
      ],
      "execution_count": 0,
      "outputs": []
    },
    {
      "cell_type": "code",
      "metadata": {
        "id": "ugnooY9JZbDh",
        "colab_type": "code",
        "outputId": "c4b0ec0a-a26f-4cf6-f2a9-74c8c8933b22",
        "colab": {
          "base_uri": "https://localhost:8080/",
          "height": 213
        }
      },
      "source": [
        "# set filenames\n",
        "filenames <- list.files('/content')\n",
        "\n",
        "# inspect\n",
        "print(filenames)"
      ],
      "execution_count": 0,
      "outputs": [
        {
          "output_type": "stream",
          "text": [
            " [1] \"__MACOSX\"                                                                    \n",
            " [2] \"Brown_Warren_Opinion.pdf\"                                                    \n",
            " [3] \"Miranda_Warren_Opinion.pdf\"                                                  \n",
            " [4] \"musical_instruments.json\"                                                    \n",
            " [5] \"New York Times v. U.S. - Per Curiam.pdf\"                                     \n",
            " [6] \"Plessy v. Ferguson - Justice Brown opinion.pdf\"                              \n",
            " [7] \"Regents of the Univ. of CA v Bakke - Plurality Opinion by Justice Powell.pdf\"\n",
            " [8] \"sample_data\"                                                                 \n",
            " [9] \"USC_Cases.zip\"                                                               \n",
            "[10] \"Yick Wo v. California - Justice Matthews opinion.pdf\"                        \n"
          ],
          "name": "stdout"
        }
      ]
    },
    {
      "cell_type": "code",
      "metadata": {
        "id": "lSo6XJnjiFme",
        "colab_type": "code",
        "colab": {}
      },
      "source": [
        "# from above list, select all .pdf files\n",
        "a <- readtext(\"/content/Brown_Warren_Opinion.pdf\")\n",
        "b <- readtext(\"/content/Miranda_Warren_Opinion.pdf\")\n",
        "c <- readtext(\"/content/New York Times v. U.S. - Per Curiam.pdf\")\n",
        "d <- readtext(\"/content/Plessy v. Ferguson - Justice Brown opinion.pdf\")\n",
        "e <- readtext(\"/content/Regents of the Univ. of CA v Bakke - Plurality Opinion by Justice Powell.pdf\")\n",
        "f <- readtext(\"/content/Yick Wo v. California - Justice Matthews opinion.pdf\")\n",
        "\n",
        "# concatenate into blank df\n",
        "court_raw <- rbind(a,b,c,d,e,f)"
      ],
      "execution_count": 0,
      "outputs": []
    },
    {
      "cell_type": "code",
      "metadata": {
        "id": "5CV1ryyDk80Q",
        "colab_type": "code",
        "outputId": "145102e4-869b-4aec-fda2-fd5e033d231f",
        "colab": {
          "base_uri": "https://localhost:8080/",
          "height": 213
        }
      },
      "source": [
        "# generate corpus\n",
        "court_corpus = corpus(court_raw)\n",
        "\n",
        "# inspect corpus\n",
        "summary(court_corpus)"
      ],
      "execution_count": 0,
      "outputs": [
        {
          "output_type": "display_data",
          "data": {
            "text/plain": [
              "  Text                                                                        \n",
              "1 Brown_Warren_Opinion.pdf                                                    \n",
              "2 Miranda_Warren_Opinion.pdf                                                  \n",
              "3 New York Times v. U.S. - Per Curiam.pdf                                     \n",
              "4 Plessy v. Ferguson - Justice Brown opinion.pdf                              \n",
              "5 Regents of the Univ. of CA v Bakke - Plurality Opinion by Justice Powell.pdf\n",
              "6 Yick Wo v. California - Justice Matthews opinion.pdf                        \n",
              "  Types Tokens Sentences\n",
              "1 1151   4634   252     \n",
              "2 2818  16580   751     \n",
              "3  162    377    33     \n",
              "4 1195   5360   199     \n",
              "5 3802  23883  1506     \n",
              "6 1013   4003   103     "
            ],
            "text/latex": "A summary.corpus: 6 × 4\n\\begin{tabular}{r|llll}\n  & Text & Types & Tokens & Sentences\\\\\n  & <chr> & <int> & <int> & <int>\\\\\n\\hline\n\t1 & Brown\\_Warren\\_Opinion.pdf                                                     & 1151 &  4634 &  252\\\\\n\t2 & Miranda\\_Warren\\_Opinion.pdf                                                   & 2818 & 16580 &  751\\\\\n\t3 & New York Times v. U.S. - Per Curiam.pdf                                      &  162 &   377 &   33\\\\\n\t4 & Plessy v. Ferguson - Justice Brown opinion.pdf                               & 1195 &  5360 &  199\\\\\n\t5 & Regents of the Univ. of CA v Bakke - Plurality Opinion by Justice Powell.pdf & 3802 & 23883 & 1506\\\\\n\t6 & Yick Wo v. California - Justice Matthews opinion.pdf                         & 1013 &  4003 &  103\\\\\n\\end{tabular}\n",
            "text/markdown": "\nA summary.corpus: 6 × 4\n\n| <!--/--> | Text &lt;chr&gt; | Types &lt;int&gt; | Tokens &lt;int&gt; | Sentences &lt;int&gt; |\n|---|---|---|---|---|\n| 1 | Brown_Warren_Opinion.pdf                                                     | 1151 |  4634 |  252 |\n| 2 | Miranda_Warren_Opinion.pdf                                                   | 2818 | 16580 |  751 |\n| 3 | New York Times v. U.S. - Per Curiam.pdf                                      |  162 |   377 |   33 |\n| 4 | Plessy v. Ferguson - Justice Brown opinion.pdf                               | 1195 |  5360 |  199 |\n| 5 | Regents of the Univ. of CA v Bakke - Plurality Opinion by Justice Powell.pdf | 3802 | 23883 | 1506 |\n| 6 | Yick Wo v. California - Justice Matthews opinion.pdf                         | 1013 |  4003 |  103 |\n\n",
            "text/html": [
              "<table>\n",
              "<caption>A summary.corpus: 6 × 4</caption>\n",
              "<thead>\n",
              "\t<tr><th></th><th scope=col>Text</th><th scope=col>Types</th><th scope=col>Tokens</th><th scope=col>Sentences</th></tr>\n",
              "\t<tr><th></th><th scope=col>&lt;chr&gt;</th><th scope=col>&lt;int&gt;</th><th scope=col>&lt;int&gt;</th><th scope=col>&lt;int&gt;</th></tr>\n",
              "</thead>\n",
              "<tbody>\n",
              "\t<tr><th scope=row>1</th><td>Brown_Warren_Opinion.pdf                                                    </td><td>1151</td><td> 4634</td><td> 252</td></tr>\n",
              "\t<tr><th scope=row>2</th><td>Miranda_Warren_Opinion.pdf                                                  </td><td>2818</td><td>16580</td><td> 751</td></tr>\n",
              "\t<tr><th scope=row>3</th><td>New York Times v. U.S. - Per Curiam.pdf                                     </td><td> 162</td><td>  377</td><td>  33</td></tr>\n",
              "\t<tr><th scope=row>4</th><td>Plessy v. Ferguson - Justice Brown opinion.pdf                              </td><td>1195</td><td> 5360</td><td> 199</td></tr>\n",
              "\t<tr><th scope=row>5</th><td>Regents of the Univ. of CA v Bakke - Plurality Opinion by Justice Powell.pdf</td><td>3802</td><td>23883</td><td>1506</td></tr>\n",
              "\t<tr><th scope=row>6</th><td>Yick Wo v. California - Justice Matthews opinion.pdf                        </td><td>1013</td><td> 4003</td><td> 103</td></tr>\n",
              "</tbody>\n",
              "</table>\n"
            ]
          },
          "metadata": {
            "tags": []
          }
        }
      ]
    },
    {
      "cell_type": "markdown",
      "metadata": {
        "id": "c5rU_wrQcBkE",
        "colab_type": "text"
      },
      "source": [
        "#3. Preprocess the JSON and PDFs:\n",
        "  - Remove all punctuation\n",
        "  - Add at least 10 more unique stopwords for each corpus and remove stopwords. \n",
        "  - Stem words."
      ]
    },
    {
      "cell_type": "markdown",
      "metadata": {
        "id": "DfOwnrv0lfhM",
        "colab_type": "text"
      },
      "source": [
        "#### 3.1. PDF Pre-Processing:"
      ]
    },
    {
      "cell_type": "code",
      "metadata": {
        "id": "927EuffMK2VH",
        "colab_type": "code",
        "outputId": "6913df67-772d-4e93-81d5-e947d4c74690",
        "colab": {
          "base_uri": "https://localhost:8080/",
          "height": 437
        }
      },
      "source": [
        "# generate dfm w/o any pre-processing \n",
        "music_dfm = dfm(music_corpus, tolower = FALSE, remove_punct = FALSE, stem = FALSE)\n",
        "\n",
        "# inspect overall feature frequency\n",
        "textstat_frequency(music_dfm) %>%\n",
        "  ggplot(aes(x = rank, y = frequency)) +\n",
        "  geom_point() +\n",
        "  scale_x_log10(breaks = trans_breaks(\"log10\", function(x) 10^x),\n",
        "  labels = trans_format(\"log10\", math_format(10^.x))) +\n",
        "  scale_y_log10(breaks = trans_breaks(\"log10\", function(x) 10^x),\n",
        "  labels = trans_format(\"log10\", math_format(10^.x))) +  \n",
        "  labs(x = \"Frequency rank\", y = \"Term frequency\") +\n",
        "  ggtitle('PDF Term Frequency (after pre-processing)')"
      ],
      "execution_count": 0,
      "outputs": [
        {
          "output_type": "display_data",
          "data": {
            "image/png": "[encoded data removed]",
            "text/plain": [
              "plot without title"
            ]
          },
          "metadata": {
            "tags": [],
            "image/png": {
              "width": 420,
              "height": 420
            },
            "text/plain": {
              "width": 420,
              "height": 420
            }
          }
        }
      ]
    },
    {
      "cell_type": "code",
      "metadata": {
        "id": "YM9zHETM86fr",
        "colab_type": "code",
        "outputId": "7b8c47f4-ad5e-4081-862b-3d07d95f504d",
        "colab": {
          "base_uri": "https://localhost:8080/",
          "height": 437
        }
      },
      "source": [
        "# music pre-processing:\n",
        "\n",
        "\n",
        "# preform 'lower', 'stopwords', 'punct' and 'stem' steps\n",
        "music_dfm = dfm(music_corpus, tolower = TRUE, remove = stopwords('english'), remove_punct = TRUE, stem = TRUE)\n",
        "\n",
        "# calculate tf–idf for music\n",
        "# the higher the numerical weight value, the rarer the term. \n",
        "# the smaller the weight, the more common the term.\n",
        "music_dfm_tfidf <- dfm_tfidf(music_dfm, scheme_tf = \"prop\", scheme_df = \"inverse\", base = 10, force = FALSE)\n",
        "\n",
        "# find features that have a tf-idf of 0 for all docs and make list\n",
        "  # code disabled, as it returns 0\n",
        "# music_stop_words <- colnames(music_dfm_tfidf[, which(colSums(music_dfm_tfidf)==0)])\n",
        "\n",
        "# find features that have a token-count of <=12 and make list \n",
        "music_stop_words <- colnames(music_dfm[, which(colSums(music_dfm)<=12)])\n",
        "\n",
        "# make new stopwords list\n",
        "new_stopwords = c(stopwords('english'), music_stop_words)\n",
        "\n",
        "# re-generate dfm along with new stopwords\n",
        "music_dfm = dfm(music_corpus, tolower = TRUE, remove = new_stopwords, remove_punct = TRUE, stem = TRUE)\n",
        "\n",
        "# after pre-processing\n",
        "textstat_frequency(music_dfm) %>%\n",
        "  ggplot(aes(x = rank, y = frequency)) +\n",
        "  geom_point() +\n",
        "  scale_x_log10(breaks = trans_breaks(\"log10\", function(x) 10^x),\n",
        "  labels = trans_format(\"log10\", math_format(10^.x))) +\n",
        "  scale_y_log10(breaks = trans_breaks(\"log10\", function(x) 10^x),\n",
        "  labels = trans_format(\"log10\", math_format(10^.x))) +  \n",
        "  labs(x = \"Frequency rank\", y = \"Term frequency\") +\n",
        "  ggtitle('PDF Term Frequency (after pre-processing)')"
      ],
      "execution_count": 0,
      "outputs": [
        {
          "output_type": "display_data",
          "data": {
            "image/png": "[encoded data removed]",
            "text/plain": [
              "plot without title"
            ]
          },
          "metadata": {
            "tags": [],
            "image/png": {
              "width": 420,
              "height": 420
            },
            "text/plain": {
              "width": 420,
              "height": 420
            }
          }
        }
      ]
    },
    {
      "cell_type": "markdown",
      "metadata": {
        "id": "7FUKCwrFlTDm",
        "colab_type": "text"
      },
      "source": [
        "#### 3.2. PDF Pre-Processing:"
      ]
    },
    {
      "cell_type": "code",
      "metadata": {
        "id": "zbmbhtKSMxi3",
        "colab_type": "code",
        "outputId": "380c6c80-4774-49fc-e95b-dbe40c8d4827",
        "colab": {
          "base_uri": "https://localhost:8080/",
          "height": 437
        }
      },
      "source": [
        "# generate dfm w/o any pre-processing \n",
        "court_dfm = dfm(court_corpus, tolower = FALSE, remove_punct = FALSE, stem = FALSE)\n",
        "\n",
        "# inspect overall feature frequency\n",
        "textstat_frequency(court_dfm) %>%\n",
        "  ggplot(aes(x = rank, y = frequency)) +\n",
        "  geom_point() +\n",
        "  scale_x_log10(breaks = trans_breaks(\"log10\", function(x) 10^x),\n",
        "  labels = trans_format(\"log10\", math_format(10^.x))) +\n",
        "  scale_y_log10(breaks = trans_breaks(\"log10\", function(x) 10^x),\n",
        "  labels = trans_format(\"log10\", math_format(10^.x))) +  \n",
        "  labs(x = \"Frequency rank\", y = \"Term frequency\") +\n",
        "  ggtitle('PDF Term Frequency (after pre-processing)')"
      ],
      "execution_count": 0,
      "outputs": [
        {
          "output_type": "display_data",
          "data": {
            "image/png": "[encoded data removed]",
            "text/plain": [
              "plot without title"
            ]
          },
          "metadata": {
            "tags": [],
            "image/png": {
              "width": 420,
              "height": 420
            },
            "text/plain": {
              "width": 420,
              "height": 420
            }
          }
        }
      ]
    },
    {
      "cell_type": "code",
      "metadata": {
        "id": "pOiAYMmD46_T",
        "colab_type": "code",
        "outputId": "e8575bea-6e97-44c2-efa0-756b35c1925f",
        "colab": {
          "base_uri": "https://localhost:8080/",
          "height": 525
        }
      },
      "source": [
        "# PDF pre-processing: \n",
        "\n",
        "\n",
        "# preform 'lower', 'stopwords', 'punct' and 'stem' steps\n",
        "court_dfm = dfm(court_corpus, tolower = TRUE, remove = stopwords('english'), remove_punct = TRUE, stem = TRUE)\n",
        "\n",
        "# calculate tf–idf for features\n",
        "  # the higher the numerical weight value, the rarer the term. \n",
        "  # the smaller the weight, the more common the term.\n",
        "court_dfm_tfidf <- dfm_tfidf(court_dfm, scheme_tf = \"prop\", scheme_df = \"inverse\", base = 10, force = TRUE)\n",
        "\n",
        "# find features that have a tf-idf of 0 for all docs and make list\n",
        "court_stop_words <- colnames(court_dfm_tfidf[, which(colSums(court_dfm_tfidf)==0)])\n",
        "\n",
        "# inspect\n",
        "print('stopwords I found, and added to stopwords(english)')\n",
        "print(court_stop_words)\n",
        "\n",
        "# combine new stopwords with quanteda's stopwords\n",
        "new_stopwords = c(stopwords('english'), court_stop_words)\n",
        "\n",
        "# re-run dfm with new, combined, stopwords (and other pre-processing steps)\n",
        "court_dfm = dfm(court_corpus, tolower = TRUE, remove = new_stopwords, remove_punct = TRUE, stem = TRUE)\n",
        "\n",
        "# after pre-processing\n",
        "textstat_frequency(court_dfm) %>%\n",
        "  ggplot(aes(x = rank, y = frequency)) +\n",
        "  geom_point() +\n",
        "  scale_x_log10(breaks = trans_breaks(\"log10\", function(x) 10^x),\n",
        "  labels = trans_format(\"log10\", math_format(10^.x))) +\n",
        "  scale_y_log10(breaks = trans_breaks(\"log10\", function(x) 10^x),\n",
        "  labels = trans_format(\"log10\", math_format(10^.x))) +  \n",
        "  labs(x = \"Frequency rank\", y = \"Term frequency\") +\n",
        "  ggtitle('PDF Term Frequency (after pre-processing)')"
      ],
      "execution_count": 0,
      "outputs": [
        {
          "output_type": "stream",
          "text": [
            "[1] \"stopwords I found, and added to stopwords(english)\"\n",
            " [1] \"v\"         \"opinion\"   \"court\"     \"case\"      \"state\"     \"order\"    \n",
            " [7] \"unit\"      \"valid\"     \"held\"      \"direct\"    \"therefor\"  \"govern\"   \n",
            "[13] \"may\"       \"also\"      \"process\"   \"constitut\" \"appeal\"    \"s\"        \n",
            "[19] \"judgment\"  \"new\"       \"see\"       \"shall\"    \n"
          ],
          "name": "stdout"
        },
        {
          "output_type": "display_data",
          "data": {
            "image/png": "[encoded data removed]",
            "text/plain": [
              "plot without title"
            ]
          },
          "metadata": {
            "tags": [],
            "image/png": {
              "width": 420,
              "height": 420
            },
            "text/plain": {
              "width": 420,
              "height": 420
            }
          }
        }
      ]
    },
    {
      "cell_type": "markdown",
      "metadata": {
        "id": "hj8Qb7s3hhIR",
        "colab_type": "text"
      },
      "source": [
        "# 4. How many unique tokens were there in the unprocessed corpuses? How many are in the processed corpuses?"
      ]
    },
    {
      "cell_type": "markdown",
      "metadata": {
        "id": "zPL4U3uVByJb",
        "colab_type": "text"
      },
      "source": [
        "#### 4.1. Music Token Count:"
      ]
    },
    {
      "cell_type": "code",
      "metadata": {
        "id": "Rh0gzkhr-M-E",
        "colab_type": "code",
        "outputId": "98eb1c1d-2268-4764-a2f6-88707bec3a39",
        "colab": {
          "base_uri": "https://localhost:8080/",
          "height": 105
        }
      },
      "source": [
        "# count of unique tokens before preprocessing\n",
        "print('unprocessed:')\n",
        "print(sum(ntype(music_corpus)))\n",
        "print('------------')\n",
        "\n",
        "# count of unique toekens after preprocessing\n",
        "print('processed:')\n",
        "print(sum(ntype(music_dfm)))"
      ],
      "execution_count": 0,
      "outputs": [
        {
          "output_type": "stream",
          "text": [
            "[1] \"unprocessed:\"\n",
            "[1] 668358\n",
            "[1] \"------------\"\n",
            "[1] \"processed:\"\n",
            "[1] 354757\n"
          ],
          "name": "stdout"
        }
      ]
    },
    {
      "cell_type": "markdown",
      "metadata": {
        "id": "ntKBr8D3By0w",
        "colab_type": "text"
      },
      "source": [
        "#### 4.2. PDF Token Count:"
      ]
    },
    {
      "cell_type": "code",
      "metadata": {
        "id": "VWXeoeFd-M60",
        "colab_type": "code",
        "outputId": "0d70a6b5-c696-4602-f1b4-a22784658f6e",
        "colab": {
          "base_uri": "https://localhost:8080/",
          "height": 105
        }
      },
      "source": [
        "# count of unique tokens before preprocessing\n",
        "print('unprocessed:')\n",
        "print(sum(ntype(court_corpus)))\n",
        "print('------------')\n",
        "\n",
        "# count of unique toekens after preprocessing\n",
        "print('processed:')\n",
        "print(sum(ntype(court_dfm)))"
      ],
      "execution_count": 0,
      "outputs": [
        {
          "output_type": "stream",
          "text": [
            "[1] \"unprocessed:\"\n",
            "[1] 10141\n",
            "[1] \"------------\"\n",
            "[1] \"processed:\"\n",
            "[1] 7002\n"
          ],
          "name": "stdout"
        }
      ]
    },
    {
      "cell_type": "markdown",
      "metadata": {
        "id": "sh3d5AfPIIHL",
        "colab_type": "text"
      },
      "source": [
        "# 5. How did stemming work on the Supreme Court corpus?"
      ]
    },
    {
      "cell_type": "code",
      "metadata": {
        "id": "VQeUgh_uILll",
        "colab_type": "code",
        "outputId": "5d068685-0858-46ca-9d12-b695aade3364",
        "colab": {
          "base_uri": "https://localhost:8080/",
          "height": 105
        }
      },
      "source": [
        "# no preprocesing\n",
        "print('unprocessed:')\n",
        "print(sum(ntype(court_corpus)))\n",
        "print('------------')\n",
        "\n",
        "# just processing stemming\n",
        "print('processed:') \n",
        "court_dfm_stem = dfm(court_corpus, tolower = FALSE, remove_punct = FALSE, stem = TRUE)\n",
        "\n",
        "print(sum(ntype(court_dfm_stem)))"
      ],
      "execution_count": 0,
      "outputs": [
        {
          "output_type": "stream",
          "text": [
            "[1] \"unprocessed:\"\n",
            "[1] 10141\n",
            "[1] \"------------\"\n",
            "[1] \"processed:\"\n",
            "[1] 8275\n"
          ],
          "name": "stdout"
        }
      ]
    },
    {
      "cell_type": "markdown",
      "metadata": {
        "id": "HJDjMArSK3pK",
        "colab_type": "text"
      },
      "source": [
        "# PART 2 \n",
        "---\n"
      ]
    },
    {
      "cell_type": "markdown",
      "metadata": {
        "id": "A5Nn8HVPb5Td",
        "colab_type": "text"
      },
      "source": [
        "I think I'd like to build a web app. \n",
        "\n",
        "I'm not sure if that would be in rShiny, or perhaps in python with Dash github circleCI, Gemfury, Heroku, Flask, Docker AWS?\n",
        "\n",
        "As mentioned previously in my Assignment_1, I took a course focusing on the deployment of machine learning models (using the above python-related tools) and I would like to build on what I learned in that course. I also have a background in SpaCy. \n",
        "\n",
        "Perhaps, and this is a big perhaps here, but as previously mentioned in my Assignment_1, I am interested in sentiment analysis, maybe I could expand on my previous harry potter project:\n",
        "https://github.com/cbroker1/cbroker1.github.io\n",
        "\n",
        "leapfrog this one:\n",
        "https://towardsdatascience.com/basic-nlp-on-the-texts-of-harry-potter-sentiment-analysis-1b474b13651d\n",
        "\n",
        "and expand into generating an 'optimal sentiment progression' model for the top 10 (or 100) grossing book series of all time. \n",
        "\n",
        "The idea would be to generate a model of what a successful series/book looks like in terms of sentiment and allow for users to compare a book of thier choice to the model. \n",
        "\n",
        "\n",
        "\n",
        "\n",
        "\n",
        "\n",
        "Paper 1 - https://www.aaai.org/ocs/index.php/ICWSM/ICWSM14/paper/viewPaper/8109\n",
        "https://github.com/cjhutto/vaderSentiment\n",
        "\n",
        "Paper 2 - Sentiment Analysis on Movie Scripts and Reviews\n",
        "https://link.springer.com/chapter/10.1007/978-3-030-49161-1_36\n",
        "\n"
      ]
    },
    {
      "cell_type": "code",
      "metadata": {
        "id": "BCWJMcW6i6Ff",
        "colab_type": "code",
        "colab": {}
      },
      "source": [
        ""
      ],
      "execution_count": 0,
      "outputs": []
    }
  ]
}