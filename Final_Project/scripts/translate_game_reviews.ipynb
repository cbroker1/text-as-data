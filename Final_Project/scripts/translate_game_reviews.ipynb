{
 "cells": [
  {
   "cell_type": "code",
   "execution_count": null,
   "metadata": {},
   "outputs": [],
   "source": [
    "# import packages\n",
    "import os\n",
    "import sys\n",
    "import time\n",
    "import json\n",
    "import numpy as np\n",
    "import urllib.parse\n",
    "import urllib.request\n",
    "from tqdm import tqdm\n",
    "import plotly.express as px\n",
    "from datetime import datetime\n",
    "from googletrans import Translator\n",
    "\n",
    "\n",
    "import pandas as pd\n",
    "from pandas import json_normalize\n",
    "\n",
    "\n",
    "# list package ver. etc.\n",
    "print(\"Python version\")\n",
    "print (sys.version)\n",
    "print(\"Version info.\")\n",
    "print (sys.version_info)\n",
    "print('---------------')"
   ]
  },
  {
   "cell_type": "code",
   "execution_count": null,
   "metadata": {},
   "outputs": [],
   "source": [
    "# translate/spellcheck via googletranslate pkg\n",
    "\n",
    "\n",
    "# pass 'review' col as str\n",
    "df_steam_reviews['review'] = df_steam_reviews['review'].astype(str)\n",
    "\n",
    "# instantiate tqdm instance\n",
    "tqdm.pandas()\n",
    "\n",
    "def time_to_translate(x):\n",
    "    time.sleep(1)\n",
    "    if x == None: # ignore the 'NaN' reviews\n",
    "        return 'NaN'\n",
    "    else:\n",
    "        translator = Translator()\n",
    "        text = getattr(translator.translate(x), 'text')\n",
    "        return text\n",
    "    \n",
    "# make empty 'review.translated' col\n",
    "df_steam_reviews['review.translated'] = None\n",
    "\n",
    "# split df_steam_reviews into 10000 pieces\n",
    "# I had to `np.array_split()` my df because google translate's api kept crashing randomly\n",
    "# and I couldn't keep starting over and over and over for a \"perfect\" notebook. \n",
    "df_steam_reviews = np.array_split(df_steam_reviews, 10000)"
   ]
  },
  {
   "cell_type": "code",
   "execution_count": null,
   "metadata": {},
   "outputs": [],
   "source": [
    "a = pd.read_csv('a_temp.csv', low_memory=False)"
   ]
  },
  {
   "cell_type": "code",
   "execution_count": null,
   "metadata": {},
   "outputs": [],
   "source": [
    "for item in range(8001,9999):\n",
    "    b = df_steam_reviews[item]\n",
    "    b['review.translated'] = b['review'].progress_apply(time_to_translate)\n",
    "    frames = [a, b]\n",
    "    a = pd.concat(frames)"
   ]
  },
  {
   "cell_type": "code",
   "execution_count": null,
   "metadata": {},
   "outputs": [],
   "source": [
    "a.to_csv('a_temp.csv', index=False)"
   ]
  }
 ],
 "metadata": {
  "kernelspec": {
   "display_name": "text-as-data",
   "language": "python",
   "name": "text-as-dada"
  },
  "language_info": {
   "codemirror_mode": {
    "name": "ipython",
    "version": 3
   },
   "file_extension": ".py",
   "mimetype": "text/x-python",
   "name": "python",
   "nbconvert_exporter": "python",
   "pygments_lexer": "ipython3",
   "version": "3.8.3"
  }
 },
 "nbformat": 4,
 "nbformat_minor": 4
}
