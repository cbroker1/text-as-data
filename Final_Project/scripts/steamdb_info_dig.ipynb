{
 "cells": [
  {
   "cell_type": "markdown",
   "metadata": {},
   "source": [
    "![Rating-Formula](https://steamdb.info/static/img/blog/84/formula.png)"
   ]
  },
  {
   "cell_type": "markdown",
   "metadata": {},
   "source": [
    "Source: https://steamdb.info/blog/steamdb-rating/"
   ]
  },
  {
   "cell_type": "markdown",
   "metadata": {},
   "source": [
    "Key: 76C6A08C15CD7A1853EBA9FB0629AFAF\n",
    "\n",
    "Domain Name: carlbroker@gmail.com"
   ]
  },
  {
   "cell_type": "code",
   "execution_count": null,
   "metadata": {},
   "outputs": [],
   "source": [
    "SubPackages\n",
    "\n",
    "Packages that include this depot 393380\n",
    "SUBID\tNAME\tBILLING TYPE\tLAST UPDATED\n",
    "17906\tAnonymous Dedicated Server Comp\tNo Cost\tabout 10 hours ago\n",
    "78726\tSquad\tStore or CD Key\tabout a month ago\n",
    "101250\tSquad + Soundtrack Bundle\tStore or CD Key\tabout a month ago\n",
    "454721\tSteam Sub 454721\tFree on Demand\t2 months ago\n",
    "409902\tSquad Free Weekend - Nov 2019\tFree on Demand\t8 months ago\n",
    "191904\tSquad\tCD Key\t11 months ago\n",
    "78724\tSquad Developer Comp\tCD Key\t11 months ago\n",
    "78725\tSquad for Beta Testing\tCD Key\t11 months ago\n",
    "89393\tSquad China\tCD Key\t11 months ago\n",
    "137090\tSquad Free Weekend - Nov 2016\tFree on Demand\t11 months ago\n",
    "167131\tSquad Free Weekend - Apr 2017\tFree on Demand\t11 months ago\n",
    "220356\tSquad Free Weekend - Nov 2017\tFree on Demand\t11 months ago\n",
    "274472\tSquad ( 393380 ) - complimentary reviewer package\tNo Cost\t11 months ago\n",
    "275467\tSquad Free Weekend - Jun 2018\tFree on Demand\t11 months ago\n",
    "278730\tSquad + Soundtrack Bundle RU\tCD Key\t11 months ago\n",
    "278731\tSquad RU\tCD Key\t11 months ago\n",
    "317665\tSquad (TR)\tCD Key\t11 months ago\n",
    "322361\tSquad Free Weekend - Nov 2018\tFree on Demand\t11 months ago\n",
    "322650\tSquad + Soundtrack Bundle (TR)\tCD Key\t11 months ago\n",
    "324838\tSquad + Soundtrack Bundle (LATAM)\tCD Key\t11 months ago\n",
    "324839\tSquad (LATAM)\tCD Key\t11 months ago\n",
    "384183\tSquad Free Weekend - Jul 2019\tFree on Demand\t11 months ago\n",
    "Source: https://steamdb.info/depot/393380/"
   ]
  }
 ],
 "metadata": {
  "kernelspec": {
   "display_name": "text-as-data",
   "language": "python",
   "name": "text-as-dada"
  },
  "language_info": {
   "codemirror_mode": {
    "name": "ipython",
    "version": 3
   },
   "file_extension": ".py",
   "mimetype": "text/x-python",
   "name": "python",
   "nbconvert_exporter": "python",
   "pygments_lexer": "ipython3",
   "version": "3.8.3"
  }
 },
 "nbformat": 4,
 "nbformat_minor": 4
}
