{
  "nbformat": 4,
  "nbformat_minor": 0,
  "metadata": {
    "colab": {
      "name": "TAD_Week_1_Broker_Carl",
      "provenance": [],
      "collapsed_sections": [],
      "include_colab_link": true
    },
    "kernelspec": {
      "name": "ir",
      "display_name": "R"
    }
  },
  "cells": [
    {
      "cell_type": "markdown",
      "metadata": {
        "id": "view-in-github",
        "colab_type": "text"
      },
      "source": [
        "<a href=\"https://colab.research.google.com/github/cbroker1/text-as-data/blob/master/TAD_Week_1.ipynb\" target=\"_parent\"><img src=\"https://colab.research.google.com/assets/colab-badge.svg\" alt=\"Open In Colab\"/></a>"
      ]
    },
    {
      "cell_type": "markdown",
      "metadata": {
        "id": "acdfY6aJqUG2",
        "colab_type": "text"
      },
      "source": [
        "**TAD_Week_1_Assignment_Broker_Carl**:\n",
        "---\n"
      ]
    },
    {
      "cell_type": "markdown",
      "metadata": {
        "id": "QoySlE492yYA",
        "colab_type": "text"
      },
      "source": [
        "##1. Install Quanteda and readtext.\n"
      ]
    },
    {
      "cell_type": "code",
      "metadata": {
        "id": "rEM0_kKl1Ljm",
        "colab_type": "code",
        "colab": {}
      },
      "source": [
        "# Colab notebooks run on special Google flavor of Linux. Some R packages\n",
        "# require special OS packages to be installed.\n",
        "system(\"apt-get install libpoppler-cpp-dev\")"
      ],
      "execution_count": 0,
      "outputs": []
    },
    {
      "cell_type": "code",
      "metadata": {
        "id": "eYEgCpOnaCXr",
        "colab_type": "code",
        "outputId": "8959d5a9-1429-49e7-93d7-d367920db7b2",
        "colab": {
          "base_uri": "https://localhost:8080/",
          "height": 245
        }
      },
      "source": [
        "install.packages('quanteda')\n",
        "install.packages('readtext')"
      ],
      "execution_count": 0,
      "outputs": [
        {
          "output_type": "stream",
          "text": [
            "Installing package into ‘/usr/local/lib/R/site-library’\n",
            "(as ‘lib’ is unspecified)\n",
            "\n",
            "also installing the dependencies ‘coda’, ‘extrafontdb’, ‘Rttf2pt1’, ‘statnet.common’, ‘ISOcodes’, ‘data.table’, ‘extrafont’, ‘fastmatch’, ‘ggrepel’, ‘network’, ‘RcppParallel’, ‘sna’, ‘SnowballC’, ‘stopwords’, ‘proxyC’, ‘RcppArmadillo’\n",
            "\n",
            "\n",
            "Installing package into ‘/usr/local/lib/R/site-library’\n",
            "(as ‘lib’ is unspecified)\n",
            "\n",
            "also installing the dependencies ‘bitops’, ‘qpdf’, ‘RCurl’, ‘rjson’, ‘ndjson’, ‘antiword’, ‘pdftools’, ‘readODS’, ‘streamR’, ‘striprtf’\n",
            "\n",
            "\n"
          ],
          "name": "stderr"
        }
      ]
    },
    {
      "cell_type": "code",
      "metadata": {
        "id": "HTZff1dxZ_DV",
        "colab_type": "code",
        "outputId": "e14ff41a-53cb-4c8d-a982-f648c9415916",
        "colab": {
          "base_uri": "https://localhost:8080/",
          "height": 364
        }
      },
      "source": [
        "# Load packages\n",
        "library(quanteda)\n",
        "library(readtext)"
      ],
      "execution_count": 0,
      "outputs": [
        {
          "output_type": "stream",
          "text": [
            "Package version: 2.0.1\n",
            "\n",
            "Parallel computing: 2 of 2 threads used.\n",
            "\n",
            "See https://quanteda.io for tutorials and examples.\n",
            "\n",
            "\n",
            "Attaching package: ‘quanteda’\n",
            "\n",
            "\n",
            "The following object is masked from ‘jupyter:irkernel’:\n",
            "\n",
            "    View\n",
            "\n",
            "\n",
            "The following object is masked from ‘package:utils’:\n",
            "\n",
            "    View\n",
            "\n",
            "\n"
          ],
          "name": "stderr"
        }
      ]
    },
    {
      "cell_type": "markdown",
      "metadata": {
        "id": "hzjkzbcbrUwu",
        "colab_type": "text"
      },
      "source": [
        "##2. Read in provided nuclear sentiment tweet data set. \n",
        "\n"
      ]
    },
    {
      "cell_type": "code",
      "metadata": {
        "id": "60cHeJEOrguV",
        "colab_type": "code",
        "colab": {}
      },
      "source": [
        "# Read in the CSV using readtext. Straight forward.\n",
        "nuclear_data = readtext('/content/sentiment_nuclear_power_1.csv', text_field = 'tweet_text')"
      ],
      "execution_count": 0,
      "outputs": []
    },
    {
      "cell_type": "markdown",
      "metadata": {
        "id": "OXpZBAjuCK3a",
        "colab_type": "text"
      },
      "source": [
        "## 3. Create a Quanteda corpus using the nuclear tweet data set.\n"
      ]
    },
    {
      "cell_type": "code",
      "metadata": {
        "id": "2JkCZX8mbelI",
        "colab_type": "code",
        "colab": {}
      },
      "source": [
        "# Generate corpus\n",
        "readtext_corpus = corpus(nuclear_data)\n",
        "\n",
        "# Let's look at the summary of our corpus.\n",
        "summary(readtext_corpus)"
      ],
      "execution_count": 0,
      "outputs": []
    },
    {
      "cell_type": "markdown",
      "metadata": {
        "id": "c5rU_wrQcBkE",
        "colab_type": "text"
      },
      "source": [
        "##4. Answer questions using Quanteda functions:"
      ]
    },
    {
      "cell_type": "markdown",
      "metadata": {
        "id": "OccGaR1WcO-E",
        "colab_type": "text"
      },
      "source": [
        ">##### a. How many tokens (words) are in the corpus?"
      ]
    },
    {
      "cell_type": "code",
      "metadata": {
        "id": "18A-jpDGeLJy",
        "colab_type": "code",
        "colab": {}
      },
      "source": [
        "#placeholder "
      ],
      "execution_count": 0,
      "outputs": []
    },
    {
      "cell_type": "markdown",
      "metadata": {
        "id": "V0aHI1E4cRel",
        "colab_type": "text"
      },
      "source": [
        ">##### b. How many tokens are in the fifth tweet?"
      ]
    },
    {
      "cell_type": "code",
      "metadata": {
        "id": "3Fe-qYDreNWI",
        "colab_type": "code",
        "colab": {}
      },
      "source": [
        "#placeholder "
      ],
      "execution_count": 0,
      "outputs": []
    },
    {
      "cell_type": "code",
      "metadata": {
        "id": "Hh9Rdb_DDUk5",
        "colab_type": "code",
        "outputId": "ef7ae2c2-b0ae-476a-bd3b-12558695b96e",
        "colab": {
          "base_uri": "https://localhost:8080/",
          "height": 131
        }
      },
      "source": [
        "# View 5th tweet\n",
        "texts(readtext_corpus)[5]"
      ],
      "execution_count": 0,
      "outputs": [
        {
          "output_type": "error",
          "ename": "ERROR",
          "evalue": "ignored",
          "traceback": [
            "Error in texts(readtext_corpus): object 'readtext_corpus' not found\nTraceback:\n",
            "1. texts(readtext_corpus)"
          ]
        }
      ]
    },
    {
      "cell_type": "code",
      "metadata": {
        "id": "5Ba8ow5cEyYc",
        "colab_type": "code",
        "outputId": "c947b600-7130-47e1-81ce-ffb666520014",
        "colab": {
          "base_uri": "https://localhost:8080/",
          "height": 99
        }
      },
      "source": [
        "# Check out the metadata for a specific document\n",
        "summary(readtext_corpus[5])"
      ],
      "execution_count": 0,
      "outputs": [
        {
          "output_type": "display_data",
          "data": {
            "text/plain": [
              "  Text                            Types Tokens Sentences\n",
              "1 sentiment_nuclear_power_1.csv.5 26    32     1        \n",
              "  sentiment                                   \n",
              "1 Neutral / author is just sharing information\n",
              "  sentiment_confidence_summary                           \n",
              "1 \"\"Neutral / author is just sharing information\"\": 1.0\\n"
            ],
            "text/latex": "A summary.corpus: 1 × 6\n\\begin{tabular}{r|llllll}\n  & Text & Types & Tokens & Sentences & sentiment & sentiment\\_confidence\\_summary\\\\\n  & <chr> & <int> & <int> & <int> & <chr> & <chr>\\\\\n\\hline\n\t1 & sentiment\\_nuclear\\_power\\_1.csv.5 & 26 & 32 & 1 & Neutral / author is just sharing information & \"\"Neutral / author is just sharing information\"\": 1.0\n\\\\\n\\end{tabular}\n",
            "text/markdown": "\nA summary.corpus: 1 × 6\n\n| <!--/--> | Text &lt;chr&gt; | Types &lt;int&gt; | Tokens &lt;int&gt; | Sentences &lt;int&gt; | sentiment &lt;chr&gt; | sentiment_confidence_summary &lt;chr&gt; |\n|---|---|---|---|---|---|---|\n| 1 | sentiment_nuclear_power_1.csv.5 | 26 | 32 | 1 | Neutral / author is just sharing information | \"\"Neutral / author is just sharing information\"\": 1.0\n |\n\n",
            "text/html": [
              "<table>\n",
              "<caption>A summary.corpus: 1 × 6</caption>\n",
              "<thead>\n",
              "\t<tr><th></th><th scope=col>Text</th><th scope=col>Types</th><th scope=col>Tokens</th><th scope=col>Sentences</th><th scope=col>sentiment</th><th scope=col>sentiment_confidence_summary</th></tr>\n",
              "\t<tr><th></th><th scope=col>&lt;chr&gt;</th><th scope=col>&lt;int&gt;</th><th scope=col>&lt;int&gt;</th><th scope=col>&lt;int&gt;</th><th scope=col>&lt;chr&gt;</th><th scope=col>&lt;chr&gt;</th></tr>\n",
              "</thead>\n",
              "<tbody>\n",
              "\t<tr><th scope=row>1</th><td>sentiment_nuclear_power_1.csv.5</td><td>26</td><td>32</td><td>1</td><td>Neutral / author is just sharing information</td><td>\"\"Neutral / author is just sharing information\"\": 1.0\n",
              "</td></tr>\n",
              "</tbody>\n",
              "</table>\n"
            ]
          },
          "metadata": {
            "tags": []
          }
        }
      ]
    },
    {
      "cell_type": "markdown",
      "metadata": {
        "id": "HjbCImtZed6I",
        "colab_type": "text"
      },
      "source": [
        "##5. Create a WordCloud from the data set.\n"
      ]
    },
    {
      "cell_type": "markdown",
      "metadata": {
        "id": "Va1bOWG3ed3X",
        "colab_type": "text"
      },
      "source": [
        ">##### a. What is a seed used for in Quanteda? What is a seed used for in R programming language? (Write up)"
      ]
    },
    {
      "cell_type": "markdown",
      "metadata": {
        "id": "gc48AZ36ed0y",
        "colab_type": "text"
      },
      "source": [
        ">##### b. Generate two word clouds using the seeds 42 and 40."
      ]
    },
    {
      "cell_type": "code",
      "metadata": {
        "id": "gfxpKXY4gDxU",
        "colab_type": "code",
        "colab": {}
      },
      "source": [
        "#placeholder"
      ],
      "execution_count": 0,
      "outputs": []
    },
    {
      "cell_type": "markdown",
      "metadata": {
        "id": "cEY9KecyfQRs",
        "colab_type": "text"
      },
      "source": [
        ">##### c. Create a word cloud of tweets that have positive sentiment."
      ]
    },
    {
      "cell_type": "code",
      "metadata": {
        "id": "wvYgVEy3gL7C",
        "colab_type": "code",
        "colab": {}
      },
      "source": [
        "#placeholder"
      ],
      "execution_count": 0,
      "outputs": []
    },
    {
      "cell_type": "markdown",
      "metadata": {
        "id": "6kw9PsUvedx-",
        "colab_type": "text"
      },
      "source": [
        "## 6. Find the top 25 most frequent words in the corpus."
      ]
    },
    {
      "cell_type": "code",
      "metadata": {
        "id": "h8_biJaRgpr3",
        "colab_type": "code",
        "colab": {}
      },
      "source": [
        "#placeholder"
      ],
      "execution_count": 0,
      "outputs": []
    }
  ]
}