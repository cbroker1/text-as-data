{
  "nbformat": 4,
  "nbformat_minor": 0,
  "metadata": {
    "colab": {
      "name": "TAD_Week_1",
      "provenance": [],
      "include_colab_link": true
    },
    "kernelspec": {
      "name": "ir",
      "display_name": "R"
    }
  },
  "cells": [
    {
      "cell_type": "markdown",
      "metadata": {
        "id": "view-in-github",
        "colab_type": "text"
      },
      "source": [
        "<a href=\"https://colab.research.google.com/github/cbroker1/text-as-data/blob/master/TAD_Week_1.ipynb\" target=\"_parent\"><img src=\"https://colab.research.google.com/assets/colab-badge.svg\" alt=\"Open In Colab\"/></a>"
      ]
    },
    {
      "cell_type": "markdown",
      "metadata": {
        "id": "acdfY6aJqUG2",
        "colab_type": "text"
      },
      "source": [
        "#Welcome to Text as Data (Summer 2020)!\n",
        "\n",
        "Below we will look at how to get set up with Quanteda. The process will be the very similar if you are using Google Colab, R Studio, or another development environment. There may be other packages or software you have to install depending on the OS you are using (Windows, OSX, Ubuntu, etc). Make sure to reach out immediately if you have problems. Sometimes setup issues are the hardest part of analysis! \n",
        "\n",
        "### Step 1.\n",
        "  Let's install Quanteda."
      ]
    },
    {
      "cell_type": "markdown",
      "metadata": {
        "id": "QoySlE492yYA",
        "colab_type": "text"
      },
      "source": [
        ""
      ]
    },
    {
      "cell_type": "code",
      "metadata": {
        "id": "rEM0_kKl1Ljm",
        "colab_type": "code",
        "colab": {}
      },
      "source": [
        "# This particular step is only applicable to Linux and Colab. \n",
        "# Colab notebooks run on special Google flavor of Linux. Some R packages\n",
        "# require special OS packages to be installed.\n",
        "system(\"apt-get install libpoppler-cpp-dev\")"
      ],
      "execution_count": 0,
      "outputs": []
    },
    {
      "cell_type": "code",
      "metadata": {
        "id": "eYEgCpOnaCXr",
        "colab_type": "code",
        "colab": {}
      },
      "source": [
        "install.packages('quanteda')\n",
        "install.packages('readtext')"
      ],
      "execution_count": 0,
      "outputs": []
    },
    {
      "cell_type": "markdown",
      "metadata": {
        "id": "hzjkzbcbrUwu",
        "colab_type": "text"
      },
      "source": [
        "### Step 2. Now that we have Quanteda installed we can read in some data.\n",
        "\n"
      ]
    },
    {
      "cell_type": "code",
      "metadata": {
        "id": "A0PveHuBaIf9",
        "colab_type": "code",
        "colab": {}
      },
      "source": [
        "library(quanteda)\n",
        "library(readtext)"
      ],
      "execution_count": 0,
      "outputs": []
    },
    {
      "cell_type": "code",
      "metadata": {
        "id": "60cHeJEOrguV",
        "colab_type": "code",
        "colab": {}
      },
      "source": [
        "# Read in the CSV using readtext. Straight forward.\n",
        "nuclear_data = readtext('/content/sentiment_nuclear_power (1).csv', text_field = 'tweet_text')\n",
        "readtext_corpus = corpus(nuclear_data)\n",
        "\n",
        "\n",
        "# Read in CSV using basic read.csv\n",
        "# We will need to update a few fields and set options. \n",
        "# See for additional info: https://quanteda.io/reference/corpus.html\n",
        "nuclear_data_csv = read.csv('/content/sentiment_nuclear_power (1).csv',\n",
        "                            header=TRUE, # We have headers so set to TRUE\n",
        "                            stringsAsFactors = FALSE) # Make sure text is retained as char\n",
        "# Quanteda requires some document name. In case of a CSV or similar format\n",
        "# we will assign integers as document IDs.\n",
        "nuclear_data_csv$doc_id = seq.int(nrow(nuclear_data_csv))\n",
        "# Create a corpus. Use 'text_field' to identify the right text column\n",
        "csv_corpus = corpus(nuclear_data_csv, text_field = 'tweet_text')\n"
      ],
      "execution_count": 0,
      "outputs": []
    },
    {
      "cell_type": "markdown",
      "metadata": {
        "id": "OXpZBAjuCK3a",
        "colab_type": "text"
      },
      "source": [
        "### Step 3. Review the corpus.\n"
      ]
    },
    {
      "cell_type": "code",
      "metadata": {
        "id": "q3yKlURT4jDN",
        "colab_type": "code",
        "colab": {}
      },
      "source": [
        "# Let's look at the summary of our corpus.\n",
        "# Pick either CSV or readtext.\n",
        "summary(readtext_corpus)"
      ],
      "execution_count": 0,
      "outputs": []
    },
    {
      "cell_type": "code",
      "metadata": {
        "id": "Hh9Rdb_DDUk5",
        "colab_type": "code",
        "outputId": "e7556b96-9430-4566-91e8-b9c7f6e5ff3b",
        "colab": {
          "base_uri": "https://localhost:8080/",
          "height": 34
        }
      },
      "source": [
        "# Find and view some text in our corpus\n",
        "texts(readtext_corpus)[2]"
      ],
      "execution_count": 0,
      "outputs": [
        {
          "output_type": "display_data",
          "data": {
            "text/plain": [
              "                                                             sentiment_nuclear_power (1).csv.2 \n",
              "\". Renewable Energy Consumption Tops Nuclear for FirstTime {link} is nuclear energy renewable\" "
            ],
            "text/latex": "\\textbf{sentiment\\textbackslash{}\\_nuclear\\textbackslash{}\\_power (1).csv.2:} '. Renewable Energy Consumption Tops Nuclear for FirstTime \\{link\\} is nuclear energy renewable'",
            "text/markdown": "**sentiment_nuclear_power (1).csv.2:** '. Renewable Energy Consumption Tops Nuclear for FirstTime {link} is nuclear energy renewable'",
            "text/html": [
              "<strong>sentiment_nuclear_power (1).csv.2:</strong> '. Renewable Energy Consumption Tops Nuclear for FirstTime {link} is nuclear energy renewable'"
            ]
          },
          "metadata": {
            "tags": []
          }
        }
      ]
    },
    {
      "cell_type": "code",
      "metadata": {
        "id": "5Ba8ow5cEyYc",
        "colab_type": "code",
        "outputId": "b3fe8050-dfc2-4849-fd93-2981fde255fb",
        "colab": {
          "base_uri": "https://localhost:8080/",
          "height": 95
        }
      },
      "source": [
        "# Check out the metadata for a specific document\n",
        "summary(readtext_corpus[5])"
      ],
      "execution_count": 0,
      "outputs": [
        {
          "output_type": "display_data",
          "data": {
            "text/plain": [
              "  Text                              Types Tokens Sentences\n",
              "1 sentiment_nuclear_power (1).csv.5 26    32     1        \n",
              "  sentiment                                   \n",
              "1 Neutral / author is just sharing information\n",
              "  sentiment_confidence_summary                           \n",
              "1 \"\"Neutral / author is just sharing information\"\": 1.0\\n"
            ],
            "text/latex": "A summary.corpus: 1 × 6\n\\begin{tabular}{r|llllll}\n  & Text & Types & Tokens & Sentences & sentiment & sentiment\\_confidence\\_summary\\\\\n  & <chr> & <int> & <int> & <int> & <chr> & <chr>\\\\\n\\hline\n\t1 & sentiment\\_nuclear\\_power (1).csv.5 & 26 & 32 & 1 & Neutral / author is just sharing information & \"\"Neutral / author is just sharing information\"\": 1.0\n\\\\\n\\end{tabular}\n",
            "text/markdown": "\nA summary.corpus: 1 × 6\n\n| <!--/--> | Text &lt;chr&gt; | Types &lt;int&gt; | Tokens &lt;int&gt; | Sentences &lt;int&gt; | sentiment &lt;chr&gt; | sentiment_confidence_summary &lt;chr&gt; |\n|---|---|---|---|---|---|---|\n| 1 | sentiment_nuclear_power (1).csv.5 | 26 | 32 | 1 | Neutral / author is just sharing information | \"\"Neutral / author is just sharing information\"\": 1.0\n |\n\n",
            "text/html": [
              "<table>\n",
              "<caption>A summary.corpus: 1 × 6</caption>\n",
              "<thead>\n",
              "\t<tr><th></th><th scope=col>Text</th><th scope=col>Types</th><th scope=col>Tokens</th><th scope=col>Sentences</th><th scope=col>sentiment</th><th scope=col>sentiment_confidence_summary</th></tr>\n",
              "\t<tr><th></th><th scope=col>&lt;chr&gt;</th><th scope=col>&lt;int&gt;</th><th scope=col>&lt;int&gt;</th><th scope=col>&lt;int&gt;</th><th scope=col>&lt;chr&gt;</th><th scope=col>&lt;chr&gt;</th></tr>\n",
              "</thead>\n",
              "<tbody>\n",
              "\t<tr><th scope=row>1</th><td>sentiment_nuclear_power (1).csv.5</td><td>26</td><td>32</td><td>1</td><td>Neutral / author is just sharing information</td><td>\"\"Neutral / author is just sharing information\"\": 1.0\n",
              "</td></tr>\n",
              "</tbody>\n",
              "</table>\n"
            ]
          },
          "metadata": {
            "tags": []
          }
        }
      ]
    },
    {
      "cell_type": "code",
      "metadata": {
        "id": "Mn7PGVQouxHP",
        "colab_type": "code",
        "outputId": "ac3dba93-ceb3-49f5-e902-96fa8a6dd672",
        "colab": {
          "base_uri": "https://localhost:8080/",
          "height": 353
        }
      },
      "source": [
        "# Look at only negative sentiment tweets.\n",
        "# Use corpus_subset to select only tweets with negative sentiment.\n",
        "corpus_subset(readtext_corpus, sentiment == 'Negative')"
      ],
      "execution_count": 0,
      "outputs": [
        {
          "output_type": "display_data",
          "data": {
            "text/plain": [
              "Corpus consisting of 19 documents and 2 docvars.\n",
              "sentiment_nuclear_power (1).csv.1 :\n",
              "\":Hello Japan is a nuclear power plant crisis. {link}\"\n",
              "\n",
              "sentiment_nuclear_power (1).csv.24 :\n",
              "\"{link} Would you rather have a few dozen wind turbines or a ...\"\n",
              "\n",
              "sentiment_nuclear_power (1).csv.36 :\n",
              "\"RT @mention @mention I want to stop the nuclear power plant ...\"\n",
              "\n",
              "sentiment_nuclear_power (1).csv.37 :\n",
              "\"@mention @mention Nuclear Energy is good until something hap...\"\n",
              "\n",
              "sentiment_nuclear_power (1).csv.38 :\n",
              "\"@mention @mention The only problem is that prosperity was bu...\"\n",
              "\n",
              "sentiment_nuclear_power (1).csv.40 :\n",
              "\"RT @mention @mention we gotta pioneer new technologies to he...\"\n",
              "\n",
              "[ reached max_ndoc ... 13 more documents ]"
            ],
            "text/latex": "\\begin{description*}\n\\item[sentiment\\textbackslash{}\\_nuclear\\textbackslash{}\\_power (1).csv.1] ':Hello Japan is a nuclear power plant crisis. \\{link\\}'\n\\item[sentiment\\textbackslash{}\\_nuclear\\textbackslash{}\\_power (1).csv.24] '\\{link\\} Would you rather have a few dozen wind turbines or a nuclear power plant near your home? . turbines power'\n\\item[sentiment\\textbackslash{}\\_nuclear\\textbackslash{}\\_power (1).csv.36] 'RT @mention @mention I want to stop the nuclear power plant all over the world now.So I shout it everyday;)So Thanks for your RT and heart.'\n\\item[sentiment\\textbackslash{}\\_nuclear\\textbackslash{}\\_power (1).csv.37] '@mention @mention Nuclear Energy is good until something happens. Is it really worth the Risk of Radiation at Extreme Levels! NO!'\n\\item[sentiment\\textbackslash{}\\_nuclear\\textbackslash{}\\_power (1).csv.38] '@mention @mention The only problem is that prosperity was built on nuclear energy and not renewables, so they are in trouble now'\n\\item[sentiment\\textbackslash{}\\_nuclear\\textbackslash{}\\_power (1).csv.40] 'RT @mention @mention we gotta pioneer new technologies to help us all endure the radiation, and shut down \\#nuclear energy plants for good! \\#Tesla'\n\\item[sentiment\\textbackslash{}\\_nuclear\\textbackslash{}\\_power (1).csv.52] 'RT @mention 15 years of French \\#nuclear \\#energy use has created so much waste that a *whole room* needs to be dedicated to storage \\{link\\}'\n\\item[sentiment\\textbackslash{}\\_nuclear\\textbackslash{}\\_power (1).csv.66] 'RT @mention Anti nuclear power T-shirt \\{link\\} \\#nonukes'\n\\item[sentiment\\textbackslash{}\\_nuclear\\textbackslash{}\\_power (1).csv.107] 'RT @mention I am tweeting, \\&quot;Stop the nuclear power plant\\&quot;. Please give \\&quot;Re-Tweet\\&quot; to my tweet. \\#no\\_nukes \\#genpatsu \\#\\&\\#21407;\\&\\#30330;\\&\\#12392;\\&\\#12417;\\&\\#12429;\\#s\\_t\\_r'\n\\item[sentiment\\textbackslash{}\\_nuclear\\textbackslash{}\\_power (1).csv.108] '@mention I want to stop the nuclear power plant all over the world now.So I shout it everyday;)So Thanks for your RT and heart.'\n\\item[sentiment\\textbackslash{}\\_nuclear\\textbackslash{}\\_power (1).csv.115] 'RT @mention if we work \\#TOGETHER we can phase-out nuclear power and replace it with clean energy ... :)'\n\\item[sentiment\\textbackslash{}\\_nuclear\\textbackslash{}\\_power (1).csv.136] 'RT @mention New nuclear power plants are just too expensive to build. See what Exelon\\textbackslash{}'s CEO says: \\{link\\}'\n\\item[sentiment\\textbackslash{}\\_nuclear\\textbackslash{}\\_power (1).csv.139] 'RT @mention Not only Japan but also the nuclear power plant all over the world has a lot of problems.Please save children and \\{link\\}'\n\\item[sentiment\\textbackslash{}\\_nuclear\\textbackslash{}\\_power (1).csv.144] 'RT @mention Nuclear energy is a very expensive and dangerous way to boil water. What\\textbackslash{}'s more, when it screws up the earth is uninhabitable for humans.'\n\\item[sentiment\\textbackslash{}\\_nuclear\\textbackslash{}\\_power (1).csv.146] 'RT @mention Nuclear Energy. Clean for now, death to the planet and all of our future generations. Nice work!'\n\\item[sentiment\\textbackslash{}\\_nuclear\\textbackslash{}\\_power (1).csv.166] 'RT @mention RTï\\_\"@mention Report: Ground Under Fukushima Plant Cracking \\&amp; Venting Radioactive Steam \\{link\\} \\&quot;abandon nuclear power altogether\\&quot;'\n\\item[sentiment\\textbackslash{}\\_nuclear\\textbackslash{}\\_power (1).csv.169] 'RT @mention Saudi Arabia boosts its nuclear energy ambitions \\{link\\} \\#nuclear \\&lt; This disturbs me. Women can\\textbackslash{}'t drive there.'\n\\item[sentiment\\textbackslash{}\\_nuclear\\textbackslash{}\\_power (1).csv.178] '@mention still more people than have ever died due to nuclear power in the US'\n\\item[sentiment\\textbackslash{}\\_nuclear\\textbackslash{}\\_power (1).csv.182] '@mention That would be nice. \\&quot;Health and Safety Conciderations: Fukushima Nuclear Power Plant Workers at Risk of Heat-Realted Illness\\&quot;'\n\\end{description*}\n",
            "text/markdown": "sentiment_nuclear_power (1).csv.1\n:   ':Hello Japan is a nuclear power plant crisis. {link}'sentiment_nuclear_power (1).csv.24\n:   '{link} Would you rather have a few dozen wind turbines or a nuclear power plant near your home? . turbines power'sentiment_nuclear_power (1).csv.36\n:   'RT @mention @mention I want to stop the nuclear power plant all over the world now.So I shout it everyday;)So Thanks for your RT and heart.'sentiment_nuclear_power (1).csv.37\n:   '@mention @mention Nuclear Energy is good until something happens. Is it really worth the Risk of Radiation at Extreme Levels! NO!'sentiment_nuclear_power (1).csv.38\n:   '@mention @mention The only problem is that prosperity was built on nuclear energy and not renewables, so they are in trouble now'sentiment_nuclear_power (1).csv.40\n:   'RT @mention @mention we gotta pioneer new technologies to help us all endure the radiation, and shut down #nuclear energy plants for good! #Tesla'sentiment_nuclear_power (1).csv.52\n:   'RT @mention 15 years of French #nuclear #energy use has created so much waste that a *whole room* needs to be dedicated to storage {link}'sentiment_nuclear_power (1).csv.66\n:   'RT @mention Anti nuclear power T-shirt {link} #nonukes'sentiment_nuclear_power (1).csv.107\n:   'RT @mention I am tweeting, &amp;quot;Stop the nuclear power plant&amp;quot;. Please give &amp;quot;Re-Tweet&amp;quot; to my tweet. #no_nukes #genpatsu #&amp;#21407;&amp;#30330;&amp;#12392;&amp;#12417;&amp;#12429;#s_t_r'sentiment_nuclear_power (1).csv.108\n:   '@mention I want to stop the nuclear power plant all over the world now.So I shout it everyday;)So Thanks for your RT and heart.'sentiment_nuclear_power (1).csv.115\n:   'RT @mention if we work #TOGETHER we can phase-out nuclear power and replace it with clean energy ... :)'sentiment_nuclear_power (1).csv.136\n:   'RT @mention New nuclear power plants are just too expensive to build. See what Exelon\\'s CEO says: {link}'sentiment_nuclear_power (1).csv.139\n:   'RT @mention Not only Japan but also the nuclear power plant all over the world has a lot of problems.Please save children and {link}'sentiment_nuclear_power (1).csv.144\n:   'RT @mention Nuclear energy is a very expensive and dangerous way to boil water. What\\'s more, when it screws up the earth is uninhabitable for humans.'sentiment_nuclear_power (1).csv.146\n:   'RT @mention Nuclear Energy. Clean for now, death to the planet and all of our future generations. Nice work!'sentiment_nuclear_power (1).csv.166\n:   'RT @mention RTï_\"@mention Report: Ground Under Fukushima Plant Cracking &amp;amp; Venting Radioactive Steam {link} &amp;quot;abandon nuclear power altogether&amp;quot;'sentiment_nuclear_power (1).csv.169\n:   'RT @mention Saudi Arabia boosts its nuclear energy ambitions {link} #nuclear &amp;lt; This disturbs me. Women can\\'t drive there.'sentiment_nuclear_power (1).csv.178\n:   '@mention still more people than have ever died due to nuclear power in the US'sentiment_nuclear_power (1).csv.182\n:   '@mention That would be nice. &amp;quot;Health and Safety Conciderations: Fukushima Nuclear Power Plant Workers at Risk of Heat-Realted Illness&amp;quot;'\n\n",
            "text/html": [
              "<style>\n",
              ".dl-inline {width: auto; margin:0; padding: 0}\n",
              ".dl-inline>dt, .dl-inline>dd {float: none; width: auto; display: inline-block}\n",
              ".dl-inline>dt::after {content: \":\\0020\"; padding-right: .5ex}\n",
              ".dl-inline>dt:not(:first-of-type) {padding-left: .5ex}\n",
              "</style><dl class=dl-inline><dt>sentiment_nuclear_power (1).csv.1</dt><dd>':Hello Japan is a nuclear power plant crisis. {link}'</dd><dt>sentiment_nuclear_power (1).csv.24</dt><dd>'{link} Would you rather have a few dozen wind turbines or a nuclear power plant near your home? . turbines power'</dd><dt>sentiment_nuclear_power (1).csv.36</dt><dd>'RT @mention @mention I want to stop the nuclear power plant all over the world now.So I shout it everyday;)So Thanks for your RT and heart.'</dd><dt>sentiment_nuclear_power (1).csv.37</dt><dd>'@mention @mention Nuclear Energy is good until something happens. Is it really worth the Risk of Radiation at Extreme Levels! NO!'</dd><dt>sentiment_nuclear_power (1).csv.38</dt><dd>'@mention @mention The only problem is that prosperity was built on nuclear energy and not renewables, so they are in trouble now'</dd><dt>sentiment_nuclear_power (1).csv.40</dt><dd>'RT @mention @mention we gotta pioneer new technologies to help us all endure the radiation, and shut down #nuclear energy plants for good! #Tesla'</dd><dt>sentiment_nuclear_power (1).csv.52</dt><dd>'RT @mention 15 years of French #nuclear #energy use has created so much waste that a *whole room* needs to be dedicated to storage {link}'</dd><dt>sentiment_nuclear_power (1).csv.66</dt><dd>'RT @mention Anti nuclear power T-shirt {link} #nonukes'</dd><dt>sentiment_nuclear_power (1).csv.107</dt><dd>'RT @mention I am tweeting, &amp;quot;Stop the nuclear power plant&amp;quot;. Please give &amp;quot;Re-Tweet&amp;quot; to my tweet. #no_nukes #genpatsu #&amp;#21407;&amp;#30330;&amp;#12392;&amp;#12417;&amp;#12429;#s_t_r'</dd><dt>sentiment_nuclear_power (1).csv.108</dt><dd>'@mention I want to stop the nuclear power plant all over the world now.So I shout it everyday;)So Thanks for your RT and heart.'</dd><dt>sentiment_nuclear_power (1).csv.115</dt><dd>'RT @mention if we work #TOGETHER we can phase-out nuclear power and replace it with clean energy ... :)'</dd><dt>sentiment_nuclear_power (1).csv.136</dt><dd>'RT @mention New nuclear power plants are just too expensive to build. See what Exelon\\'s CEO says: {link}'</dd><dt>sentiment_nuclear_power (1).csv.139</dt><dd>'RT @mention Not only Japan but also the nuclear power plant all over the world has a lot of problems.Please save children and {link}'</dd><dt>sentiment_nuclear_power (1).csv.144</dt><dd>'RT @mention Nuclear energy is a very expensive and dangerous way to boil water. What\\'s more, when it screws up the earth is uninhabitable for humans.'</dd><dt>sentiment_nuclear_power (1).csv.146</dt><dd>'RT @mention Nuclear Energy. Clean for now, death to the planet and all of our future generations. Nice work!'</dd><dt>sentiment_nuclear_power (1).csv.166</dt><dd>'RT @mention RTï_\"@mention Report: Ground Under Fukushima Plant Cracking &amp;amp; Venting Radioactive Steam {link} &amp;quot;abandon nuclear power altogether&amp;quot;'</dd><dt>sentiment_nuclear_power (1).csv.169</dt><dd>'RT @mention Saudi Arabia boosts its nuclear energy ambitions {link} #nuclear &amp;lt; This disturbs me. Women can\\'t drive there.'</dd><dt>sentiment_nuclear_power (1).csv.178</dt><dd>'@mention still more people than have ever died due to nuclear power in the US'</dd><dt>sentiment_nuclear_power (1).csv.182</dt><dd>'@mention That would be nice. &amp;quot;Health and Safety Conciderations: Fukushima Nuclear Power Plant Workers at Risk of Heat-Realted Illness&amp;quot;'</dd></dl>\n"
            ]
          },
          "metadata": {
            "tags": []
          }
        }
      ]
    },
    {
      "cell_type": "code",
      "metadata": {
        "id": "lZ6vzbdnDtzl",
        "colab_type": "code",
        "outputId": "c7fe4b89-5355-4238-f1b7-feecb0c9e684",
        "colab": {
          "base_uri": "https://localhost:8080/",
          "height": 175
        }
      },
      "source": [
        "# We can add additional metadata to our corpus\n",
        "docvars(readtext_corpus, 'course') = 'Text as Data'\n",
        "# If we provided a list to above docvars we would have document level metadata\n",
        "\n",
        "# Look at only subset of the summary with our new metadata/docvar\n",
        "summary(readtext_corpus, 5)"
      ],
      "execution_count": 0,
      "outputs": [
        {
          "output_type": "display_data",
          "data": {
            "text/plain": [
              "  Text                              Types Tokens Sentences\n",
              "1 sentiment_nuclear_power (1).csv.1 13    13     1        \n",
              "2 sentiment_nuclear_power (1).csv.2 15    15     2        \n",
              "3 sentiment_nuclear_power (1).csv.3 18    18     3        \n",
              "4 sentiment_nuclear_power (1).csv.4 25    29     1        \n",
              "5 sentiment_nuclear_power (1).csv.5 26    32     1        \n",
              "  sentiment                                   \n",
              "1 Negative                                    \n",
              "2 Neutral / author is just sharing information\n",
              "3 Neutral / author is just sharing information\n",
              "4 Neutral / author is just sharing information\n",
              "5 Neutral / author is just sharing information\n",
              "  sentiment_confidence_summary                                                  \n",
              "1 \"\"Neutral / author is just sharing information\"\": 0.2\\n\"\"Negative\"\": 0.8\\n    \n",
              "2 \"\"Neutral / author is just sharing information\"\": 1.0\\n                       \n",
              "3 \"\"Neutral / author is just sharing information\"\": 0.667\\n\"\"Negative\"\": 0.333\\n\n",
              "4 \"\"Neutral / author is just sharing information\"\": 1.0\\n                       \n",
              "5 \"\"Neutral / author is just sharing information\"\": 1.0\\n                       \n",
              "  course      \n",
              "1 Text as Data\n",
              "2 Text as Data\n",
              "3 Text as Data\n",
              "4 Text as Data\n",
              "5 Text as Data"
            ],
            "text/latex": "A summary.corpus: 5 × 7\n\\begin{tabular}{r|lllllll}\n  & Text & Types & Tokens & Sentences & sentiment & sentiment\\_confidence\\_summary & course\\\\\n  & <chr> & <int> & <int> & <int> & <chr> & <chr> & <chr>\\\\\n\\hline\n\t1 & sentiment\\_nuclear\\_power (1).csv.1 & 13 & 13 & 1 & Negative                                     & \"\"Neutral / author is just sharing information\"\": 0.2\n\"\"Negative\"\": 0.8\n     & Text as Data\\\\\n\t2 & sentiment\\_nuclear\\_power (1).csv.2 & 15 & 15 & 2 & Neutral / author is just sharing information & \"\"Neutral / author is just sharing information\"\": 1.0\n                        & Text as Data\\\\\n\t3 & sentiment\\_nuclear\\_power (1).csv.3 & 18 & 18 & 3 & Neutral / author is just sharing information & \"\"Neutral / author is just sharing information\"\": 0.667\n\"\"Negative\"\": 0.333\n & Text as Data\\\\\n\t4 & sentiment\\_nuclear\\_power (1).csv.4 & 25 & 29 & 1 & Neutral / author is just sharing information & \"\"Neutral / author is just sharing information\"\": 1.0\n                        & Text as Data\\\\\n\t5 & sentiment\\_nuclear\\_power (1).csv.5 & 26 & 32 & 1 & Neutral / author is just sharing information & \"\"Neutral / author is just sharing information\"\": 1.0\n                        & Text as Data\\\\\n\\end{tabular}\n",
            "text/markdown": "\nA summary.corpus: 5 × 7\n\n| <!--/--> | Text &lt;chr&gt; | Types &lt;int&gt; | Tokens &lt;int&gt; | Sentences &lt;int&gt; | sentiment &lt;chr&gt; | sentiment_confidence_summary &lt;chr&gt; | course &lt;chr&gt; |\n|---|---|---|---|---|---|---|---|\n| 1 | sentiment_nuclear_power (1).csv.1 | 13 | 13 | 1 | Negative                                     | \"\"Neutral / author is just sharing information\"\": 0.2\n\"\"Negative\"\": 0.8\n     | Text as Data |\n| 2 | sentiment_nuclear_power (1).csv.2 | 15 | 15 | 2 | Neutral / author is just sharing information | \"\"Neutral / author is just sharing information\"\": 1.0\n                        | Text as Data |\n| 3 | sentiment_nuclear_power (1).csv.3 | 18 | 18 | 3 | Neutral / author is just sharing information | \"\"Neutral / author is just sharing information\"\": 0.667\n\"\"Negative\"\": 0.333\n | Text as Data |\n| 4 | sentiment_nuclear_power (1).csv.4 | 25 | 29 | 1 | Neutral / author is just sharing information | \"\"Neutral / author is just sharing information\"\": 1.0\n                        | Text as Data |\n| 5 | sentiment_nuclear_power (1).csv.5 | 26 | 32 | 1 | Neutral / author is just sharing information | \"\"Neutral / author is just sharing information\"\": 1.0\n                        | Text as Data |\n\n",
            "text/html": [
              "<table>\n",
              "<caption>A summary.corpus: 5 × 7</caption>\n",
              "<thead>\n",
              "\t<tr><th></th><th scope=col>Text</th><th scope=col>Types</th><th scope=col>Tokens</th><th scope=col>Sentences</th><th scope=col>sentiment</th><th scope=col>sentiment_confidence_summary</th><th scope=col>course</th></tr>\n",
              "\t<tr><th></th><th scope=col>&lt;chr&gt;</th><th scope=col>&lt;int&gt;</th><th scope=col>&lt;int&gt;</th><th scope=col>&lt;int&gt;</th><th scope=col>&lt;chr&gt;</th><th scope=col>&lt;chr&gt;</th><th scope=col>&lt;chr&gt;</th></tr>\n",
              "</thead>\n",
              "<tbody>\n",
              "\t<tr><th scope=row>1</th><td>sentiment_nuclear_power (1).csv.1</td><td>13</td><td>13</td><td>1</td><td>Negative                                    </td><td>\"\"Neutral / author is just sharing information\"\": 0.2\n",
              "\"\"Negative\"\": 0.8\n",
              "    </td><td>Text as Data</td></tr>\n",
              "\t<tr><th scope=row>2</th><td>sentiment_nuclear_power (1).csv.2</td><td>15</td><td>15</td><td>2</td><td>Neutral / author is just sharing information</td><td>\"\"Neutral / author is just sharing information\"\": 1.0\n",
              "                       </td><td>Text as Data</td></tr>\n",
              "\t<tr><th scope=row>3</th><td>sentiment_nuclear_power (1).csv.3</td><td>18</td><td>18</td><td>3</td><td>Neutral / author is just sharing information</td><td>\"\"Neutral / author is just sharing information\"\": 0.667\n",
              "\"\"Negative\"\": 0.333\n",
              "</td><td>Text as Data</td></tr>\n",
              "\t<tr><th scope=row>4</th><td>sentiment_nuclear_power (1).csv.4</td><td>25</td><td>29</td><td>1</td><td>Neutral / author is just sharing information</td><td>\"\"Neutral / author is just sharing information\"\": 1.0\n",
              "                       </td><td>Text as Data</td></tr>\n",
              "\t<tr><th scope=row>5</th><td>sentiment_nuclear_power (1).csv.5</td><td>26</td><td>32</td><td>1</td><td>Neutral / author is just sharing information</td><td>\"\"Neutral / author is just sharing information\"\": 1.0\n",
              "                       </td><td>Text as Data</td></tr>\n",
              "</tbody>\n",
              "</table>\n"
            ]
          },
          "metadata": {
            "tags": []
          }
        }
      ]
    },
    {
      "cell_type": "markdown",
      "metadata": {
        "id": "iPubX7viFGsf",
        "colab_type": "text"
      },
      "source": [
        "### Step 4. Create the DFM.\n",
        "\n",
        "We will take an additional look at the DFM next week. This week we will use it \n",
        "to generate a word cloud."
      ]
    },
    {
      "cell_type": "code",
      "metadata": {
        "id": "s-uA8qNsu2AY",
        "colab_type": "code",
        "colab": {}
      },
      "source": [
        "dfm_nuclear = dfm(readtext_corpus)"
      ],
      "execution_count": 0,
      "outputs": []
    },
    {
      "cell_type": "code",
      "metadata": {
        "id": "oVJPP7aXaWHk",
        "colab_type": "code",
        "outputId": "4fd566bd-f313-4eb4-8a21-8b49d6e9b7e8",
        "colab": {
          "base_uri": "https://localhost:8080/",
          "height": 319
        }
      },
      "source": [
        "dfm_nuclear"
      ],
      "execution_count": 0,
      "outputs": [
        {
          "output_type": "display_data",
          "data": {
            "text/plain": [
              "Document-feature matrix of: 190 documents, 1,220 features (98.4% sparse) and 3 docvars.\n",
              "                                   features\n",
              "docs                                : hello japan is a nuclear power plant\n",
              "  sentiment_nuclear_power (1).csv.1 1     1     1  1 1       1     1     1\n",
              "  sentiment_nuclear_power (1).csv.2 0     0     0  1 0       2     0     0\n",
              "  sentiment_nuclear_power (1).csv.3 0     0     0  0 0       1     1     0\n",
              "  sentiment_nuclear_power (1).csv.4 1     0     0  0 0       1     1     1\n",
              "  sentiment_nuclear_power (1).csv.5 2     0     0  0 0       1     0     0\n",
              "  sentiment_nuclear_power (1).csv.6 0     0     0  0 0       1     1     0\n",
              "                                   features\n",
              "docs                                crisis .\n",
              "  sentiment_nuclear_power (1).csv.1      1 1\n",
              "  sentiment_nuclear_power (1).csv.2      0 1\n",
              "  sentiment_nuclear_power (1).csv.3      0 1\n",
              "  sentiment_nuclear_power (1).csv.4      0 1\n",
              "  sentiment_nuclear_power (1).csv.5      0 3\n",
              "  sentiment_nuclear_power (1).csv.6      0 0\n",
              "[ reached max_ndoc ... 184 more documents, reached max_nfeat ... 1,210 more features ]"
            ]
          },
          "metadata": {
            "tags": []
          }
        }
      ]
    },
    {
      "cell_type": "code",
      "metadata": {
        "id": "Vq0X0RAU9W1c",
        "colab_type": "code",
        "colab": {}
      },
      "source": [
        "tes = c(Mao = \"Political power grows out the barrel of a gun.\",\n",
        " Kanye = \"No one man should have all that power.\",\n",
        " Saying = \"The quick brown fox jumped over the lazy dog.\")"
      ],
      "execution_count": 0,
      "outputs": []
    },
    {
      "cell_type": "code",
      "metadata": {
        "id": "u9LwFdjpJrWh",
        "colab_type": "code",
        "colab": {}
      },
      "source": [
        "tec = corpus(tes)"
      ],
      "execution_count": 0,
      "outputs": []
    },
    {
      "cell_type": "code",
      "metadata": {
        "id": "1TfgUFMPJuKz",
        "colab_type": "code",
        "outputId": "3602f54e-ccf3-4f9a-ba51-5333722e15ba",
        "colab": {
          "base_uri": "https://localhost:8080/",
          "height": 134
        }
      },
      "source": [
        "dfm(tec)"
      ],
      "execution_count": 0,
      "outputs": [
        {
          "output_type": "display_data",
          "data": {
            "text/plain": [
              "Document-feature matrix of: 3 documents, 24 features (61.1% sparse).\n",
              "        features\n",
              "docs     political power grows out the barrel of a gun .\n",
              "  Mao            1     1     1   1   1      1  1 1   1 1\n",
              "  Kanye          0     1     0   0   0      0  0 0   0 1\n",
              "  Saying         0     0     0   0   2      0  0 0   0 1\n",
              "[ reached max_nfeat ... 14 more features ]"
            ]
          },
          "metadata": {
            "tags": []
          }
        }
      ]
    },
    {
      "cell_type": "code",
      "metadata": {
        "id": "uGSMxCOTJvVQ",
        "colab_type": "code",
        "colab": {}
      },
      "source": [
        ""
      ],
      "execution_count": 0,
      "outputs": []
    }
  ]
}